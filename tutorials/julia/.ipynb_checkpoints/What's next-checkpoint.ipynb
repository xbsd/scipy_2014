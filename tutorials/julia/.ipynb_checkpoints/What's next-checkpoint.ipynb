{
 "metadata": {
  "language": "Julia",
  "name": "",
  "signature": "sha256:bccd032ee2c7267828a595d1fc68f0cf5387c19492b960bdfd463806a301024a"
 },
 "nbformat": 3,
 "nbformat_minor": 0,
 "worksheets": [
  {
   "cells": [
    {
     "cell_type": "heading",
     "level": 1,
     "metadata": {},
     "source": [
      "What's next?"
     ]
    },
    {
     "cell_type": "markdown",
     "metadata": {},
     "source": [
      "As Julia is a new language, there are relatively few resources for learning it.\n",
      "\n",
      "Useful learning resources are:\n",
      "\n",
      "- Leah Hanson's blog, with well-written explanations: <http://blog.leahhanson.us/category/julia.html>\n",
      "\n",
      "- Learn Julia in a few minutes: <http://learnxinyminutes.com/docs/julia/>\n",
      "\n",
      "There are a couple of books on Julia in preparation.\n",
      "\n",
      "\n",
      "The main reference manual is\n",
      "\n",
      "- The Julia Manual: <http://julia.readthedocs.org/en/latest/manual/>\n",
      "\n",
      "\n",
      "\n",
      "The best place to get help with any problems is the julia-users Google group: <https://groups.google.com/forum/#!forum/julia-users>\n",
      "\n",
      "The talks from the first JuliaCon conference should be online soon: <http://juliacon.org/>"
     ]
    },
    {
     "cell_type": "heading",
     "level": 2,
     "metadata": {},
     "source": [
      "Packages"
     ]
    },
    {
     "cell_type": "markdown",
     "metadata": {},
     "source": [
      "Probably the easiest way to get started with Julia is to find a package which implements functionality of interest to you and start reading the source code.\n",
      "\n",
      "A rather random selection of interesting packages:"
     ]
    },
    {
     "cell_type": "markdown",
     "metadata": {},
     "source": [
      "- `DataStructures.jl`: data structures\n",
      "- `Lazy.jl`:  functional programming\n",
      "- `JuMP`: optimization library with domain-specific language for defining problems\n",
      "- `TaylorSeries`: $n$-dimensional Taylor series manipulation (I'm a minor co-author)\n"
     ]
    },
    {
     "cell_type": "heading",
     "level": 2,
     "metadata": {},
     "source": [
      "Parallel processing"
     ]
    },
    {
     "cell_type": "markdown",
     "metadata": {},
     "source": [
      "Julia was designed with various types of support for parallel processing. Launching Julia with `julia -p 4` will run Julia with 4 parallel threads. The `@parallel` macro does the necessary:"
     ]
    },
    {
     "cell_type": "code",
     "collapsed": false,
     "input": [
      "nheads = @parallel (+) for i=1:200000000\n",
      "  int(randbool())\n",
      "end"
     ],
     "language": "python",
     "metadata": {},
     "outputs": [
      {
       "metadata": {},
       "output_type": "pyout",
       "prompt_number": 1,
       "text": [
        "100001758"
       ]
      }
     ],
     "prompt_number": 1
    },
    {
     "cell_type": "markdown",
     "metadata": {},
     "source": [
      "For instance, the `ParallelSparseMatMul.jl` package uses this to do sparse matrix multiplication in parallel: <https://github.com/madeleineudell/ParallelSparseMatMul.jl>"
     ]
    }
   ],
   "metadata": {}
  }
 ]
}