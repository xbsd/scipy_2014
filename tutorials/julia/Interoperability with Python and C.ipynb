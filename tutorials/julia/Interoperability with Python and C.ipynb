{
 "metadata": {
  "language": "Julia",
  "name": "",
  "signature": "sha256:56760db8098f2057ee8fad680da8939ea1714e013991ef399778a65ec8aacf87"
 },
 "nbformat": 3,
 "nbformat_minor": 0,
 "worksheets": [
  {
   "cells": [
    {
     "cell_type": "heading",
     "level": 1,
     "metadata": {},
     "source": [
      "Interoperability with Python: the `PyCall` package"
     ]
    },
    {
     "cell_type": "markdown",
     "metadata": {},
     "source": [
      "Coming from the Python ecosystem, the range of packages available in Julia can seem somewhat limited.\n",
      "This is offset, however, by the ease of calling out to packages written in other languages from within Julia."
     ]
    },
    {
     "cell_type": "markdown",
     "metadata": {},
     "source": [
      "In particular, Python interoperability is very easy, thanks to the [`PyCall` package](https://github.com/stevengj/PyCall.jl). This is loaded with"
     ]
    },
    {
     "cell_type": "code",
     "collapsed": false,
     "input": [
      "using PyCall"
     ],
     "language": "python",
     "metadata": {},
     "outputs": [],
     "prompt_number": 1
    },
    {
     "cell_type": "markdown",
     "metadata": {},
     "source": [
      "`PyCall` has a high-level interface that is designed so that the \"transport\" between Julia and Python is transparent from the user's point of view. For example, to import the Python `math` module, we do"
     ]
    },
    {
     "cell_type": "code",
     "collapsed": false,
     "input": [
      "@pyimport math"
     ],
     "language": "python",
     "metadata": {},
     "outputs": [],
     "prompt_number": 2
    },
    {
     "cell_type": "markdown",
     "metadata": {},
     "source": [
      "We can now mix and match Python calls, labelled by the `math.` qualifier, and Julia calls:"
     ]
    },
    {
     "cell_type": "code",
     "collapsed": false,
     "input": [
      "math.sin(0.3*math.pi) - sin(0.3*pi) "
     ],
     "language": "python",
     "metadata": {},
     "outputs": [
      {
       "metadata": {},
       "output_type": "pyout",
       "prompt_number": 3,
       "text": [
        "-1.1102230246251565e-16"
       ]
      }
     ],
     "prompt_number": 3
    },
    {
     "cell_type": "markdown",
     "metadata": {},
     "source": [
      "Array objects are automatically converted:"
     ]
    },
    {
     "cell_type": "code",
     "collapsed": false,
     "input": [
      "@pyimport numpy.random as nprandom\n",
      "nprandom.rand(3,4)"
     ],
     "language": "python",
     "metadata": {},
     "outputs": [
      {
       "metadata": {},
       "output_type": "pyout",
       "prompt_number": 4,
       "text": [
        "3x4 Array{Float64,2}:\n",
        " 0.359419  0.403759  0.705132   0.0992282\n",
        " 0.378327  0.522346  0.642111   0.874695 \n",
        " 0.909846  0.606717  0.0972435  0.976329 "
       ]
      }
     ],
     "prompt_number": 4
    },
    {
     "cell_type": "markdown",
     "metadata": {},
     "source": [
      "Let's define a Julia function:"
     ]
    },
    {
     "cell_type": "code",
     "collapsed": false,
     "input": [
      "objective = x -> cos(x) - x  # This is an Anonymous Function -- like lambda"
     ],
     "language": "python",
     "metadata": {},
     "outputs": [
      {
       "metadata": {},
       "output_type": "pyout",
       "prompt_number": 8,
       "text": [
        "(anonymous function)"
       ]
      }
     ],
     "prompt_number": 8
    },
    {
     "cell_type": "markdown",
     "metadata": {},
     "source": [
      "This is the Julia syntax for an anonymous function (like `lambda` in Python)."
     ]
    },
    {
     "cell_type": "code",
     "collapsed": false,
     "input": [
      "objective(3)"
     ],
     "language": "python",
     "metadata": {},
     "outputs": [
      {
       "metadata": {},
       "output_type": "pyout",
       "prompt_number": 9,
       "text": [
        "-3.989992496600445"
       ]
      }
     ],
     "prompt_number": 9
    },
    {
     "cell_type": "markdown",
     "metadata": {},
     "source": [
      "We can pass this Julia function to a Python module:"
     ]
    },
    {
     "cell_type": "code",
     "collapsed": false,
     "input": [
      "@pyimport scipy.optimize as so\n",
      "so.newton(objective, 1) # Sending the Julia objective function to the scipy newton method !!!"
     ],
     "language": "python",
     "metadata": {},
     "outputs": [
      {
       "metadata": {},
       "output_type": "pyout",
       "prompt_number": 11,
       "text": [
        "0.7390851332151607"
       ]
      }
     ],
     "prompt_number": 11
    },
    {
     "cell_type": "markdown",
     "metadata": {},
     "source": [
      "The main difference from Python is how to access member elements of Python structures."
     ]
    },
    {
     "cell_type": "markdown",
     "metadata": {},
     "source": [
      "Julia has ODE solvers in the `ODE.jl` and `Sundials.jl` packages. But we can also call Python solvers:"
     ]
    },
    {
     "cell_type": "code",
     "collapsed": false,
     "input": [
      "@pyimport scipy.integrate as integrate"
     ],
     "language": "python",
     "metadata": {},
     "outputs": [],
     "prompt_number": 12
    },
    {
     "cell_type": "code",
     "collapsed": false,
     "input": [
      "f(x,t) = -x"
     ],
     "language": "python",
     "metadata": {},
     "outputs": [
      {
       "metadata": {},
       "output_type": "pyout",
       "prompt_number": 13,
       "text": [
        "f (generic function with 1 method)"
       ]
      }
     ],
     "prompt_number": 13
    },
    {
     "cell_type": "code",
     "collapsed": false,
     "input": [
      "t = [0:0.1:10];"
     ],
     "language": "python",
     "metadata": {},
     "outputs": [],
     "prompt_number": 14
    },
    {
     "cell_type": "code",
     "collapsed": false,
     "input": [
      "soln = integrate.odeint(f, 1, t);"
     ],
     "language": "python",
     "metadata": {},
     "outputs": [],
     "prompt_number": 15
    },
    {
     "cell_type": "code",
     "collapsed": false,
     "input": [
      "using PyPlot"
     ],
     "language": "python",
     "metadata": {},
     "outputs": [
      {
       "output_type": "stream",
       "stream": "stderr",
       "text": [
        "INFO: Loading help data...\n"
       ]
      }
     ],
     "prompt_number": 16
    },
    {
     "cell_type": "markdown",
     "metadata": {},
     "source": [
      "Note that the `PyPlot` module provides a higher-level wrapper than `PyCall` around `matplotlib`."
     ]
    },
    {
     "cell_type": "code",
     "collapsed": false,
     "input": [
      "plot(t, soln)\n",
      "plot(t, exp(-t))"
     ],
     "language": "python",
     "metadata": {},
     "outputs": [
      {
       "metadata": {},
       "output_type": "display_data",
       "png": "[encoded data removed]",
       "text": [
        "Figure(PyObject <matplotlib.figure.Figure object at 0x1105c4b10>)"
       ]
      },
      {
       "metadata": {},
       "output_type": "pyout",
       "prompt_number": 17,
       "text": [
        "1-element Array{Any,1}:\n",
        " PyObject <matplotlib.lines.Line2D object at 0x11220fc90>"
       ]
      }
     ],
     "prompt_number": 17
    },
    {
     "cell_type": "heading",
     "level": 2,
     "metadata": {},
     "source": [
      "Subtle difference from Python"
     ]
    },
    {
     "cell_type": "markdown",
     "metadata": {},
     "source": [
      "**Accessing fields (properties) and methods of Python objects uses the `obj.a` and `obj.b()` syntax, where `obj` is a Python object.\n",
      "However, currently the `obj.b` syntax in Julia is restricted to accessing fields of Julia composite types.**\n",
      "\n",
      "** For this reason, to access fields and methods of Python objects via PyCall, it is necessary to use the syntax **\n",
      "\n",
      "**`obj[:a]` for fields, and **\n",
      "\n",
      "** `obj[:a]()` for methods **\n",
      "\n",
      "** Here, we are using the Julia syntax `:a` to mean the Julia symbol `a`. **"
     ]
    },
    {
     "cell_type": "heading",
     "level": 2,
     "metadata": {},
     "source": [
      "Lower level"
     ]
    },
    {
     "cell_type": "markdown",
     "metadata": {},
     "source": [
      "The high-level `PyCall` interface is built on top of a lower-level interface which deals with the \"transport\" of objects between Python and Julia, based on a `PyObject` Julia type that wraps `PyObject*` in C, and represents a reference to a Python object.\n",
      "\n"
     ]
    },
    {
     "cell_type": "code",
     "collapsed": false,
     "input": [
      "PyObject(3)"
     ],
     "language": "python",
     "metadata": {},
     "outputs": [
      {
       "metadata": {},
       "output_type": "pyout",
       "prompt_number": 18,
       "text": [
        "PyObject 3"
       ]
      }
     ],
     "prompt_number": 18
    },
    {
     "cell_type": "code",
     "collapsed": false,
     "input": [
      "x = rand(5, 5)"
     ],
     "language": "python",
     "metadata": {},
     "outputs": [
      {
       "metadata": {},
       "output_type": "pyout",
       "prompt_number": 19,
       "text": [
        "5x5 Array{Float64,2}:\n",
        " 0.131578   0.273201  0.336607   0.380144  0.492062 \n",
        " 0.626088   0.431652  0.525586   0.823169  0.181378 \n",
        " 0.0891244  0.69236   0.27376    0.648237  0.0733834\n",
        " 0.959673   0.784487  0.68896    0.27783   0.505455 \n",
        " 0.190775   0.784207  0.0236975  0.801799  0.667257 "
       ]
      }
     ],
     "prompt_number": 19
    },
    {
     "cell_type": "code",
     "collapsed": false,
     "input": [
      "xx = PyObject(x)"
     ],
     "language": "python",
     "metadata": {},
     "outputs": [
      {
       "metadata": {},
       "output_type": "pyout",
       "prompt_number": 20,
       "text": [
        "PyObject array([[ 0.13157785,  0.27320071,  0.33660667,  0.38014396,  0.49206161],\n",
        "       [ 0.62608815,  0.43165187,  0.52558629,  0.82316943,  0.1813777 ],\n",
        "       [ 0.08912436,  0.69236023,  0.27375957,  0.64823711,  0.07338343],\n",
        "       [ 0.95967301,  0.78448743,  0.68896003,  0.27783037,  0.50545457],\n",
        "       [ 0.19077482,  0.78420735,  0.02369747,  0.80179855,  0.6672572 ]])"
       ]
      }
     ],
     "prompt_number": 20
    },
    {
     "cell_type": "code",
     "collapsed": false,
     "input": [
      "typeof(xx)"
     ],
     "language": "python",
     "metadata": {},
     "outputs": [
      {
       "metadata": {},
       "output_type": "pyout",
       "prompt_number": 21,
       "text": [
        "PyObject (constructor with 29 methods)"
       ]
      }
     ],
     "prompt_number": 21
    },
    {
     "cell_type": "code",
     "collapsed": false,
     "input": [
      "methods(PyObject)"
     ],
     "language": "python",
     "metadata": {},
     "outputs": [
      {
       "html": [
        "29 methods for generic function <b>PyObject</b>:<ul><li> PyObject(o::<b>Ptr{PyObject_struct}</b>) at <a href=\"https://github.com/stevengj/PyCall.jl/tree/7798d4e44493415c07e9ed2ef7b708f6936bf1c4/src/PyCall.jl#L86\" target=\"_blank\">/Users/xbsd/.julia/v0.3/PyCall/src/PyCall.jl:86</a><li> PyObject() at <a href=\"https://github.com/stevengj/PyCall.jl/tree/7798d4e44493415c07e9ed2ef7b708f6936bf1c4/src/PyCall.jl#L90\" target=\"_blank\">/Users/xbsd/.julia/v0.3/PyCall/src/PyCall.jl:90</a><li> PyObject(o::<b>PyObject</b>) at <a href=\"https://github.com/stevengj/PyCall.jl/tree/7798d4e44493415c07e9ed2ef7b708f6936bf1c4/src/PyCall.jl#L130\" target=\"_blank\">/Users/xbsd/.julia/v0.3/PyCall/src/PyCall.jl:130</a><li> PyObject(o::<b>Ptr{PyObject_struct}</b>,keep) at <a href=\"https://github.com/stevengj/PyCall.jl/tree/7798d4e44493415c07e9ed2ef7b708f6936bf1c4/src/PyCall.jl#L517\" target=\"_blank\">/Users/xbsd/.julia/v0.3/PyCall/src/PyCall.jl:517</a><li> PyObject(i::<b>Unsigned</b>) at <a href=\"https://github.com/stevengj/PyCall.jl/tree/7798d4e44493415c07e9ed2ef7b708f6936bf1c4/src/conversions.jl#L8\" target=\"_blank\">/Users/xbsd/.julia/v0.3/PyCall/src/conversions.jl:8</a><li> PyObject(b::<b>Bool</b>) at <a href=\"https://github.com/stevengj/PyCall.jl/tree/7798d4e44493415c07e9ed2ef7b708f6936bf1c4/src/conversions.jl#L13\" target=\"_blank\">/Users/xbsd/.julia/v0.3/PyCall/src/conversions.jl:13</a><li> PyObject(i::<b>BigInt</b>) at <a href=\"https://github.com/stevengj/PyCall.jl/tree/7798d4e44493415c07e9ed2ef7b708f6936bf1c4/src/conversions.jl#L683\" target=\"_blank\">/Users/xbsd/.julia/v0.3/PyCall/src/conversions.jl:683</a><li> PyObject(i::<b>Integer</b>) at <a href=\"https://github.com/stevengj/PyCall.jl/tree/7798d4e44493415c07e9ed2ef7b708f6936bf1c4/src/conversions.jl#L10\" target=\"_blank\">/Users/xbsd/.julia/v0.3/PyCall/src/conversions.jl:10</a><li> PyObject(x::<b>BigFloat</b>) at <a href=\"https://github.com/stevengj/PyCall.jl/tree/7798d4e44493415c07e9ed2ef7b708f6936bf1c4/src/conversions.jl#L654\" target=\"_blank\">/Users/xbsd/.julia/v0.3/PyCall/src/conversions.jl:654</a><li> PyObject(r::<b>Real</b>) at <a href=\"https://github.com/stevengj/PyCall.jl/tree/7798d4e44493415c07e9ed2ef7b708f6936bf1c4/src/conversions.jl#L16\" target=\"_blank\">/Users/xbsd/.julia/v0.3/PyCall/src/conversions.jl:16</a><li> PyObject(x::<b>Complex{BigFloat}</b>) at <a href=\"https://github.com/stevengj/PyCall.jl/tree/7798d4e44493415c07e9ed2ef7b708f6936bf1c4/src/conversions.jl#L659\" target=\"_blank\">/Users/xbsd/.julia/v0.3/PyCall/src/conversions.jl:659</a><li> PyObject(c::<b>Complex{T<:Real}</b>) at <a href=\"https://github.com/stevengj/PyCall.jl/tree/7798d4e44493415c07e9ed2ef7b708f6936bf1c4/src/conversions.jl#L19\" target=\"_blank\">/Users/xbsd/.julia/v0.3/PyCall/src/conversions.jl:19</a><li> PyObject(n::<b>Nothing</b>) at <a href=\"https://github.com/stevengj/PyCall.jl/tree/7798d4e44493415c07e9ed2ef7b708f6936bf1c4/src/conversions.jl#L23\" target=\"_blank\">/Users/xbsd/.julia/v0.3/PyCall/src/conversions.jl:23</a><li> PyObject(s::<b>UTF8String</b>) at <a href=\"https://github.com/stevengj/PyCall.jl/tree/7798d4e44493415c07e9ed2ef7b708f6936bf1c4/src/conversions.jl#L55\" target=\"_blank\">/Users/xbsd/.julia/v0.3/PyCall/src/conversions.jl:55</a><li> PyObject(s::<b>String</b>) at <a href=\"https://github.com/stevengj/PyCall.jl/tree/7798d4e44493415c07e9ed2ef7b708f6936bf1c4/src/conversions.jl#L61\" target=\"_blank\">/Users/xbsd/.julia/v0.3/PyCall/src/conversions.jl:61</a><li> PyObject(s::<b>Symbol</b>) at <a href=\"https://github.com/stevengj/PyCall.jl/tree/7798d4e44493415c07e9ed2ef7b708f6936bf1c4/src/conversions.jl#L86\" target=\"_blank\">/Users/xbsd/.julia/v0.3/PyCall/src/conversions.jl:86</a><li> PyObject(a::<b>Array{Uint8,1}</b>) at <a href=\"https://github.com/stevengj/PyCall.jl/tree/7798d4e44493415c07e9ed2ef7b708f6936bf1c4/src/conversions.jl#L92\" target=\"_blank\">/Users/xbsd/.julia/v0.3/PyCall/src/conversions.jl:92</a><li> PyObject(p::<b>Ptr{T}</b>) at <a href=\"https://github.com/stevengj/PyCall.jl/tree/7798d4e44493415c07e9ed2ef7b708f6936bf1c4/src/conversions.jl#L131\" target=\"_blank\">/Users/xbsd/.julia/v0.3/PyCall/src/conversions.jl:131</a><li> PyObject(t::<b>(Any...,)</b>) at <a href=\"https://github.com/stevengj/PyCall.jl/tree/7798d4e44493415c07e9ed2ef7b708f6936bf1c4/src/conversions.jl#L188\" target=\"_blank\">/Users/xbsd/.julia/v0.3/PyCall/src/conversions.jl:188</a><li> PyObject<i>{T<:Union(Int16,Uint32,Float64,Int64,Uint8,Complex{Float64},Float32,Ptr{PyObject_struct},Complex{Float32},Int32,Int8,Uint16,Uint64)}</i>(a::<b>Union(DenseArray{T<:Union(Int16,Uint32,Float64,Int64,Uint8,Complex{Float64},Float32,Ptr{PyObject_struct},Complex{Float32},Int32,Int8,Uint16,Uint64),N},SubArray{T<:Union(Int16,Uint32,Float64,Int64,Uint8,Complex{Float64},Float32,Ptr{PyObject_struct},Complex{Float32},Int32,Int8,Uint16,Uint64),N,A<:DenseArray{T,N},I<:(Union(Range{Int64},Int64)...,)})</b>) at <a href=\"https://github.com/stevengj/PyCall.jl/tree/7798d4e44493415c07e9ed2ef7b708f6936bf1c4/src/numpy.jl#L180\" target=\"_blank\">/Users/xbsd/.julia/v0.3/PyCall/src/numpy.jl:180</a><li> PyObject(a::<b>PyArray{T,N}</b>) at <a href=\"https://github.com/stevengj/PyCall.jl/tree/7798d4e44493415c07e9ed2ef7b708f6936bf1c4/src/numpy.jl#L402\" target=\"_blank\">/Users/xbsd/.julia/v0.3/PyCall/src/numpy.jl:402</a><li> PyObject<i>{T<:Integer}</i>(r::<b>Range{T<:Integer}</b>) at <a href=\"https://github.com/stevengj/PyCall.jl/tree/7798d4e44493415c07e9ed2ef7b708f6936bf1c4/src/conversions.jl#L594\" target=\"_blank\">/Users/xbsd/.julia/v0.3/PyCall/src/conversions.jl:594</a><li> PyObject(A::<b>AbstractArray{T,N}</b>) at <a href=\"https://github.com/stevengj/PyCall.jl/tree/7798d4e44493415c07e9ed2ef7b708f6936bf1c4/src/conversions.jl#L331\" target=\"_blank\">/Users/xbsd/.julia/v0.3/PyCall/src/conversions.jl:331</a><li> PyObject(d::<b>Associative{K,V}</b>) at <a href=\"https://github.com/stevengj/PyCall.jl/tree/7798d4e44493415c07e9ed2ef7b708f6936bf1c4/src/conversions.jl#L573\" target=\"_blank\">/Users/xbsd/.julia/v0.3/PyCall/src/conversions.jl:573</a><li> PyObject(f::<b>Function</b>) at <a href=\"https://github.com/stevengj/PyCall.jl/tree/7798d4e44493415c07e9ed2ef7b708f6936bf1c4/src/callback.jl#L79\" target=\"_blank\">/Users/xbsd/.julia/v0.3/PyCall/src/callback.jl:79</a><li> PyObject(io::<b>IO</b>) at <a href=\"https://github.com/stevengj/PyCall.jl/tree/7798d4e44493415c07e9ed2ef7b708f6936bf1c4/src/io.jl#L380\" target=\"_blank\">/Users/xbsd/.julia/v0.3/PyCall/src/io.jl:380</a><li> PyObject(f::<b>Figure</b>) at <a href=\"https://github.com/stevengj/PyPlot.jl/tree/53bdbdcef3e8f5bac7593179bf338492d9762ac0/src/PyPlot.jl#L124\" target=\"_blank\">/Users/xbsd/.julia/v0.3/PyPlot/src/PyPlot.jl:124</a><li> PyObject(c::<b>ColorMap</b>) at <a href=\"https://github.com/stevengj/PyPlot.jl/tree/53bdbdcef3e8f5bac7593179bf338492d9762ac0/src/colormaps.jl#L17\" target=\"_blank\">/Users/xbsd/.julia/v0.3/PyPlot/src/colormaps.jl:17</a><li> PyObject(x) at <a href=\"https://github.com/stevengj/PyCall.jl/tree/7798d4e44493415c07e9ed2ef7b708f6936bf1c4/src/pytype.jl#L466\" target=\"_blank\">/Users/xbsd/.julia/v0.3/PyCall/src/pytype.jl:466</a></ul>"
       ],
       "metadata": {},
       "output_type": "pyout",
       "prompt_number": 22,
       "text": [
        "# 29 methods for generic function \"PyObject\":\n",
        "PyObject(o::Ptr{PyObject_struct}) at /Users/xbsd/.julia/v0.3/PyCall/src/PyCall.jl:86\n",
        "PyObject() at /Users/xbsd/.julia/v0.3/PyCall/src/PyCall.jl:90\n",
        "PyObject(o::PyObject) at /Users/xbsd/.julia/v0.3/PyCall/src/PyCall.jl:130\n",
        "PyObject(o::Ptr{PyObject_struct},keep) at /Users/xbsd/.julia/v0.3/PyCall/src/PyCall.jl:517\n",
        "PyObject(i::Unsigned) at /Users/xbsd/.julia/v0.3/PyCall/src/conversions.jl:8\n",
        "PyObject(b::Bool) at /Users/xbsd/.julia/v0.3/PyCall/src/conversions.jl:13\n",
        "PyObject(i::BigInt) at /Users/xbsd/.julia/v0.3/PyCall/src/conversions.jl:683\n",
        "PyObject(i::Integer) at /Users/xbsd/.julia/v0.3/PyCall/src/conversions.jl:10\n",
        "PyObject(x::BigFloat) at /Users/xbsd/.julia/v0.3/PyCall/src/conversions.jl:654\n",
        "PyObject(r::Real) at /Users/xbsd/.julia/v0.3/PyCall/src/conversions.jl:16\n",
        "PyObject(x::Complex{BigFloat}) at /Users/xbsd/.julia/v0.3/PyCall/src/conversions.jl:659\n",
        "PyObject(c::Complex{T<:Real}) at /Users/xbsd/.julia/v0.3/PyCall/src/conversions.jl:19\n",
        "PyObject(n::Nothing) at /Users/xbsd/.julia/v0.3/PyCall/src/conversions.jl:23\n",
        "PyObject(s::UTF8String) at /Users/xbsd/.julia/v0.3/PyCall/src/conversions.jl:55\n",
        "PyObject(s::String) at /Users/xbsd/.julia/v0.3/PyCall/src/conversions.jl:61\n",
        "PyObject(s::Symbol) at /Users/xbsd/.julia/v0.3/PyCall/src/conversions.jl:86\n",
        "PyObject(a::Array{Uint8,1}) at /Users/xbsd/.julia/v0.3/PyCall/src/conversions.jl:92\n",
        "PyObject(p::Ptr{T}) at /Users/xbsd/.julia/v0.3/PyCall/src/conversions.jl:131\n",
        "PyObject(t::(Any...,)) at /Users/xbsd/.julia/v0.3/PyCall/src/conversions.jl:188\n",
        "PyObject{T<:Union(Int16,Uint32,Float64,Int64,Uint8,Complex{Float64},Float32,Ptr{PyObject_struct},Complex{Float32},Int32,Int8,Uint16,Uint64)}(a::Union(DenseArray{T<:Union(Int16,Uint32,Float64,Int64,Uint8,Complex{Float64},Float32,Ptr{PyObject_struct},Complex{Float32},Int32,Int8,Uint16,Uint64),N},SubArray{T<:Union(Int16,Uint32,Float64,Int64,Uint8,Complex{Float64},Float32,Ptr{PyObject_struct},Complex{Float32},Int32,Int8,Uint16,Uint64),N,A<:DenseArray{T,N},I<:(Union(Range{Int64},Int64)...,)})) at /Users/xbsd/.julia/v0.3/PyCall/src/numpy.jl:180\n",
        "PyObject(a::PyArray{T,N}) at /Users/xbsd/.julia/v0.3/PyCall/src/numpy.jl:402\n",
        "PyObject{T<:Integer}(r::Range{T<:Integer}) at /Users/xbsd/.julia/v0.3/PyCall/src/conversions.jl:594\n",
        "PyObject(A::AbstractArray{T,N}) at /Users/xbsd/.julia/v0.3/PyCall/src/conversions.jl:331\n",
        "PyObject(d::Associative{K,V}) at /Users/xbsd/.julia/v0.3/PyCall/src/conversions.jl:573\n",
        "PyObject(f::Function) at /Users/xbsd/.julia/v0.3/PyCall/src/callback.jl:79\n",
        "PyObject(io::IO) at /Users/xbsd/.julia/v0.3/PyCall/src/io.jl:380\n",
        "PyObject(f::Figure) at /Users/xbsd/.julia/v0.3/PyPlot/src/PyPlot.jl:124\n",
        "PyObject(c::ColorMap) at /Users/xbsd/.julia/v0.3/PyPlot/src/colormaps.jl:17\n",
        "PyObject(x) at /Users/xbsd/.julia/v0.3/PyCall/src/pytype.jl:466"
       ]
      }
     ],
     "prompt_number": 22
    },
    {
     "cell_type": "code",
     "collapsed": false,
     "input": [
      "xx.o # This is a pointer to the PyObject !!!"
     ],
     "language": "python",
     "metadata": {},
     "outputs": [
      {
       "metadata": {},
       "output_type": "pyout",
       "prompt_number": 23,
       "text": [
        "Ptr{PyObject_struct} @0x0000000112925f80"
       ]
      }
     ],
     "prompt_number": 23
    },
    {
     "cell_type": "code",
     "collapsed": false,
     "input": [
      "# xx.shape  in Python becomes:\n",
      "xx[:shape] # This is the Julia equivalent for the Python xx.shape"
     ],
     "language": "python",
     "metadata": {},
     "outputs": [
      {
       "metadata": {},
       "output_type": "pyout",
       "prompt_number": 26,
       "text": [
        "(5,5)"
       ]
      }
     ],
     "prompt_number": 26
    },
    {
     "cell_type": "code",
     "collapsed": false,
     "input": [
      "typeof(ans)  # the result has already been translated back into a Julia object"
     ],
     "language": "python",
     "metadata": {},
     "outputs": [
      {
       "metadata": {},
       "output_type": "pyout",
       "prompt_number": 27,
       "text": [
        "(Int64,Int64)"
       ]
      }
     ],
     "prompt_number": 27
    },
    {
     "cell_type": "markdown",
     "metadata": {},
     "source": [
      "Julia arrays are passed into Python without a copy. By default the resulting Python array is copied when a result is requested in Julia; this can be avoided at a lower level using `pycall` and `PyArray`."
     ]
    },
    {
     "cell_type": "code",
     "collapsed": false,
     "input": [
      "type F\n",
      "    F::Function\n",
      "end"
     ],
     "language": "python",
     "metadata": {},
     "outputs": [],
     "prompt_number": 32
    },
    {
     "cell_type": "code",
     "collapsed": false,
     "input": [
      "hello(x) = x^2"
     ],
     "language": "python",
     "metadata": {},
     "outputs": [
      {
       "metadata": {},
       "output_type": "pyout",
       "prompt_number": 33,
       "text": [
        "hello (generic function with 1 method)"
       ]
      }
     ],
     "prompt_number": 33
    },
    {
     "cell_type": "code",
     "collapsed": false,
     "input": [
      "myfunc = F(hello)"
     ],
     "language": "python",
     "metadata": {},
     "outputs": [
      {
       "metadata": {},
       "output_type": "pyout",
       "prompt_number": 34,
       "text": [
        "F(hello)"
       ]
      }
     ],
     "prompt_number": 34
    },
    {
     "cell_type": "code",
     "collapsed": false,
     "input": [
      "myfunc"
     ],
     "language": "python",
     "metadata": {},
     "outputs": [
      {
       "metadata": {},
       "output_type": "pyout",
       "prompt_number": 35,
       "text": [
        "F(hello)"
       ]
      }
     ],
     "prompt_number": 35
    },
    {
     "cell_type": "code",
     "collapsed": false,
     "input": [
      "myfunc.F"
     ],
     "language": "python",
     "metadata": {},
     "outputs": [
      {
       "metadata": {},
       "output_type": "pyout",
       "prompt_number": 37,
       "text": [
        "hello (generic function with 1 method)"
       ]
      }
     ],
     "prompt_number": 37
    },
    {
     "cell_type": "code",
     "collapsed": false,
     "input": [
      "myfunc.F(3)"
     ],
     "language": "python",
     "metadata": {},
     "outputs": [
      {
       "metadata": {},
       "output_type": "pyout",
       "prompt_number": 38,
       "text": [
        "9"
       ]
      }
     ],
     "prompt_number": 38
    },
    {
     "cell_type": "heading",
     "level": 1,
     "metadata": {},
     "source": [
      "Interoperability with C"
     ]
    },
    {
     "cell_type": "markdown",
     "metadata": {},
     "source": [
      "Julia has a simple way to call C and Fortran functions in shared libraries, via the `ccall` function."
     ]
    },
    {
     "cell_type": "code",
     "collapsed": false,
     "input": [
      "help(\"ccall\")"
     ],
     "language": "python",
     "metadata": {},
     "outputs": [
      {
       "output_type": "stream",
       "stream": "stdout",
       "text": [
        "Base.ccall((symbol, library) or fptr, RetType, (ArgType1, ...), ArgVar1, ...)\n",
        "\n",
        "   Call function in C-exported shared library, specified by\n",
        "   \"(function name, library)\" tuple, where each component is a\n",
        "   String or :Symbol. Alternatively, ccall may be used to call a\n",
        "   function pointer returned by dlsym, but note that this usage is\n",
        "   generally discouraged to facilitate future static compilation. Note\n",
        "   that the argument type tuple must be a literal tuple, and not a\n",
        "   tuple-valued variable or expression.\n"
       ]
      }
     ],
     "prompt_number": 25
    },
    {
     "cell_type": "markdown",
     "metadata": {},
     "source": [
      "We see that we must specify:\n",
      "\n",
      "- the name of the function, as a Julia symbol or as a string\n",
      "- and the name of the shared library where it lives;  these are given as an ordered pair (tuple)\n",
      "\n",
      "\n",
      "- the return type of the function\n",
      "\n",
      "- the argument types that the function accepts, as a tuple\n",
      "\n",
      "- and the arguments themselves"
     ]
    },
    {
     "cell_type": "markdown",
     "metadata": {},
     "source": [
      "A simple example is to call the clock function:"
     ]
    },
    {
     "cell_type": "code",
     "collapsed": false,
     "input": [
      "t = ccall( (:clock, \"libc\"), Int32, ())"
     ],
     "language": "python",
     "metadata": {},
     "outputs": [
      {
       "metadata": {},
       "output_type": "pyout",
       "prompt_number": 27,
       "text": [
        "56613178"
       ]
      }
     ],
     "prompt_number": 27
    },
    {
     "cell_type": "code",
     "collapsed": false,
     "input": [
      "t"
     ],
     "language": "python",
     "metadata": {},
     "outputs": [
      {
       "metadata": {},
       "output_type": "pyout",
       "prompt_number": 28,
       "text": [
        "56613178"
       ]
      }
     ],
     "prompt_number": 28
    },
    {
     "cell_type": "code",
     "collapsed": false,
     "input": [
      "typeof(t)"
     ],
     "language": "python",
     "metadata": {},
     "outputs": [
      {
       "metadata": {},
       "output_type": "pyout",
       "prompt_number": 29,
       "text": [
        "Int32"
       ]
      }
     ],
     "prompt_number": 29
    },
    {
     "cell_type": "code",
     "collapsed": false,
     "input": [
      "help(\"ccall\")"
     ],
     "language": "python",
     "metadata": {},
     "outputs": [
      {
       "output_type": "stream",
       "stream": "stdout",
       "text": [
        "Base.ccall((symbol, library) or fptr, RetType, (ArgType1, ...), ArgVar1, ...)\n",
        "\n",
        "   Call function in C-exported shared library, specified by\n",
        "   \"(function name, library)\" tuple, where each component is a\n",
        "   String or :Symbol. Alternatively, ccall may be used to call a\n",
        "   function pointer returned by dlsym, but note that this usage is\n",
        "   generally discouraged to facilitate future static compilation. Note\n",
        "   that the argument type tuple must be a literal tuple, and not a\n",
        "   tuple-valued variable or expression.\n"
       ]
      }
     ],
     "prompt_number": 36
    },
    {
     "cell_type": "code",
     "collapsed": false,
     "input": [
      "path = ccall( (:getenv, \"libc\"), Ptr{Uint8}, (Ptr{Uint8},), \"PATH\")"
     ],
     "language": "python",
     "metadata": {},
     "outputs": [
      {
       "metadata": {},
       "output_type": "pyout",
       "prompt_number": 21,
       "text": [
        "Ptr{Uint8} @0x00007fa96d88df05"
       ]
      }
     ],
     "prompt_number": 21
    },
    {
     "cell_type": "markdown",
     "metadata": {},
     "source": [
      "Here, `Ptr` denotes a pointer to the given type."
     ]
    },
    {
     "cell_type": "code",
     "collapsed": false,
     "input": [
      "path"
     ],
     "language": "python",
     "metadata": {},
     "outputs": [
      {
       "metadata": {},
       "output_type": "pyout",
       "prompt_number": 31,
       "text": [
        "Ptr{Uint8} @0x00007fff50e46ed5"
       ]
      }
     ],
     "prompt_number": 31
    },
    {
     "cell_type": "code",
     "collapsed": false,
     "input": [
      "bytestring(path) # VERY INTERESTING !!"
     ],
     "language": "python",
     "metadata": {},
     "outputs": [
      {
       "metadata": {},
       "output_type": "pyout",
       "prompt_number": 33,
       "text": [
        "\"/bin/bash\""
       ]
      }
     ],
     "prompt_number": 33
    },
    {
     "cell_type": "code",
     "collapsed": false,
     "input": [
      "?bytestring"
     ],
     "language": "python",
     "metadata": {},
     "outputs": [
      {
       "output_type": "stream",
       "stream": "stdout",
       "text": [
        "Base.bytestring(::Ptr{Uint8}[, length])\n",
        "\n",
        "   Create a string from the address of a C (0-terminated) string\n",
        "   encoded in ASCII or UTF-8. A copy is made; the ptr can be safely\n",
        "   freed. If \"length\" is specified, the string does not have to be\n",
        "   0-terminated.\n"
       ]
      },
      {
       "output_type": "stream",
       "stream": "stdout",
       "text": [
        "\n",
        "Base.bytestring(s)\n",
        "\n",
        "   Convert a string to a contiguous byte array representation\n",
        "   appropriate for passing it to C functions. The string will be\n",
        "   encoded as either ASCII or UTF-8.\n"
       ]
      }
     ],
     "prompt_number": 34
    },
    {
     "cell_type": "code",
     "collapsed": false,
     "input": [
      "Ptr"
     ],
     "language": "python",
     "metadata": {},
     "outputs": [
      {
       "metadata": {},
       "output_type": "pyout",
       "prompt_number": 37,
       "text": [
        "Ptr{T}"
       ]
      }
     ],
     "prompt_number": 37
    },
    {
     "cell_type": "code",
     "collapsed": false,
     "input": [
      "methods(Ptr)"
     ],
     "language": "python",
     "metadata": {},
     "outputs": [
      {
       "metadata": {},
       "output_type": "pyout",
       "prompt_number": 38,
       "text": [
        "Ptr{T}"
       ]
      }
     ],
     "prompt_number": 38
    },
    {
     "cell_type": "code",
     "collapsed": false,
     "input": [
      "methodswith(Ptr)"
     ],
     "language": "python",
     "metadata": {},
     "outputs": [
      {
       "html": [
        "58-element Array{Method,1}:<ul><li> show<i>{T}</i>(io::<b>IO</b>,p::<b>Ptr{T}</b>) at <a href=\"https://github.com/JuliaLang/julia/tree/7e7462150f72721caf0e6bd6e7e7e500d1efb187/base/show.jl#L116\" target=\"_blank\">show.jl:116</a><li> unsafe_store!<i>{T}</i>(p::<b>Ptr{T}</b>,x,i::<b>Integer</b>) at <a href=\"https://github.com/JuliaLang/julia/tree/7e7462150f72721caf0e6bd6e7e7e500d1efb187/base/pointer.jl#L48\" target=\"_blank\">pointer.jl:48</a><li> unsafe_store!<i>{T}</i>(p::<b>Ptr{T}</b>,x) at <a href=\"https://github.com/JuliaLang/julia/tree/7e7462150f72721caf0e6bd6e7e7e500d1efb187/base/pointer.jl#L49\" target=\"_blank\">pointer.jl:49</a><li> msync(p::<b>Ptr{T}</b>,len::<b>Integer</b>,flags::<b>Integer</b>) at <a href=\"https://github.com/JuliaLang/julia/tree/7e7462150f72721caf0e6bd6e7e7e500d1efb187/base/mmap.jl#L70\" target=\"_blank\">mmap.jl:70</a><li> msync(p::<b>Ptr{T}</b>,len::<b>Integer</b>) at <a href=\"https://github.com/JuliaLang/julia/tree/7e7462150f72721caf0e6bd6e7e7e500d1efb187/base/mmap.jl#L72\" target=\"_blank\">mmap.jl:72</a><li> integer(x::<b>Ptr{T}</b>) at <a href=\"https://github.com/JuliaLang/julia/tree/7e7462150f72721caf0e6bd6e7e7e500d1efb187/base/pointer.jl#L55\" target=\"_blank\">pointer.jl:55</a><li> read!(from::<b>IOBuffer</b>,p::<b>Ptr{T}</b>,nb::<b>Int64</b>) at <a href=\"https://github.com/JuliaLang/julia/tree/7e7462150f72721caf0e6bd6e7e7e500d1efb187/base/iobuffer.jl#L70\" target=\"_blank\">iobuffer.jl:70</a><li> read!(from::<b>IOBuffer</b>,p::<b>Ptr{T}</b>,nb::<b>Integer</b>) at <a href=\"https://github.com/JuliaLang/julia/tree/7e7462150f72721caf0e6bd6e7e7e500d1efb187/base/iobuffer.jl#L68\" target=\"_blank\">iobuffer.jl:68</a><li> show<i>{T}</i>(io::<b>IO</b>,p::<b>Ptr{T}</b>) at <a href=\"https://github.com/JuliaLang/julia/tree/7e7462150f72721caf0e6bd6e7e7e500d1efb187/base/show.jl#L116\" target=\"_blank\">show.jl:116</a><li> -(x::<b>Ptr{T}</b>,y::<b>Ptr{T}</b>) at <a href=\"https://github.com/JuliaLang/julia/tree/7e7462150f72721caf0e6bd6e7e7e500d1efb187/base/pointer.jl#L64\" target=\"_blank\">pointer.jl:64</a><li> -(x::<b>Ptr{T}</b>,y::<b>Integer</b>) at <a href=\"https://github.com/JuliaLang/julia/tree/7e7462150f72721caf0e6bd6e7e7e500d1efb187/base/pointer.jl#L67\" target=\"_blank\">pointer.jl:67</a><li> write(to::<b>IOBuffer</b>,p::<b>Ptr{T}</b>,nb::<b>Int64</b>) at <a href=\"https://github.com/JuliaLang/julia/tree/7e7462150f72721caf0e6bd6e7e7e500d1efb187/base/iobuffer.jl#L237\" target=\"_blank\">iobuffer.jl:237</a><li> write(to::<b>IOBuffer</b>,p::<b>Ptr{T}</b>,nb::<b>Integer</b>) at <a href=\"https://github.com/JuliaLang/julia/tree/7e7462150f72721caf0e6bd6e7e7e500d1efb187/base/iobuffer.jl#L235\" target=\"_blank\">iobuffer.jl:235</a><li> write(to::<b>IOBuffer</b>,p::<b>Ptr{T}</b>) at <a href=\"https://github.com/JuliaLang/julia/tree/7e7462150f72721caf0e6bd6e7e7e500d1efb187/base/iobuffer.jl#L278\" target=\"_blank\">iobuffer.jl:278</a><li> write(s::<b>IOStream</b>,p::<b>Ptr{T}</b>,nb::<b>Integer</b>) at <a href=\"https://github.com/JuliaLang/julia/tree/7e7462150f72721caf0e6bd6e7e7e500d1efb187/base/iostream.jl#L159\" target=\"_blank\">iostream.jl:159</a><li> write(s::<b>AsyncStream</b>,p::<b>Ptr{T}</b>,nb::<b>Integer</b>) at <a href=\"https://github.com/JuliaLang/julia/tree/7e7462150f72721caf0e6bd6e7e7e500d1efb187/base/stream.jl#L790\" target=\"_blank\">stream.jl:790</a><li> write(s::<b>GZipStream</b>,p::<b>Ptr{T}</b>,nb::<b>Integer</b>) at <a href=\"https://github.com/kmsquire/GZip.jl/tree/268a606062d9c3543bbdd4effa6ec74aaa4a47b5/src/GZip.jl#L448\" target=\"_blank\">/Users/david/.julia/GZip/src/GZip.jl:448</a><li> write(s::<b>IO</b>,p::<b>Ptr{T}</b>,n::<b>Integer</b>) at <a href=\"https://github.com/JuliaLang/julia/tree/7e7462150f72721caf0e6bd6e7e7e500d1efb187/base/io.jl#L91\" target=\"_blank\">io.jl:91</a><li> pointer<i>{T}</i>(::<b>Type{T}</b>,x::<b>Ptr{T}</b>) at <a href=\"https://github.com/JuliaLang/julia/tree/7e7462150f72721caf0e6bd6e7e7e500d1efb187/base/deprecated.jl#L26\" target=\"_blank\">deprecated.jl:26</a><li> zero<i>{T}</i>(x::<b>Ptr{T}</b>) at <a href=\"https://github.com/JuliaLang/julia/tree/7e7462150f72721caf0e6bd6e7e7e500d1efb187/base/pointer.jl#L71\" target=\"_blank\">pointer.jl:71</a><li> unsigned(x::<b>Ptr{T}</b>) at <a href=\"https://github.com/JuliaLang/julia/tree/7e7462150f72721caf0e6bd6e7e7e500d1efb187/base/pointer.jl#L56\" target=\"_blank\">pointer.jl:56</a><li> pointer_to_array<i>{T,N}</i>(p::<b>Ptr{T}</b>,dims::<b>NTuple{N,Int64}</b>) at <a href=\"https://github.com/JuliaLang/julia/tree/7e7462150f72721caf0e6bd6e7e7e500d1efb187/base/pointer.jl#L34\" target=\"_blank\">pointer.jl:34</a><li> pointer_to_array<i>{T,N}</i>(p::<b>Ptr{T}</b>,dims::<b>NTuple{N,Int64}</b>,own::<b>Bool</b>) at <a href=\"https://github.com/JuliaLang/julia/tree/7e7462150f72721caf0e6bd6e7e7e500d1efb187/base/pointer.jl#L34\" target=\"_blank\">pointer.jl:34</a><li> pointer_to_array<i>{T,N}</i>(p::<b>Ptr{T}</b>,dims::<b>NTuple{N,Integer}</b>) at <a href=\"https://github.com/JuliaLang/julia/tree/7e7462150f72721caf0e6bd6e7e7e500d1efb187/base/pointer.jl#L38\" target=\"_blank\">pointer.jl:38</a><li> pointer_to_array<i>{T,N}</i>(p::<b>Ptr{T}</b>,dims::<b>NTuple{N,Integer}</b>,own::<b>Bool</b>) at <a href=\"https://github.com/JuliaLang/julia/tree/7e7462150f72721caf0e6bd6e7e7e500d1efb187/base/pointer.jl#L38\" target=\"_blank\">pointer.jl:38</a><li> +(x::<b>Integer</b>,y::<b>Ptr{T}</b>) at <a href=\"https://github.com/JuliaLang/julia/tree/7e7462150f72721caf0e6bd6e7e7e500d1efb187/base/pointer.jl#L68\" target=\"_blank\">pointer.jl:68</a><li> +(x::<b>Ptr{T}</b>,y::<b>Integer</b>) at <a href=\"https://github.com/JuliaLang/julia/tree/7e7462150f72721caf0e6bd6e7e7e500d1efb187/base/pointer.jl#L66\" target=\"_blank\">pointer.jl:66</a><li> one<i>{T}</i>(x::<b>Ptr{T}</b>) at <a href=\"https://github.com/JuliaLang/julia/tree/7e7462150f72721caf0e6bd6e7e7e500d1efb187/base/pointer.jl#L73\" target=\"_blank\">pointer.jl:73</a><li> c_realloc(p::<b>Ptr{T}</b>,size::<b>Integer</b>) at <a href=\"https://github.com/JuliaLang/julia/tree/7e7462150f72721caf0e6bd6e7e7e500d1efb187/base/libc.jl#L90\" target=\"_blank\">libc.jl:90</a><li> dlclose(p::<b>Ptr{T}</b>) at <a href=\"https://github.com/JuliaLang/julia/tree/7e7462150f72721caf0e6bd6e7e7e500d1efb187/base/c.jl#L21\" target=\"_blank\">c.jl:21</a><li> eltype<i>{T}</i>(::<b>Ptr{T}</b>) at <a href=\"https://github.com/JuliaLang/julia/tree/7e7462150f72721caf0e6bd6e7e7e500d1efb187/base/pointer.jl#L59\" target=\"_blank\">pointer.jl:59</a><li> read(from::<b>IOBuffer</b>,p::<b>Ptr{T}</b>,nb::<b>Integer</b>) at <a href=\"https://github.com/JuliaLang/julia/tree/7e7462150f72721caf0e6bd6e7e7e500d1efb187/base/deprecated.jl#L26\" target=\"_blank\">deprecated.jl:26</a><li> unsafe_load(p::<b>Ptr{T}</b>,i::<b>Integer</b>) at <a href=\"https://github.com/JuliaLang/julia/tree/7e7462150f72721caf0e6bd6e7e7e500d1efb187/base/pointer.jl#L45\" target=\"_blank\">pointer.jl:45</a><li> unsafe_load(p::<b>Ptr{T}</b>) at <a href=\"https://github.com/JuliaLang/julia/tree/7e7462150f72721caf0e6bd6e7e7e500d1efb187/base/pointer.jl#L46\" target=\"_blank\">pointer.jl:46</a><li> serialize(s,::<b>Ptr{T}</b>) at <a href=\"https://github.com/JuliaLang/julia/tree/7e7462150f72721caf0e6bd6e7e7e500d1efb187/base/serialize.jl#L60\" target=\"_blank\">serialize.jl:60</a><li> UdpSocket(handle::<b>Ptr{T}</b>) at <a href=\"https://github.com/JuliaLang/julia/tree/7e7462150f72721caf0e6bd6e7e7e500d1efb187/base/socket.jl#L359\" target=\"_blank\">socket.jl:359</a><li> convert(::<b>Type{Uint64}</b>,x::<b>Ptr{T}</b>) at <a href=\"https://github.com/JuliaLang/julia/tree/7e7462150f72721caf0e6bd6e7e7e500d1efb187/base/pointer.jl#L6\" target=\"_blank\">pointer.jl:6</a><li> convert<i>{T<:Integer}</i>(::<b>Type{T<:Integer}</b>,x::<b>Ptr{T}</b>) at <a href=\"https://github.com/JuliaLang/julia/tree/7e7462150f72721caf0e6bd6e7e7e500d1efb187/base/pointer.jl#L7\" target=\"_blank\">pointer.jl:7</a><li> convert<i>{T}</i>(::<b>Type{Ptr{T}}</b>,p::<b>Ptr{T}</b>) at <a href=\"https://github.com/JuliaLang/julia/tree/7e7462150f72721caf0e6bd6e7e7e500d1efb187/base/pointer.jl#L13\" target=\"_blank\">pointer.jl:13</a><li> convert<i>{T}</i>(::<b>Type{Ptr{T}}</b>,p::<b>Ptr{T}</b>) at <a href=\"https://github.com/JuliaLang/julia/tree/7e7462150f72721caf0e6bd6e7e7e500d1efb187/base/pointer.jl#L14\" target=\"_blank\">pointer.jl:14</a><li> unsafe_copy!<i>{T}</i>(dest::<b>Ptr{T}</b>,src::<b>Ptr{T}</b>,N) at <a href=\"https://github.com/JuliaLang/julia/tree/7e7462150f72721caf0e6bd6e7e7e500d1efb187/base/array.jl#L34\" target=\"_blank\">array.jl:34</a><li> c_free(p::<b>Ptr{T}</b>) at <a href=\"https://github.com/JuliaLang/julia/tree/7e7462150f72721caf0e6bd6e7e7e500d1efb187/base/libc.jl#L88\" target=\"_blank\">libc.jl:88</a><li> ==(x::<b>Ptr{T}</b>,y::<b>Ptr{T}</b>) at <a href=\"https://github.com/JuliaLang/julia/tree/7e7462150f72721caf0e6bd6e7e7e500d1efb187/base/pointer.jl#L63\" target=\"_blank\">pointer.jl:63</a><li> unsafe_pointer_to_objref(p::<b>Ptr{T}</b>) at <a href=\"https://github.com/JuliaLang/julia/tree/7e7462150f72721caf0e6bd6e7e7e500d1efb187/base/pointer.jl#L52\" target=\"_blank\">pointer.jl:52</a><li> Message<i>{T}</i>(origin,m::<b>Ptr{T}</b>,len::<b>Integer</b>) at <a href=\"https://github.com/JuliaLang/ZMQ.jl/tree/94e5c9cc756f78ee87446593d5b1b7896067247d/src/ZMQ.jl#L389\" target=\"_blank\">/Users/david/.julia/ZMQ/src/ZMQ.jl:389</a><li> gzread(s::<b>GZipStream</b>,p::<b>Ptr{T}</b>,len::<b>Integer</b>) at <a href=\"https://github.com/kmsquire/GZip.jl/tree/268a606062d9c3543bbdd4effa6ec74aaa4a47b5/src/GZip.jl#L188\" target=\"_blank\">/Users/david/.julia/GZip/src/GZip.jl:188</a><li> gzbuffer(gz_file::<b>Ptr{T}</b>,gz_buf_size::<b>Integer</b>) at <a href=\"https://github.com/kmsquire/GZip.jl/tree/268a606062d9c3543bbdd4effa6ec74aaa4a47b5/src/GZip.jl#L197\" target=\"_blank\">/Users/david/.julia/GZip/src/GZip.jl:197</a><li> show<i>{T}</i>(io::<b>IO</b>,p::<b>Ptr{T}</b>) at <a href=\"https://github.com/JuliaLang/julia/tree/7e7462150f72721caf0e6bd6e7e7e500d1efb187/base/show.jl#L116\" target=\"_blank\">show.jl:116</a><li> write(to::<b>IOBuffer</b>,p::<b>Ptr{T}</b>,nb::<b>Int64</b>) at <a href=\"https://github.com/JuliaLang/julia/tree/7e7462150f72721caf0e6bd6e7e7e500d1efb187/base/iobuffer.jl#L237\" target=\"_blank\">iobuffer.jl:237</a><li> write(to::<b>IOBuffer</b>,p::<b>Ptr{T}</b>,nb::<b>Integer</b>) at <a href=\"https://github.com/JuliaLang/julia/tree/7e7462150f72721caf0e6bd6e7e7e500d1efb187/base/iobuffer.jl#L235\" target=\"_blank\">iobuffer.jl:235</a><li> write(to::<b>IOBuffer</b>,p::<b>Ptr{T}</b>) at <a href=\"https://github.com/JuliaLang/julia/tree/7e7462150f72721caf0e6bd6e7e7e500d1efb187/base/iobuffer.jl#L278\" target=\"_blank\">iobuffer.jl:278</a><li> write(s::<b>IOStream</b>,p::<b>Ptr{T}</b>,nb::<b>Integer</b>) at <a href=\"https://github.com/JuliaLang/julia/tree/7e7462150f72721caf0e6bd6e7e7e500d1efb187/base/iostream.jl#L159\" target=\"_blank\">iostream.jl:159</a><li> write(s::<b>AsyncStream</b>,p::<b>Ptr{T}</b>,nb::<b>Integer</b>) at <a href=\"https://github.com/JuliaLang/julia/tree/7e7462150f72721caf0e6bd6e7e7e500d1efb187/base/stream.jl#L790\" target=\"_blank\">stream.jl:790</a><li> write(s::<b>GZipStream</b>,p::<b>Ptr{T}</b>,nb::<b>Integer</b>) at <a href=\"https://github.com/kmsquire/GZip.jl/tree/268a606062d9c3543bbdd4effa6ec74aaa4a47b5/src/GZip.jl#L448\" target=\"_blank\">/Users/david/.julia/GZip/src/GZip.jl:448</a><li> write(s::<b>IO</b>,p::<b>Ptr{T}</b>,n::<b>Integer</b>) at <a href=\"https://github.com/JuliaLang/julia/tree/7e7462150f72721caf0e6bd6e7e7e500d1efb187/base/io.jl#L91\" target=\"_blank\">io.jl:91</a><li> gzwrite(s::<b>GZipStream</b>,p::<b>Ptr{T}</b>,len::<b>Integer</b>) at <a href=\"https://github.com/kmsquire/GZip.jl/tree/268a606062d9c3543bbdd4effa6ec74aaa4a47b5/src/GZip.jl#L184\" target=\"_blank\">/Users/david/.julia/GZip/src/GZip.jl:184</a><li> read(from::<b>IOBuffer</b>,p::<b>Ptr{T}</b>,nb::<b>Integer</b>) at <a href=\"https://github.com/JuliaLang/julia/tree/7e7462150f72721caf0e6bd6e7e7e500d1efb187/base/deprecated.jl#L26\" target=\"_blank\">deprecated.jl:26</a><li> PyObject(p::<b>Ptr{T}</b>) at <a href=\"https://github.com/stevengj/PyCall.jl/tree/7798d4e44493415c07e9ed2ef7b708f6936bf1c4/src/conversions.jl#L131\" target=\"_blank\">/Users/david/.julia/PyCall/src/conversions.jl:131</a></ul>"
       ],
       "metadata": {},
       "output_type": "pyout",
       "prompt_number": 39,
       "text": [
        "58-element Array{Method,1}:\n",
        " show{T}(io::IO,p::Ptr{T}) at show.jl:116                                                  \n",
        " unsafe_store!{T}(p::Ptr{T},x,i::Integer) at pointer.jl:48                                 \n",
        " unsafe_store!{T}(p::Ptr{T},x) at pointer.jl:49                                            \n",
        " msync(p::Ptr{T},len::Integer,flags::Integer) at mmap.jl:70                                \n",
        " msync(p::Ptr{T},len::Integer) at mmap.jl:72                                               \n",
        " integer(x::Ptr{T}) at pointer.jl:55                                                       \n",
        " read!(from::IOBuffer,p::Ptr{T},nb::Int64) at iobuffer.jl:70                               \n",
        " read!(from::IOBuffer,p::Ptr{T},nb::Integer) at iobuffer.jl:68                             \n",
        " show{T}(io::IO,p::Ptr{T}) at show.jl:116                                                  \n",
        " -(x::Ptr{T},y::Ptr{T}) at pointer.jl:64                                                   \n",
        " -(x::Ptr{T},y::Integer) at pointer.jl:67                                                  \n",
        " write(to::IOBuffer,p::Ptr{T},nb::Int64) at iobuffer.jl:237                                \n",
        " write(to::IOBuffer,p::Ptr{T},nb::Integer) at iobuffer.jl:235                              \n",
        " \u22ee                                                                                         \n",
        " gzbuffer(gz_file::Ptr{T},gz_buf_size::Integer) at /Users/david/.julia/GZip/src/GZip.jl:197\n",
        " show{T}(io::IO,p::Ptr{T}) at show.jl:116                                                  \n",
        " write(to::IOBuffer,p::Ptr{T},nb::Int64) at iobuffer.jl:237                                \n",
        " write(to::IOBuffer,p::Ptr{T},nb::Integer) at iobuffer.jl:235                              \n",
        " write(to::IOBuffer,p::Ptr{T}) at iobuffer.jl:278                                          \n",
        " write(s::IOStream,p::Ptr{T},nb::Integer) at iostream.jl:159                               \n",
        " write(s::AsyncStream,p::Ptr{T},nb::Integer) at stream.jl:790                              \n",
        " write(s::GZipStream,p::Ptr{T},nb::Integer) at /Users/david/.julia/GZip/src/GZip.jl:448    \n",
        " write(s::IO,p::Ptr{T},n::Integer) at io.jl:91                                             \n",
        " gzwrite(s::GZipStream,p::Ptr{T},len::Integer) at /Users/david/.julia/GZip/src/GZip.jl:184 \n",
        " read(from::IOBuffer,p::Ptr{T},nb::Integer) at deprecated.jl:26                            \n",
        " PyObject(p::Ptr{T}) at /Users/david/.julia/PyCall/src/conversions.jl:131                  "
       ]
      }
     ],
     "prompt_number": 39
    }
   ],
   "metadata": {}
  }
 ]
}