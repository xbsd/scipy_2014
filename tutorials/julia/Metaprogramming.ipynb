{
 "metadata": {
  "language": "Julia",
  "name": "",
  "signature": "sha256:522576538ca7c52c735fa354cf3545cddece2155cafaa4ea01d77272535a151f"
 },
 "nbformat": 3,
 "nbformat_minor": 0,
 "worksheets": [
  {
   "cells": [
    {
     "cell_type": "heading",
     "level": 1,
     "metadata": {},
     "source": [
      "Meta-ness"
     ]
    },
    {
     "cell_type": "markdown",
     "metadata": {},
     "source": [
      "Julia allows us to talk in a \"meta\" way (\"one level up\"), about Julia code,  that is to \"treat code as data\" and manipulate it as just another object in Julia. (This is very similar to Lisp.)"
     ]
    },
    {
     "cell_type": "markdown",
     "metadata": {},
     "source": [
      "The basic objects in this approach are unevaluated *symbols*:"
     ]
    },
    {
     "cell_type": "code",
     "collapsed": false,
     "input": [
      ":a # This is just the symbol a"
     ],
     "language": "python",
     "metadata": {},
     "outputs": [
      {
       "metadata": {},
       "output_type": "pyout",
       "prompt_number": 1,
       "text": [
        ":a"
       ]
      }
     ],
     "prompt_number": 1
    },
    {
     "cell_type": "code",
     "collapsed": false,
     "input": [
      "typeof(:a)"
     ],
     "language": "python",
     "metadata": {},
     "outputs": [
      {
       "metadata": {},
       "output_type": "pyout",
       "prompt_number": 2,
       "text": [
        "Symbol"
       ]
      }
     ],
     "prompt_number": 2
    },
    {
     "cell_type": "markdown",
     "metadata": {},
     "source": [
      "`:a` refers to the symbol `a`. We can evaluate it with the `eval` function:"
     ]
    },
    {
     "cell_type": "code",
     "collapsed": false,
     "input": [
      "eval(:a)"
     ],
     "language": "python",
     "metadata": {},
     "outputs": [
      {
       "ename": "LoadError",
       "evalue": "a not defined\nwhile loading In[3], in expression starting on line 1",
       "output_type": "pyerr",
       "traceback": [
        "a not defined\nwhile loading In[3], in expression starting on line 1"
       ]
      }
     ],
     "prompt_number": 3
    },
    {
     "cell_type": "markdown",
     "metadata": {},
     "source": [
      "`a` must be defined for this to work:"
     ]
    },
    {
     "cell_type": "code",
     "collapsed": false,
     "input": [
      "a = 3"
     ],
     "language": "python",
     "metadata": {},
     "outputs": [
      {
       "metadata": {},
       "output_type": "pyout",
       "prompt_number": 4,
       "text": [
        "3"
       ]
      }
     ],
     "prompt_number": 4
    },
    {
     "cell_type": "code",
     "collapsed": false,
     "input": [
      "eval(:a)"
     ],
     "language": "python",
     "metadata": {},
     "outputs": [
      {
       "metadata": {},
       "output_type": "pyout",
       "prompt_number": 5,
       "text": [
        "3"
       ]
      }
     ],
     "prompt_number": 5
    },
    {
     "cell_type": "markdown",
     "metadata": {},
     "source": [
      "The `eval` function takes an expression and evaluates it, that is, *generates the corresponding code*"
     ]
    },
    {
     "cell_type": "markdown",
     "metadata": {},
     "source": [
      "Everything is a symbol:"
     ]
    },
    {
     "cell_type": "code",
     "collapsed": false,
     "input": [
      ":+, :sin"
     ],
     "language": "python",
     "metadata": {},
     "outputs": [
      {
       "metadata": {},
       "output_type": "pyout",
       "prompt_number": 6,
       "text": [
        "(:+,:sin)"
       ]
      }
     ],
     "prompt_number": 6
    },
    {
     "cell_type": "code",
     "collapsed": false,
     "input": [
      "typeof(:+)"
     ],
     "language": "python",
     "metadata": {},
     "outputs": [
      {
       "metadata": {},
       "output_type": "pyout",
       "prompt_number": 7,
       "text": [
        "Symbol"
       ]
      }
     ],
     "prompt_number": 7
    },
    {
     "cell_type": "markdown",
     "metadata": {},
     "source": [
      "Symbols may be combined into *expressions*, which are the basic objects that represent pieces of Julia code:"
     ]
    },
    {
     "cell_type": "code",
     "collapsed": false,
     "input": [
      "ex = :(a + b)  # the expression 'a+b'"
     ],
     "language": "python",
     "metadata": {},
     "outputs": [
      {
       "metadata": {},
       "output_type": "pyout",
       "prompt_number": 8,
       "text": [
        ":(a + b)"
       ]
      }
     ],
     "prompt_number": 8
    },
    {
     "cell_type": "code",
     "collapsed": false,
     "input": [
      "typeof(ex)"
     ],
     "language": "python",
     "metadata": {},
     "outputs": [
      {
       "metadata": {},
       "output_type": "pyout",
       "prompt_number": 9,
       "text": [
        "Expr"
       ]
      }
     ],
     "prompt_number": 9
    },
    {
     "cell_type": "markdown",
     "metadata": {},
     "source": [
      "An expression is just a Julia object, so we can introspect (find out information about it):"
     ]
    },
    {
     "cell_type": "code",
     "collapsed": false,
     "input": [
      "names(ex)"
     ],
     "language": "python",
     "metadata": {},
     "outputs": [
      {
       "metadata": {},
       "output_type": "pyout",
       "prompt_number": 10,
       "text": [
        "3-element Array{Symbol,1}:\n",
        " :head\n",
        " :args\n",
        " :typ "
       ]
      }
     ],
     "prompt_number": 10
    },
    {
     "cell_type": "code",
     "collapsed": false,
     "input": [
      "# ex.<TAB>"
     ],
     "language": "python",
     "metadata": {},
     "outputs": [],
     "prompt_number": 11
    },
    {
     "cell_type": "code",
     "collapsed": false,
     "input": [
      "ex.head"
     ],
     "language": "python",
     "metadata": {},
     "outputs": [
      {
       "metadata": {},
       "output_type": "pyout",
       "prompt_number": 12,
       "text": [
        ":call"
       ]
      }
     ],
     "prompt_number": 12
    },
    {
     "cell_type": "code",
     "collapsed": false,
     "input": [
      "ex.args"
     ],
     "language": "python",
     "metadata": {},
     "outputs": [
      {
       "metadata": {},
       "output_type": "pyout",
       "prompt_number": 13,
       "text": [
        "3-element Array{Any,1}:\n",
        " :+\n",
        " :a\n",
        " :b"
       ]
      }
     ],
     "prompt_number": 13
    },
    {
     "cell_type": "code",
     "collapsed": false,
     "input": [
      "ex.typ"
     ],
     "language": "python",
     "metadata": {},
     "outputs": [
      {
       "metadata": {},
       "output_type": "pyout",
       "prompt_number": 14,
       "text": [
        "Any"
       ]
      }
     ],
     "prompt_number": 14
    },
    {
     "cell_type": "markdown",
     "metadata": {},
     "source": [
      "More complicated expressions are represented as \"abstract syntax trees\" (ASTs), consisting of expressions nested inside expressions:"
     ]
    },
    {
     "cell_type": "code",
     "collapsed": false,
     "input": [
      "ex = :( sin(3a + 2b^2) )"
     ],
     "language": "python",
     "metadata": {},
     "outputs": [
      {
       "metadata": {},
       "output_type": "pyout",
       "prompt_number": 15,
       "text": [
        ":(sin(3a + 2 * b^2))"
       ]
      }
     ],
     "prompt_number": 15
    },
    {
     "cell_type": "code",
     "collapsed": false,
     "input": [
      "ex.args"
     ],
     "language": "python",
     "metadata": {},
     "outputs": [
      {
       "metadata": {},
       "output_type": "pyout",
       "prompt_number": 16,
       "text": [
        "2-element Array{Any,1}:\n",
        " :sin           \n",
        " :(3a + 2 * b^2)"
       ]
      }
     ],
     "prompt_number": 16
    },
    {
     "cell_type": "code",
     "collapsed": false,
     "input": [
      "typeof(ex.args[2])"
     ],
     "language": "python",
     "metadata": {},
     "outputs": [
      {
       "metadata": {},
       "output_type": "pyout",
       "prompt_number": 17,
       "text": [
        "Expr"
       ]
      }
     ],
     "prompt_number": 17
    },
    {
     "cell_type": "code",
     "collapsed": false,
     "input": [
      "ex.args[2].args"
     ],
     "language": "python",
     "metadata": {},
     "outputs": [
      {
       "metadata": {},
       "output_type": "pyout",
       "prompt_number": 68,
       "text": [
        "3-element Array{Any,1}:\n",
        " :+        \n",
        " :(3a)     \n",
        " :(2 * b^2)"
       ]
      }
     ],
     "prompt_number": 68
    },
    {
     "cell_type": "markdown",
     "metadata": {},
     "source": [
      "Expressions can be arbitrary Julia code that when evaluated will have side effects. For longer blocks of code, `quote...end` may be used instead of `:( ... )`"
     ]
    },
    {
     "cell_type": "code",
     "collapsed": false,
     "input": [
      "ex2 = \n",
      "quote  # quote-end makes the entire block an expression\n",
      "    y = 3\n",
      "    z = sin(y+1)\n",
      "end\n",
      "    "
     ],
     "language": "python",
     "metadata": {},
     "outputs": [
      {
       "metadata": {},
       "output_type": "pyout",
       "prompt_number": 18,
       "text": [
        ":(begin  # In[18], line 3:\n",
        "        y = 3 # line 4:\n",
        "        z = sin(y + 1)\n",
        "    end)"
       ]
      }
     ],
     "prompt_number": 18
    },
    {
     "cell_type": "code",
     "collapsed": false,
     "input": [
      "y"
     ],
     "language": "python",
     "metadata": {},
     "outputs": [
      {
       "ename": "LoadError",
       "evalue": "y not defined\nwhile loading In[19], in expression starting on line 1",
       "output_type": "pyerr",
       "traceback": [
        "y not defined\nwhile loading In[19], in expression starting on line 1"
       ]
      }
     ],
     "prompt_number": 19
    },
    {
     "cell_type": "code",
     "collapsed": false,
     "input": [
      "eval(ex2)\n",
      "z"
     ],
     "language": "python",
     "metadata": {},
     "outputs": [
      {
       "metadata": {},
       "output_type": "pyout",
       "prompt_number": 20,
       "text": [
        "-0.7568024953079282"
       ]
      }
     ],
     "prompt_number": 20
    },
    {
     "cell_type": "markdown",
     "metadata": {},
     "source": [
      "The full form of the abstract syntax tree in a style similar to a Lisp s-expression can be obtained using functions from the `Meta` module in `Base`:"
     ]
    },
    {
     "cell_type": "code",
     "collapsed": false,
     "input": [
      "Meta.show_sexpr(ex2)"
     ],
     "language": "python",
     "metadata": {},
     "outputs": [
      {
       "output_type": "stream",
       "stream": "stdout",
       "text": [
        "(:"
       ]
      },
      {
       "output_type": "stream",
       "stream": "stdout",
       "text": [
        "block,\n",
        "  (:line, 3, :In[18]),\n",
        "  (:(=), :y, 3),\n",
        "  :( # line 4:),\n",
        "  (:(=), :z, (:call, :sin, (:call, :+, :y, 1)))\n",
        ")"
       ]
      }
     ],
     "prompt_number": 21
    },
    {
     "cell_type": "markdown",
     "metadata": {},
     "source": [
      "Another way of seeing the structure is with `dump`:"
     ]
    },
    {
     "cell_type": "code",
     "collapsed": false,
     "input": [
      "dump(ex2)"
     ],
     "language": "python",
     "metadata": {},
     "outputs": [
      {
       "output_type": "stream",
       "stream": "stdout",
       "text": [
        "Expr "
       ]
      },
      {
       "output_type": "stream",
       "stream": "stdout",
       "text": [
        "\n",
        "  head: Symbol block\n",
        "  args: Array(Any,(4,))\n",
        "    1: Expr \n",
        "      head: Symbol line\n",
        "      args: Array(Any,(2,))\n",
        "        1: Int64"
       ]
      },
      {
       "output_type": "stream",
       "stream": "stdout",
       "text": [
        " 3\n",
        "        2: Symbol In[18]\n",
        "      typ: Any\n",
        "    2: Expr \n",
        "      head: Symbol =\n",
        "      args: Array(Any,(2,))\n",
        "        1: Symbol y\n",
        "        2: Int64 3\n",
        "      typ: Any\n",
        "    3: LineNumberNode \n",
        "      line: Int64 4\n",
        "    4: Expr \n",
        "      head: Symbol =\n",
        "      args: Array(Any,(2,))\n",
        "        1: Symbol z\n",
        "        2: Expr \n",
        "          head: Symbol call\n",
        "          args: Array(Any,(2,))\n",
        "          typ: Any\n",
        "      typ: Any\n",
        "  typ: Any\n"
       ]
      }
     ],
     "prompt_number": 22
    },
    {
     "cell_type": "heading",
     "level": 1,
     "metadata": {},
     "source": [
      "Macros"
     ]
    },
    {
     "cell_type": "markdown",
     "metadata": {},
     "source": [
      "With the ability to think of code in terms of a data structure in the Julia language, we can now *manipulate* those data structures, allowing us to *create Julia code on the fly from within Julia*. This is known as *metaprogramming*: programming a program.\n",
      "\n",
      "The name *macro* is given to a kind of \"super-function\" that takes a piece of code as an argument, and returns an altered piece of code. A macro is thus a very different kind of object than a standard function. [Although it can be thought of as a function in the mathematical sense of the word.]"
     ]
    },
    {
     "cell_type": "markdown",
     "metadata": {},
     "source": [
      "The [Julia manual](http://julia.readthedocs.org/en/latest/manual/metaprogramming/) puts it like this: \n",
      "\n",
      "> macros map a tuple of argument *expressions* to a returned\n",
      "> *expression*"
     ]
    },
    {
     "cell_type": "markdown",
     "metadata": {},
     "source": [
      "Although metaprogramming is possible in many languages (including Python), Julia makes it particularly natural (although not exactly \"easy\"!)\n",
      "\n",
      "Metaprogramming is useful in a variety of settings:\n",
      "- to eliminate boilerplate (repetitive) code\n",
      "- to automatically generate complex code that would be painful by hand\n",
      "- to unroll loops for efficiency\n",
      "- to inline code for efficiency\n"
     ]
    },
    {
     "cell_type": "markdown",
     "metadata": {},
     "source": [
      "\n",
      "Macros are invoked using the `@` sign, e.g."
     ]
    },
    {
     "cell_type": "code",
     "collapsed": false,
     "input": [
      "@time sin(10) #@function takes an expression and returns another expression, @time is a macro"
     ],
     "language": "python",
     "metadata": {},
     "outputs": [
      {
       "output_type": "stream",
       "stream": "stdout",
       "text": [
        "elapsed time: 6"
       ]
      },
      {
       "output_type": "stream",
       "stream": "stdout",
       "text": [
        ".153e-6 seconds (96 bytes allocated)\n"
       ]
      },
      {
       "metadata": {},
       "output_type": "pyout",
       "prompt_number": 30,
       "text": [
        "-0.5440211108893698"
       ]
      }
     ],
     "prompt_number": 30
    },
    {
     "cell_type": "markdown",
     "metadata": {},
     "source": [
      "A trivial example of defining a macro is the following, which duplicates whatever code it is passed. The `$` sign is used to interpolate the value of the expression (similar to its usage for string interpolation):"
     ]
    },
    {
     "cell_type": "code",
     "collapsed": false,
     "input": [
      "macro duplicate(ex)\n",
      "    quote\n",
      "        $ex\n",
      "        $ex\n",
      "    end\n",
      "end"
     ],
     "language": "python",
     "metadata": {},
     "outputs": [],
     "prompt_number": 31
    },
    {
     "cell_type": "code",
     "collapsed": false,
     "input": [
      "@duplicate println(sin(10))"
     ],
     "language": "python",
     "metadata": {},
     "outputs": [
      {
       "output_type": "stream",
       "stream": "stdout",
       "text": [
        "-0."
       ]
      },
      {
       "output_type": "stream",
       "stream": "stdout",
       "text": [
        "5440211108893698\n",
        "-0.5440211108893698\n"
       ]
      }
     ],
     "prompt_number": 32
    },
    {
     "cell_type": "code",
     "collapsed": false,
     "input": [
      "ex = :(@duplicate println(sin(10)))"
     ],
     "language": "python",
     "metadata": {},
     "outputs": [
      {
       "metadata": {},
       "output_type": "pyout",
       "prompt_number": 33,
       "text": [
        ":(@duplicate println(sin(10)))"
       ]
      }
     ],
     "prompt_number": 33
    },
    {
     "cell_type": "code",
     "collapsed": false,
     "input": [
      "eval(ex)"
     ],
     "language": "python",
     "metadata": {},
     "outputs": [
      {
       "output_type": "stream",
       "stream": "stdout",
       "text": [
        "-0."
       ]
      },
      {
       "output_type": "stream",
       "stream": "stdout",
       "text": [
        "5440211108893698\n",
        "-0.5440211108893698\n"
       ]
      }
     ],
     "prompt_number": 27
    },
    {
     "cell_type": "code",
     "collapsed": false,
     "input": [
      "typeof(ex)"
     ],
     "language": "python",
     "metadata": {},
     "outputs": [
      {
       "metadata": {},
       "output_type": "pyout",
       "prompt_number": 28,
       "text": [
        "Expr"
       ]
      }
     ],
     "prompt_number": 28
    },
    {
     "cell_type": "markdown",
     "metadata": {},
     "source": [
      "We can see what effect the macro actually has using `macroexpand`:"
     ]
    },
    {
     "cell_type": "code",
     "collapsed": false,
     "input": [
      "macroexpand(ex) # Shows what is happening in the macro (internally)"
     ],
     "language": "python",
     "metadata": {},
     "outputs": [
      {
       "metadata": {},
       "output_type": "pyout",
       "prompt_number": 35,
       "text": [
        ":(begin  # In[31], line 3:\n",
        "        println(sin(10)) # line 4:\n",
        "        println(sin(10))\n",
        "    end)"
       ]
      }
     ],
     "prompt_number": 35
    },
    {
     "cell_type": "code",
     "collapsed": false,
     "input": [
      "# A MACRO TAKES AN EXPRESSION AND RETURNS AN EXPRESSION !!!\n",
      "# $ex is like expression interpretation"
     ],
     "language": "python",
     "metadata": {},
     "outputs": [],
     "prompt_number": 40
    },
    {
     "cell_type": "code",
     "collapsed": false,
     "input": [
      "#macroexpand(:(@time sin(10)))"
     ],
     "language": "python",
     "metadata": {},
     "outputs": [],
     "prompt_number": 41
    },
    {
     "cell_type": "markdown",
     "metadata": {},
     "source": [
      "----\n",
      "**Exercise**: Define a macro `@until` that does an `until` loop.\n",
      "\n",
      "----"
     ]
    },
    {
     "cell_type": "code",
     "collapsed": false,
     "input": [
      "macro until(ex1, ex2)\n",
      "    quote\n",
      "        while !($ex1) # $ means \"replace this with the code ... !\"\n",
      "        $ex\n",
      "        end\n",
      "    end\n",
      "end"
     ],
     "language": "python",
     "metadata": {},
     "outputs": [],
     "prompt_number": 3
    },
    {
     "cell_type": "code",
     "collapsed": false,
     "input": [
      "i = 0\n",
      "@until i==10 begin\n",
      "    println(i)\n",
      "    i += 1\n",
      "end"
     ],
     "language": "python",
     "metadata": {},
     "outputs": [
      {
       "ename": "LoadError",
       "evalue": "ex3 not defined\nwhile loading In[4], in expression starting on line 5",
       "output_type": "pyerr",
       "traceback": [
        "ex3 not defined\nwhile loading In[4], in expression starting on line 5"
       ]
      }
     ],
     "prompt_number": 4
    },
    {
     "cell_type": "heading",
     "level": 2,
     "metadata": {},
     "source": [
      "A nontrivial example: Horner's method"
     ]
    },
    {
     "cell_type": "markdown",
     "metadata": {},
     "source": [
      "There are many interesting examples of macros in `Base`. One that is accessible is Horner's method for evaluating a polynomial:\n",
      "\n",
      "$$p(x) = a_n x^n + a_{n-1} x^{n-1} + \\cdots + a_1 x^1 + a_0$$\n",
      "\n",
      "may be evaluated efficiently as\n",
      "\n",
      "$$p(x) = a_0 + x(a_1 + \\cdots x(a_{n-2} + \\cdots + x(a_{n-1} + x a_n) \\cdots ) ) $$\n",
      "with only $n$ multiplications.\n",
      "\n",
      "The obvious way to do this is with a `for` loop. But if we know the polynomial *at compile time*, this loop may be unrolled using metaprogramming. This is implemented in the `Math` module in `math.jl` in `Base`, so the name of the macro (which is not exported) is `@Base.Math.horner`\n",
      "\n"
     ]
    },
    {
     "cell_type": "code",
     "collapsed": false,
     "input": [
      "# copied from base/math.jl\n",
      "# esc is for escape to access items outside of macro\n",
      "# It could work without esc, but sometimes it doesn't\n",
      "# Better to use esc\n",
      "macro horner(x, p...)\n",
      "    ex = esc(p[end])\n",
      "    for i = length(p)-1:-1:1\n",
      "        ex = :($(esc(p[i])) + t * $ex)\n",
      "    end\n",
      "    Expr(:block, :(t = $(esc(x))), ex)\n",
      "end"
     ],
     "language": "python",
     "metadata": {},
     "outputs": [],
     "prompt_number": 13
    },
    {
     "cell_type": "markdown",
     "metadata": {},
     "source": [
      "This is called as follows: to evaluate the polynomial $p(x) = 2 + 3x + 4x^2$ at $x=3$, we do"
     ]
    },
    {
     "cell_type": "code",
     "collapsed": false,
     "input": [
      "x = 3\n",
      "@horner(x, 2, 3, 4)"
     ],
     "language": "python",
     "metadata": {},
     "outputs": [
      {
       "metadata": {},
       "output_type": "pyout",
       "prompt_number": 14,
       "text": [
        "47"
       ]
      }
     ],
     "prompt_number": 14
    },
    {
     "cell_type": "code",
     "collapsed": false,
     "input": [
      "# copied from base/math.jl\n",
      "macro horner2(x, p...)\n",
      "    ex = (p[end])\n",
      "    for i = length(p)-1:-1:1\n",
      "        ex = :($((p[i])) + t * $ex)\n",
      "    end\n",
      "    Expr(:block, :(t = $((x))), ex)\n",
      "end"
     ],
     "language": "python",
     "metadata": {},
     "outputs": [],
     "prompt_number": 15
    },
    {
     "cell_type": "code",
     "collapsed": false,
     "input": [
      "x = 5\n",
      "@horner2(x,2,3,4)"
     ],
     "language": "python",
     "metadata": {},
     "outputs": [
      {
       "metadata": {},
       "output_type": "pyout",
       "prompt_number": 17,
       "text": [
        "117"
       ]
      }
     ],
     "prompt_number": 17
    },
    {
     "cell_type": "markdown",
     "metadata": {},
     "source": [
      "[Even though the Horner macro is not exported in `Base`, we can access it as `@Base.Math.horner`]"
     ]
    },
    {
     "cell_type": "markdown",
     "metadata": {},
     "source": [
      "To see what the macro does to this call, we again use `macroexpand`:"
     ]
    },
    {
     "cell_type": "code",
     "collapsed": false,
     "input": [
      "macroexpand(:(@horner(x, 2, 3, 4)))"
     ],
     "language": "python",
     "metadata": {},
     "outputs": [
      {
       "metadata": {},
       "output_type": "pyout",
       "prompt_number": 87,
       "text": [
        ":(begin \n",
        "        #291#t = x\n",
        "        2 + #291#t * (3 + #291#t * 4)\n",
        "    end)"
       ]
      }
     ],
     "prompt_number": 87
    },
    {
     "cell_type": "code",
     "collapsed": false,
     "input": [
      "macroexpand(:(@Base.Math.horner(x, 2, 3, 4)))"
     ],
     "language": "python",
     "metadata": {},
     "outputs": [
      {
       "metadata": {},
       "output_type": "pyout",
       "prompt_number": 88,
       "text": [
        ":(begin \n",
        "        #292#t = x\n",
        "        Base.Math.+(2,Base.Math.*(#292#t,Base.Math.+(3,Base.Math.*(#292#t,4))))\n",
        "    end)"
       ]
      }
     ],
     "prompt_number": 88
    },
    {
     "cell_type": "code",
     "collapsed": false,
     "input": [
      "x = 3.5\n",
      "@printf(\"%.5f\", x)"
     ],
     "language": "python",
     "metadata": {},
     "outputs": [
      {
       "output_type": "stream",
       "stream": "stdout",
       "text": [
        "3."
       ]
      },
      {
       "output_type": "stream",
       "stream": "stdout",
       "text": [
        "50000"
       ]
      }
     ],
     "prompt_number": 101
    },
    {
     "cell_type": "code",
     "collapsed": false,
     "input": [
      "@printf"
     ],
     "language": "python",
     "metadata": {},
     "outputs": [
      {
       "ename": "LoadError",
       "evalue": "@printf: called with zero arguments\nwhile loading In[2], in expression starting on line 1",
       "output_type": "pyerr",
       "traceback": [
        "@printf: called with zero arguments\nwhile loading In[2], in expression starting on line 1"
       ]
      }
     ],
     "prompt_number": 2
    },
    {
     "cell_type": "code",
     "collapsed": false,
     "input": [
      "@time sin(10)"
     ],
     "language": "python",
     "metadata": {},
     "outputs": [
      {
       "output_type": "stream",
       "stream": "stdout",
       "text": [
        "elapsed time: 4"
       ]
      },
      {
       "output_type": "stream",
       "stream": "stdout",
       "text": [
        ".108e-6 seconds (96 bytes allocated)\n"
       ]
      },
      {
       "metadata": {},
       "output_type": "pyout",
       "prompt_number": 19,
       "text": [
        "-0.5440211108893698"
       ]
      }
     ],
     "prompt_number": 19
    },
    {
     "cell_type": "code",
     "collapsed": false,
     "input": [
      "ex = :(@time sin(10))"
     ],
     "language": "python",
     "metadata": {},
     "outputs": [
      {
       "metadata": {},
       "output_type": "pyout",
       "prompt_number": 102,
       "text": [
        ":(@time sin(10))"
       ]
      }
     ],
     "prompt_number": 102
    },
    {
     "cell_type": "code",
     "collapsed": false,
     "input": [
      "Meta.show_sexpr(ex)"
     ],
     "language": "python",
     "metadata": {},
     "outputs": [
      {
       "output_type": "stream",
       "stream": "stdout",
       "text": [
        "(:"
       ]
      },
      {
       "output_type": "stream",
       "stream": "stdout",
       "text": [
        "macrocall, :@time, (:call, :sin, 10))"
       ]
      }
     ],
     "prompt_number": 103
    },
    {
     "cell_type": "code",
     "collapsed": false,
     "input": [
      "xdump(ex)"
     ],
     "language": "python",
     "metadata": {},
     "outputs": [
      {
       "output_type": "stream",
       "stream": "stdout",
       "text": [
        "Expr "
       ]
      },
      {
       "output_type": "stream",
       "stream": "stdout",
       "text": [
        "\n",
        "  head: Symbol macrocall\n",
        "  args: Array(Any,(2,))\n",
        "    1: Symbol @time\n",
        "    2: Expr \n",
        "      head: Symbol call\n",
        "      args: Array(Any,(2,))\n",
        "        1: Symbol sin\n",
        "        2: Int64"
       ]
      },
      {
       "output_type": "stream",
       "stream": "stdout",
       "text": [
        " 10\n",
        "      typ: Any::DataType  <: Any\n",
        "  typ: Any::DataType  <: Any\n"
       ]
      }
     ],
     "prompt_number": 5
    },
    {
     "cell_type": "code",
     "collapsed": false,
     "input": [
      "macroexpand(ex)"
     ],
     "language": "python",
     "metadata": {},
     "outputs": [
      {
       "metadata": {},
       "output_type": "pyout",
       "prompt_number": 6,
       "text": [
        ":(begin  # util.jl, line 50:\n",
        "        local #254#b0 = Base.gc_bytes() # line 51:\n",
        "        local #255#t0 = Base.time_ns() # line 52:\n",
        "        local #256#g0 = Base.gc_time_ns() # line 53:\n",
        "        local #257#val = sin(10) # line 54:\n",
        "        local #258#g1 = Base.gc_time_ns() # line 55:\n",
        "        local #259#t1 = Base.time_ns() # line 56:\n",
        "        local #260#b1 = Base.gc_bytes() # line 57:\n",
        "        Base.time_print(Base.-(#259#t1,#255#t0),Base.-(#260#b1,#254#b0),Base.-(#258#g1,#256#g0)) # line 58:\n",
        "        #257#val\n",
        "    end)"
       ]
      }
     ],
     "prompt_number": 6
    },
    {
     "cell_type": "code",
     "collapsed": false,
     "input": [
      "@time sin(10)"
     ],
     "language": "python",
     "metadata": {},
     "outputs": [
      {
       "output_type": "stream",
       "stream": "stdout",
       "text": [
        "elapsed time: 0."
       ]
      },
      {
       "output_type": "stream",
       "stream": "stdout",
       "text": [
        "006097425 seconds (47856 bytes allocated)\n"
       ]
      },
      {
       "metadata": {},
       "output_type": "pyout",
       "prompt_number": 7,
       "text": [
        "-0.5440211108893698"
       ]
      }
     ],
     "prompt_number": 7
    },
    {
     "cell_type": "code",
     "collapsed": false,
     "input": [
      "dump(ex)"
     ],
     "language": "python",
     "metadata": {},
     "outputs": [
      {
       "output_type": "stream",
       "stream": "stdout",
       "text": [
        "Expr "
       ]
      },
      {
       "output_type": "stream",
       "stream": "stdout",
       "text": [
        "\n",
        "  head: Symbol macrocall\n",
        "  args: Array(Any,(2,))\n",
        "    1: Symbol @time\n",
        "    2: Expr \n",
        "      head: Symbol call\n",
        "      args: Array(Any,(2,))\n",
        "        1: Symbol sin\n",
        "        2: Int64 10\n",
        "      typ: Any\n",
        "  typ: Any\n"
       ]
      }
     ],
     "prompt_number": 8
    },
    {
     "cell_type": "code",
     "collapsed": false,
     "input": [
      "xdump(ex)"
     ],
     "language": "python",
     "metadata": {},
     "outputs": [
      {
       "output_type": "stream",
       "stream": "stdout",
       "text": [
        "Expr "
       ]
      },
      {
       "output_type": "stream",
       "stream": "stdout",
       "text": [
        "\n",
        "  head: Symbol macrocall\n",
        "  args: Array(Any,(2,))\n",
        "    1: Symbol @time\n",
        "    2: Expr \n",
        "      head: Symbol call\n",
        "      args: Array(Any,(2,))\n",
        "        1: Symbol sin\n",
        "        2: Int64 10\n",
        "      typ: Any::DataType  <: Any\n",
        "  typ: Any::DataType  <: Any\n"
       ]
      }
     ],
     "prompt_number": 9
    },
    {
     "cell_type": "code",
     "collapsed": false,
     "input": [
      "type Vector2D{T <: Real}\n",
      "    x::T\n",
      "    y::T\n",
      "end"
     ],
     "language": "python",
     "metadata": {},
     "outputs": [],
     "prompt_number": 8
    },
    {
     "cell_type": "code",
     "collapsed": false,
     "input": [
      "methods(Vector2D)"
     ],
     "language": "python",
     "metadata": {},
     "outputs": [
      {
       "html": [
        "1 method for generic function <b>Vector2D</b>:<ul><li> Vector2D<i>{T<:Real}</i>(x::<b>T<:Real</b>,y::<b>T<:Real</b>)</ul>"
       ],
       "metadata": {},
       "output_type": "pyout",
       "prompt_number": 9,
       "text": [
        "# 1 method for generic function \"Vector2D\":\n",
        "Vector2D{T<:Real}(x::T<:Real,y::T<:Real)"
       ]
      }
     ],
     "prompt_number": 9
    },
    {
     "cell_type": "code",
     "collapsed": false,
     "input": [
      "v = Vector2D{Float64}(3, 4)"
     ],
     "language": "python",
     "metadata": {},
     "outputs": [
      {
       "metadata": {},
       "output_type": "pyout",
       "prompt_number": 10,
       "text": [
        "Vector2D{Float64}(3.0,4.0)"
       ]
      }
     ],
     "prompt_number": 10
    },
    {
     "cell_type": "code",
     "collapsed": false,
     "input": [
      "v = Vector2D(3., 4)"
     ],
     "language": "python",
     "metadata": {},
     "outputs": [
      {
       "ename": "LoadError",
       "evalue": "no method Vector2D{T<:Real}(Float64, Int64)\nwhile loading In[11], in expression starting on line 1",
       "output_type": "pyerr",
       "traceback": [
        "no method Vector2D{T<:Real}(Float64, Int64)\nwhile loading In[11], in expression starting on line 1"
       ]
      }
     ],
     "prompt_number": 11
    },
    {
     "cell_type": "code",
     "collapsed": false,
     "input": [
      "v = Vector2D(3., 4.)"
     ],
     "language": "python",
     "metadata": {},
     "outputs": [
      {
       "metadata": {},
       "output_type": "pyout",
       "prompt_number": 18,
       "text": [
        "Vector2D{Float64}(3.0,4.0)"
       ]
      }
     ],
     "prompt_number": 18
    },
    {
     "cell_type": "code",
     "collapsed": false,
     "input": [
      "# clear"
     ],
     "language": "python",
     "metadata": {},
     "outputs": [],
     "prompt_number": 2
    },
    {
     "cell_type": "code",
     "collapsed": false,
     "input": [
      "# uses show(io::IO, v::DataType) by default"
     ],
     "language": "python",
     "metadata": {},
     "outputs": [],
     "prompt_number": 4
    },
    {
     "cell_type": "code",
     "collapsed": false,
     "input": [
      "typeof(Vector2D)"
     ],
     "language": "python",
     "metadata": {},
     "outputs": [
      {
       "metadata": {},
       "output_type": "pyout",
       "prompt_number": 15,
       "text": [
        "DataType"
       ]
      }
     ],
     "prompt_number": 15
    },
    {
     "cell_type": "code",
     "collapsed": false,
     "input": [
      "super(Vector2D)"
     ],
     "language": "python",
     "metadata": {},
     "outputs": [
      {
       "metadata": {},
       "output_type": "pyout",
       "prompt_number": 13,
       "text": [
        "Any"
       ]
      }
     ],
     "prompt_number": 13
    },
    {
     "cell_type": "code",
     "collapsed": false,
     "input": [
      "methods(show)"
     ],
     "language": "python",
     "metadata": {},
     "outputs": [
      {
       "html": [
        "89 methods for generic function <b>show</b>:<ul><li> show(io::<b>IO</b>,r::<b>UnitRange{T<:Real}</b>) at <a href=\"https://github.com/JuliaLang/julia/tree/7e7462150f72721caf0e6bd6e7e7e500d1efb187/base/range.jl#L283\" target=\"_blank\">range.jl:283</a><li> show(io::<b>IO</b>,r::<b>Range{T}</b>) at <a href=\"https://github.com/JuliaLang/julia/tree/7e7462150f72721caf0e6bd6e7e7e500d1efb187/base/range.jl#L281\" target=\"_blank\">range.jl:281</a><li> show(io::<b>IO</b>,tv::<b>TypeVar</b>) at <a href=\"https://github.com/JuliaLang/julia/tree/7e7462150f72721caf0e6bd6e7e7e500d1efb187/base/expr.jl#L46\" target=\"_blank\">expr.jl:46</a><li> show(io::<b>IO</b>,z::<b>Complex{T<:Real}</b>) at <a href=\"https://github.com/JuliaLang/julia/tree/7e7462150f72721caf0e6bd6e7e7e500d1efb187/base/complex.jl#L80\" target=\"_blank\">complex.jl:80</a><li> show(io::<b>IO</b>,x::<b>Rational{T<:Integer}</b>) at <a href=\"https://github.com/JuliaLang/julia/tree/7e7462150f72721caf0e6bd6e7e7e500d1efb187/base/rational.jl#L35\" target=\"_blank\">rational.jl:35</a><li> show(io::<b>IO</b>,s::<b>IntSet</b>) at <a href=\"https://github.com/JuliaLang/julia/tree/7e7462150f72721caf0e6bd6e7e7e500d1efb187/base/intset.jl#L170\" target=\"_blank\">intset.jl:170</a><li> show(io::<b>IO</b>,::<b>EnvHash</b>) at <a href=\"https://github.com/JuliaLang/julia/tree/7e7462150f72721caf0e6bd6e7e7e500d1efb187/base/env.jl#L168\" target=\"_blank\">env.jl:168</a><li> show<i>{K,V}</i>(io::<b>IO</b>,t::<b>Associative{K,V}</b>) at <a href=\"https://github.com/JuliaLang/julia/tree/7e7462150f72721caf0e6bd6e7e7e500d1efb187/base/dict.jl#L20\" target=\"_blank\">dict.jl:20</a><li> show(io::<b>IO</b>,iter::<b>Union(KeyIterator{T<:Associative{K,V}},ValueIterator{T<:Associative{K,V}})</b>) at <a href=\"https://github.com/JuliaLang/julia/tree/7e7462150f72721caf0e6bd6e7e7e500d1efb187/base/dict.jl#L118\" target=\"_blank\">dict.jl:118</a><li> show(io::<b>IO</b>,s::<b>Set{T}</b>) at <a href=\"https://github.com/JuliaLang/julia/tree/7e7462150f72721caf0e6bd6e7e7e500d1efb187/base/set.jl#L10\" target=\"_blank\">set.jl:10</a><li> show(io::<b>IO</b>,c::<b>Char</b>) at <a href=\"https://github.com/JuliaLang/julia/tree/7e7462150f72721caf0e6bd6e7e7e500d1efb187/base/char.jl#L53\" target=\"_blank\">char.jl:53</a><li> show(io::<b>IO</b>,b::<b>IOBuffer</b>) at <a href=\"https://github.com/JuliaLang/julia/tree/7e7462150f72721caf0e6bd6e7e7e500d1efb187/base/iobuffer.jl#L27\" target=\"_blank\">iobuffer.jl:27</a><li> show(io::<b>IO</b>,s::<b>String</b>) at <a href=\"https://github.com/JuliaLang/julia/tree/7e7462150f72721caf0e6bd6e7e7e500d1efb187/base/string.jl#L69\" target=\"_blank\">string.jl:69</a><li> show(io::<b>IO</b>,re::<b>Regex</b>) at <a href=\"https://github.com/JuliaLang/julia/tree/7e7462150f72721caf0e6bd6e7e7e500d1efb187/base/regex.jl#L61\" target=\"_blank\">regex.jl:61</a><li> show(io::<b>IO</b>,m::<b>RegexMatch</b>) at <a href=\"https://github.com/JuliaLang/julia/tree/7e7462150f72721caf0e6bd6e7e7e500d1efb187/base/regex.jl#L89\" target=\"_blank\">regex.jl:89</a><li> show(io::<b>IO</b>,s::<b>IOStream</b>) at <a href=\"https://github.com/JuliaLang/julia/tree/7e7462150f72721caf0e6bd6e7e7e500d1efb187/base/iostream.jl#L26\" target=\"_blank\">iostream.jl:26</a><li> show(io::<b>IO</b>,t::<b>Task</b>) at <a href=\"https://github.com/JuliaLang/julia/tree/7e7462150f72721caf0e6bd6e7e7e500d1efb187/base/task.jl#L3\" target=\"_blank\">task.jl:3</a><li> show(io::<b>IO</b>,f::<b>Function</b>) at <a href=\"https://github.com/JuliaLang/julia/tree/7e7462150f72721caf0e6bd6e7e7e500d1efb187/base/show.jl#L57\" target=\"_blank\">show.jl:57</a><li> show(io::<b>IO</b>,x::<b>IntrinsicFunction</b>) at <a href=\"https://github.com/JuliaLang/julia/tree/7e7462150f72721caf0e6bd6e7e7e500d1efb187/base/show.jl#L67\" target=\"_blank\">show.jl:67</a><li> show(io::<b>IO</b>,x::<b>UnionType</b>) at <a href=\"https://github.com/JuliaLang/julia/tree/7e7462150f72721caf0e6bd6e7e7e500d1efb187/base/show.jl#L71\" target=\"_blank\">show.jl:71</a><li> show(io::<b>IO</b>,x::<b>TypeConstructor</b>) at <a href=\"https://github.com/JuliaLang/julia/tree/7e7462150f72721caf0e6bd6e7e7e500d1efb187/base/show.jl#L80\" target=\"_blank\">show.jl:80</a><li> show(io::<b>IO</b>,x::<b>DataType</b>) at <a href=\"https://github.com/JuliaLang/julia/tree/7e7462150f72721caf0e6bd6e7e7e500d1efb187/base/show.jl#L83\" target=\"_blank\">show.jl:83</a><li> show(io::<b>IO</b>,tn::<b>TypeName</b>) at <a href=\"https://github.com/JuliaLang/julia/tree/7e7462150f72721caf0e6bd6e7e7e500d1efb187/base/show.jl#L200\" target=\"_blank\">show.jl:200</a><li> show(io::<b>IO</b>,::<b>Nothing</b>) at <a href=\"https://github.com/JuliaLang/julia/tree/7e7462150f72721caf0e6bd6e7e7e500d1efb187/base/show.jl#L201\" target=\"_blank\">show.jl:201</a><li> show(io::<b>IO</b>,b::<b>Bool</b>) at <a href=\"https://github.com/JuliaLang/julia/tree/7e7462150f72721caf0e6bd6e7e7e500d1efb187/base/show.jl#L202\" target=\"_blank\">show.jl:202</a><li> show(io::<b>IO</b>,n::<b>Signed</b>) at <a href=\"https://github.com/JuliaLang/julia/tree/7e7462150f72721caf0e6bd6e7e7e500d1efb187/base/show.jl#L203\" target=\"_blank\">show.jl:203</a><li> show(io::<b>IO</b>,n::<b>Unsigned</b>) at <a href=\"https://github.com/JuliaLang/julia/tree/7e7462150f72721caf0e6bd6e7e7e500d1efb187/base/show.jl#L204\" target=\"_blank\">show.jl:204</a><li> show<i>{T}</i>(io::<b>IO</b>,p::<b>Ptr{T}</b>) at <a href=\"https://github.com/JuliaLang/julia/tree/7e7462150f72721caf0e6bd6e7e7e500d1efb187/base/show.jl#L116\" target=\"_blank\">show.jl:116</a><li> show(io::<b>IO</b>,m::<b>Module</b>) at <a href=\"https://github.com/JuliaLang/julia/tree/7e7462150f72721caf0e6bd6e7e7e500d1efb187/base/show.jl#L120\" target=\"_blank\">show.jl:120</a><li> show(io::<b>IO</b>,l::<b>LambdaStaticData</b>) at <a href=\"https://github.com/JuliaLang/julia/tree/7e7462150f72721caf0e6bd6e7e7e500d1efb187/base/show.jl#L128\" target=\"_blank\">show.jl:128</a><li> show(io::<b>IO</b>,t::<b>(Any...,)</b>) at <a href=\"https://github.com/JuliaLang/julia/tree/7e7462150f72721caf0e6bd6e7e7e500d1efb187/base/show.jl#L197\" target=\"_blank\">show.jl:197</a><li> show(io::<b>IO</b>,s::<b>Symbol</b>) at <a href=\"https://github.com/JuliaLang/julia/tree/7e7462150f72721caf0e6bd6e7e7e500d1efb187/base/show.jl#L199\" target=\"_blank\">show.jl:199</a><li> show(io::<b>IO</b>,ex::<b>Union(LabelNode,LineNumberNode,Expr,GotoNode,SymbolNode,TopNode,QuoteNode)</b>) at <a href=\"https://github.com/JuliaLang/julia/tree/7e7462150f72721caf0e6bd6e7e7e500d1efb187/base/show.jl#L234\" target=\"_blank\">show.jl:234</a><li> show(io::<b>IO</b>,W::<b>Woodbury{T}</b>) at <a href=\"https://github.com/JuliaLang/julia/tree/7e7462150f72721caf0e6bd6e7e7e500d1efb187/base/linalg/woodbury.jl#L42\" target=\"_blank\">linalg/woodbury.jl:42</a><li> show(io::<b>IO</b>,M::<b>Bidiagonal{T}</b>) at <a href=\"https://github.com/JuliaLang/julia/tree/7e7462150f72721caf0e6bd6e7e7e500d1efb187/base/linalg/bidiag.jl#L56\" target=\"_blank\">linalg/bidiag.jl:56</a><li> show(io::<b>IO</b>,v::<b>AbstractArray{Any,1}</b>) at <a href=\"https://github.com/JuliaLang/julia/tree/7e7462150f72721caf0e6bd6e7e7e500d1efb187/base/show.jl#L1102\" target=\"_blank\">show.jl:1102</a><li> show(io::<b>IO</b>,v::<b>AbstractArray{T,1}</b>) at <a href=\"https://github.com/JuliaLang/julia/tree/7e7462150f72721caf0e6bd6e7e7e500d1efb187/base/show.jl#L1103\" target=\"_blank\">show.jl:1103</a><li> show(io::<b>IO</b>,X::<b>AbstractArray{T,N}</b>) at <a href=\"https://github.com/JuliaLang/julia/tree/7e7462150f72721caf0e6bd6e7e7e500d1efb187/base/show.jl#L1038\" target=\"_blank\">show.jl:1038</a><li> show(io::<b>IO</b>,stream::<b>Pipe</b>) at <a href=\"https://github.com/JuliaLang/julia/tree/7e7462150f72721caf0e6bd6e7e7e500d1efb187/base/stream.jl#L171\" target=\"_blank\">stream.jl:171</a><li> show(io::<b>IO</b>,stream::<b>PipeServer</b>) at <a href=\"https://github.com/JuliaLang/julia/tree/7e7462150f72721caf0e6bd6e7e7e500d1efb187/base/stream.jl#L173\" target=\"_blank\">stream.jl:173</a><li> show(io::<b>IO</b>,stream::<b>TTY</b>) at <a href=\"https://github.com/JuliaLang/julia/tree/7e7462150f72721caf0e6bd6e7e7e500d1efb187/base/stream.jl#L215\" target=\"_blank\">stream.jl:215</a><li> show(io::<b>IO</b>,e::<b>UVError</b>) at <a href=\"https://github.com/JuliaLang/julia/tree/7e7462150f72721caf0e6bd6e7e7e500d1efb187/base/stream.jl#L824\" target=\"_blank\">stream.jl:824</a><li> show(io::<b>IO</b>,ip::<b>IPv4</b>) at <a href=\"https://github.com/JuliaLang/julia/tree/7e7462150f72721caf0e6bd6e7e7e500d1efb187/base/socket.jl#L29\" target=\"_blank\">socket.jl:29</a><li> show(io::<b>IO</b>,ip::<b>IPv6</b>) at <a href=\"https://github.com/JuliaLang/julia/tree/7e7462150f72721caf0e6bd6e7e7e500d1efb187/base/socket.jl#L81\" target=\"_blank\">socket.jl:81</a><li> show(io::<b>IO</b>,sock::<b>TcpSocket</b>) at <a href=\"https://github.com/JuliaLang/julia/tree/7e7462150f72721caf0e6bd6e7e7e500d1efb187/base/socket.jl#L324\" target=\"_blank\">socket.jl:324</a><li> show(io::<b>IO</b>,sock::<b>TcpServer</b>) at <a href=\"https://github.com/JuliaLang/julia/tree/7e7462150f72721caf0e6bd6e7e7e500d1efb187/base/socket.jl#L327\" target=\"_blank\">socket.jl:327</a><li> show(io::<b>IO</b>,st::<b>StatStruct</b>) at <a href=\"https://github.com/JuliaLang/julia/tree/7e7462150f72721caf0e6bd6e7e7e500d1efb187/base/stat.jl#L31\" target=\"_blank\">stat.jl:31</a><li> show(io::<b>IO</b>,cmd::<b>Cmd</b>) at <a href=\"https://github.com/JuliaLang/julia/tree/7e7462150f72721caf0e6bd6e7e7e500d1efb187/base/process.jl#L33\" target=\"_blank\">process.jl:33</a><li> show(io::<b>IO</b>,cmds::<b>OrCmds</b>) at <a href=\"https://github.com/JuliaLang/julia/tree/7e7462150f72721caf0e6bd6e7e7e500d1efb187/base/process.jl#L51\" target=\"_blank\">process.jl:51</a><li> show(io::<b>IO</b>,cmds::<b>AndCmds</b>) at <a href=\"https://github.com/JuliaLang/julia/tree/7e7462150f72721caf0e6bd6e7e7e500d1efb187/base/process.jl#L69\" target=\"_blank\">process.jl:69</a><li> show(io::<b>IO</b>,cr::<b>CmdRedirect</b>) at <a href=\"https://github.com/JuliaLang/julia/tree/7e7462150f72721caf0e6bd6e7e7e500d1efb187/base/process.jl#L123\" target=\"_blank\">process.jl:123</a><li> show(io::<b>IO</b>,p::<b>Process</b>) at <a href=\"https://github.com/JuliaLang/julia/tree/7e7462150f72721caf0e6bd6e7e7e500d1efb187/base/process.jl#L622\" target=\"_blank\">process.jl:622</a><li> show<i>{mime}</i>(io::<b>IO</b>,::<b>MIME{mime}</b>) at <a href=\"https://github.com/JuliaLang/julia/tree/7e7462150f72721caf0e6bd6e7e7e500d1efb187/base/multimedia.jl#L16\" target=\"_blank\">multimedia.jl:16</a><li> show(io::<b>IO</b>,x::<b>Float64</b>) at <a href=\"https://github.com/JuliaLang/julia/tree/7e7462150f72721caf0e6bd6e7e7e500d1efb187/base/grisu.jl#L114\" target=\"_blank\">grisu.jl:114</a><li> show(io::<b>IO</b>,x::<b>Float32</b>) at <a href=\"https://github.com/JuliaLang/julia/tree/7e7462150f72721caf0e6bd6e7e7e500d1efb187/base/grisu.jl#L115\" target=\"_blank\">grisu.jl:115</a><li> show(io::<b>IO</b>,x::<b>Float16</b>) at <a href=\"https://github.com/JuliaLang/julia/tree/7e7462150f72721caf0e6bd6e7e7e500d1efb187/base/grisu.jl#L116\" target=\"_blank\">grisu.jl:116</a><li> show(io::<b>IO</b>,m::<b>Method</b>) at <a href=\"https://github.com/JuliaLang/julia/tree/7e7462150f72721caf0e6bd6e7e7e500d1efb187/base/methodshow.jl#L35\" target=\"_blank\">methodshow.jl:35</a><li> show(io::<b>IO</b>,mt::<b>MethodTable</b>) at <a href=\"https://github.com/JuliaLang/julia/tree/7e7462150f72721caf0e6bd6e7e7e500d1efb187/base/methodshow.jl#L74\" target=\"_blank\">methodshow.jl:74</a><li> show(io::<b>IO</b>,cman::<b>LocalManager</b>) at <a href=\"https://github.com/JuliaLang/julia/tree/7e7462150f72721caf0e6bd6e7e7e500d1efb187/base/multi.jl#L1109\" target=\"_blank\">multi.jl:1109</a><li> show(io::<b>IO</b>,cman::<b>SSHManager</b>) at <a href=\"https://github.com/JuliaLang/julia/tree/7e7462150f72721caf0e6bd6e7e7e500d1efb187/base/multi.jl#L1144\" target=\"_blank\">multi.jl:1144</a><li> show(io::<b>IO</b>,x::<b>BigInt</b>) at <a href=\"https://github.com/JuliaLang/julia/tree/7e7462150f72721caf0e6bd6e7e7e500d1efb187/base/gmp.jl#L417\" target=\"_blank\">gmp.jl:417</a><li> show(io::<b>IO</b>,b::<b>BigFloat</b>) at <a href=\"https://github.com/JuliaLang/julia/tree/7e7462150f72721caf0e6bd6e7e7e500d1efb187/base/mpfr.jl#L762\" target=\"_blank\">mpfr.jl:762</a><li> show(io::<b>IO</b>,u::<b>UUID</b>) at <a href=\"https://github.com/JuliaLang/julia/tree/7e7462150f72721caf0e6bd6e7e7e500d1efb187/base/random.jl#L297\" target=\"_blank\">random.jl:297</a><li> show(io::<b>IO</b>,v::<b>VersionNumber</b>) at <a href=\"https://github.com/JuliaLang/julia/tree/7e7462150f72721caf0e6bd6e7e7e500d1efb187/base/version.jl#L57\" target=\"_blank\">version.jl:57</a><li> show(io::<b>IO</b>,x::<b>Prompt</b>) at <a href=\"https://github.com/JuliaLang/julia/tree/7e7462150f72721caf0e6bd6e7e7e500d1efb187/base/LineEdit.jl#L48\" target=\"_blank\">LineEdit.jl:48</a><li> show(io::<b>IO</b>,C::<b>Cholesky{T}</b>) at <a href=\"https://github.com/JuliaLang/julia/tree/7e7462150f72721caf0e6bd6e7e7e500d1efb187/base/linalg/factorization.jl#L83\" target=\"_blank\">linalg/factorization.jl:83</a><li> show(io::<b>IO</b>,J::<b>UniformScaling{T<:Number}</b>) at <a href=\"https://github.com/JuliaLang/julia/tree/7e7462150f72721caf0e6bd6e7e7e500d1efb187/base/linalg/uniformscaling.jl#L14\" target=\"_blank\">linalg/uniformscaling.jl:14</a><li> show(io::<b>IO</b>,f::<b>UmfpackLU{Tv<:Union(Float64,Complex{Float64}),Ti<:Union(Int64,Int32)}</b>) at <a href=\"https://github.com/JuliaLang/julia/tree/7e7462150f72721caf0e6bd6e7e7e500d1efb187/base/linalg/umfpack.jl#L134\" target=\"_blank\">linalg/umfpack.jl:134</a><li> show(io::<b>IO</b>,cd::<b>CholmodDense{T<:Union(Complex{Float32},Float64,Float32,Complex{Float64})}</b>) at <a href=\"https://github.com/JuliaLang/julia/tree/7e7462150f72721caf0e6bd6e7e7e500d1efb187/base/linalg/cholmod.jl#L382\" target=\"_blank\">linalg/cholmod.jl:382</a><li> show(io::<b>IO</b>,L::<b>CholmodFactor{Tv<:Union(Complex{Float32},Float64,Float32,Complex{Float64}),Ti<:Union(Int64,Int32)}</b>) at <a href=\"https://github.com/JuliaLang/julia/tree/7e7462150f72721caf0e6bd6e7e7e500d1efb187/base/linalg/cholmod.jl#L914\" target=\"_blank\">linalg/cholmod.jl:914</a><li> show(io::<b>IO</b>,A::<b>CholmodSparse{Tv<:Union(Complex{Float32},Float64,Float32,Complex{Float64}),Ti<:Union(Int64,Int32)}</b>) at <a href=\"https://github.com/JuliaLang/julia/tree/7e7462150f72721caf0e6bd6e7e7e500d1efb187/base/linalg/cholmod.jl#L915\" target=\"_blank\">linalg/cholmod.jl:915</a><li> show(io::<b>IO</b>,info::<b>CPUinfo</b>) at <a href=\"https://github.com/JuliaLang/julia/tree/7e7462150f72721caf0e6bd6e7e7e500d1efb187/base/sysinfo.jl#L58\" target=\"_blank\">sysinfo.jl:58</a><li> show(io::<b>IO</b>,info::<b>CPUinfo</b>,header::<b>Bool</b>) at <a href=\"https://github.com/JuliaLang/julia/tree/7e7462150f72721caf0e6bd6e7e7e500d1efb187/base/sysinfo.jl#L58\" target=\"_blank\">sysinfo.jl:58</a><li> show(io::<b>IO</b>,info::<b>CPUinfo</b>,header::<b>Bool</b>,prefix::<b>String</b>) at <a href=\"https://github.com/JuliaLang/julia/tree/7e7462150f72721caf0e6bd6e7e7e500d1efb187/base/sysinfo.jl#L58\" target=\"_blank\">sysinfo.jl:58</a><li> show<i>{sym}</i>(io::<b>IO</b>,x::<b>MathConst{sym}</b>) at <a href=\"https://github.com/JuliaLang/julia/tree/7e7462150f72721caf0e6bd6e7e7e500d1efb187/base/constants.jl#L5\" target=\"_blank\">constants.jl:5</a><li> show(io::<b>IO</b>,i::<b>VersionInterval</b>) at <a href=\"https://github.com/JuliaLang/julia/tree/7e7462150f72721caf0e6bd6e7e7e500d1efb187/base/pkg/types.jl#L13\" target=\"_blank\">pkg/types.jl:13</a><li> show(io::<b>IO</b>,s::<b>VersionSet</b>) at <a href=\"https://github.com/JuliaLang/julia/tree/7e7462150f72721caf0e6bd6e7e7e500d1efb187/base/pkg/types.jl#L36\" target=\"_blank\">pkg/types.jl:36</a><li> show(io::<b>IO</b>,a::<b>Available</b>) at <a href=\"https://github.com/JuliaLang/julia/tree/7e7462150f72721caf0e6bd6e7e7e500d1efb187/base/pkg/types.jl#L69\" target=\"_blank\">pkg/types.jl:69</a><li> show(io::<b>IO</b>,f::<b>Fixed</b>) at <a href=\"https://github.com/JuliaLang/julia/tree/7e7462150f72721caf0e6bd6e7e7e500d1efb187/base/pkg/types.jl#L81\" target=\"_blank\">pkg/types.jl:81</a><li> show(io::<b>IO</b>,blk::<b>DequeBlock{T}</b>) at <a href=\"https://github.com/JuliaLang/DataStructures.jl/tree/87a29b0a0fdde625037943759a51c3be069a3951/src/deque.jl#L46\" target=\"_blank\">/Users/david/.julia/DataStructures/src/deque.jl:46</a><li> show(io::<b>IO</b>,q::<b>Deque{T}</b>) at <a href=\"https://github.com/JuliaLang/DataStructures.jl/tree/87a29b0a0fdde625037943759a51c3be069a3951/src/deque.jl#L139\" target=\"_blank\">/Users/david/.julia/DataStructures/src/deque.jl:139</a><li> show(io::<b>IO</b>,h::<b>MutableBinaryHeap{VT,Comp}</b>) at <a href=\"https://github.com/JuliaLang/DataStructures.jl/tree/87a29b0a0fdde625037943759a51c3be069a3951/src/heaps/mutable_binary_heap.jl#L177\" target=\"_blank\">/Users/david/.julia/DataStructures/src/heaps/mutable_binary_heap.jl:177</a><li> show(io::<b>IO</b>,s::<b>OrderedSet{T}</b>) at <a href=\"https://github.com/JuliaLang/DataStructures.jl/tree/87a29b0a0fdde625037943759a51c3be069a3951/src/orderedset.jl#L18\" target=\"_blank\">/Users/david/.julia/DataStructures/src/orderedset.jl:18</a><li> show<i>{T}</i>(io::<b>IO</b>,l::<b>LinkedList{T}</b>) at <a href=\"https://github.com/JuliaLang/DataStructures.jl/tree/87a29b0a0fdde625037943759a51c3be069a3951/src/list.jl#L20\" target=\"_blank\">/Users/david/.julia/DataStructures/src/list.jl:20</a><li> show<i>{T<:HashAlgorithm}</i>(io::<b>IO</b>,::<b>HashState{T<:HashAlgorithm}</b>) at <a href=\"https://github.com/staticfloat/Nettle.jl/tree/1eb727b1e18e8e4c5d42b7572972a245f1e270e5/src/hash.jl#L94\" target=\"_blank\">/Users/david/.julia/Nettle/src/hash.jl:94</a><li> show<i>{T<:HashAlgorithm}</i>(io::<b>IO</b>,::<b>HMACState{T<:HashAlgorithm}</b>) at <a href=\"https://github.com/staticfloat/Nettle.jl/tree/1eb727b1e18e8e4c5d42b7572972a245f1e270e5/src/hmac.jl#L16\" target=\"_blank\">/Users/david/.julia/Nettle/src/hmac.jl:16</a><li> show(io::<b>IO</b>,msg::<b>Msg</b>) at <a href=\"https://github.com/JuliaLang/IJulia.jl/tree/a91a484ddc369022c462ae88d290bc2158df834e/src/msg.jl#L38\" target=\"_blank\">/Users/david/.julia/IJulia/src/msg.jl:38</a><li> show(io::<b>IO</b>,x::<b>ANY</b>) at <a href=\"https://github.com/JuliaLang/julia/tree/7e7462150f72721caf0e6bd6e7e7e500d1efb187/base/show.jl#L7\" target=\"_blank\">show.jl:7</a><li> show(x) at <a href=\"https://github.com/JuliaLang/julia/tree/7e7462150f72721caf0e6bd6e7e7e500d1efb187/base/show.jl#L2\" target=\"_blank\">show.jl:2</a></ul>"
       ],
       "metadata": {},
       "output_type": "pyout",
       "prompt_number": 3,
       "text": [
        "# 89 methods for generic function \"show\":\n",
        "show(io::IO,r::UnitRange{T<:Real}) at range.jl:283\n",
        "show(io::IO,r::Range{T}) at range.jl:281\n",
        "show(io::IO,tv::TypeVar) at expr.jl:46\n",
        "show(io::IO,z::Complex{T<:Real}) at complex.jl:80\n",
        "show(io::IO,x::Rational{T<:Integer}) at rational.jl:35\n",
        "show(io::IO,s::IntSet) at intset.jl:170\n",
        "show(io::IO,::EnvHash) at env.jl:168\n",
        "show{K,V}(io::IO,t::Associative{K,V}) at dict.jl:20\n",
        "show(io::IO,iter::Union(KeyIterator{T<:Associative{K,V}},ValueIterator{T<:Associative{K,V}})) at dict.jl:118\n",
        "show(io::IO,s::Set{T}) at set.jl:10\n",
        "show(io::IO,c::Char) at char.jl:53\n",
        "show(io::IO,b::IOBuffer) at iobuffer.jl:27\n",
        "show(io::IO,s::String) at string.jl:69\n",
        "show(io::IO,re::Regex) at regex.jl:61\n",
        "show(io::IO,m::RegexMatch) at regex.jl:89\n",
        "show(io::IO,s::IOStream) at iostream.jl:26\n",
        "show(io::IO,t::Task) at task.jl:3\n",
        "show(io::IO,f::Function) at show.jl:57\n",
        "show(io::IO,x::IntrinsicFunction) at show.jl:67\n",
        "show(io::IO,x::UnionType) at show.jl:71\n",
        "show(io::IO,x::TypeConstructor) at show.jl:80\n",
        "show(io::IO,x::DataType) at show.jl:83\n",
        "show(io::IO,tn::TypeName) at show.jl:200\n",
        "show(io::IO,::Nothing) at show.jl:201\n",
        "show(io::IO,b::Bool) at show.jl:202\n",
        "show(io::IO,n::Signed) at show.jl:203\n",
        "show(io::IO,n::Unsigned) at show.jl:204\n",
        "show{T}(io::IO,p::Ptr{T}) at show.jl:116\n",
        "show(io::IO,m::Module) at show.jl:120\n",
        "show(io::IO,l::LambdaStaticData) at show.jl:128\n",
        "show(io::IO,t::(Any...,)) at show.jl:197\n",
        "show(io::IO,s::Symbol) at show.jl:199\n",
        "show(io::IO,ex::Union(LabelNode,LineNumberNode,Expr,GotoNode,SymbolNode,TopNode,QuoteNode)) at show.jl:234\n",
        "show(io::IO,W::Woodbury{T}) at linalg/woodbury.jl:42\n",
        "show(io::IO,M::Bidiagonal{T}) at linalg/bidiag.jl:56\n",
        "show(io::IO,v::AbstractArray{Any,1}) at show.jl:1102\n",
        "show(io::IO,v::AbstractArray{T,1}) at show.jl:1103\n",
        "show(io::IO,X::AbstractArray{T,N}) at show.jl:1038\n",
        "show(io::IO,stream::Pipe) at stream.jl:171\n",
        "show(io::IO,stream::PipeServer) at stream.jl:173\n",
        "show(io::IO,stream::TTY) at stream.jl:215\n",
        "show(io::IO,e::UVError) at stream.jl:824\n",
        "show(io::IO,ip::IPv4) at socket.jl:29\n",
        "show(io::IO,ip::IPv6) at socket.jl:81\n",
        "show(io::IO,sock::TcpSocket) at socket.jl:324\n",
        "show(io::IO,sock::TcpServer) at socket.jl:327\n",
        "show(io::IO,st::StatStruct) at stat.jl:31\n",
        "show(io::IO,cmd::Cmd) at process.jl:33\n",
        "show(io::IO,cmds::OrCmds) at process.jl:51\n",
        "show(io::IO,cmds::AndCmds) at process.jl:69\n",
        "show(io::IO,cr::CmdRedirect) at process.jl:123\n",
        "show(io::IO,p::Process) at process.jl:622\n",
        "show{mime}(io::IO,::MIME{mime}) at multimedia.jl:16\n",
        "show(io::IO,x::Float64) at grisu.jl:114\n",
        "show(io::IO,x::Float32) at grisu.jl:115\n",
        "show(io::IO,x::Float16) at grisu.jl:116\n",
        "show(io::IO,m::Method) at methodshow.jl:35\n",
        "show(io::IO,mt::MethodTable) at methodshow.jl:74\n",
        "show(io::IO,cman::LocalManager) at multi.jl:1109\n",
        "show(io::IO,cman::SSHManager) at multi.jl:1144\n",
        "show(io::IO,x::BigInt) at gmp.jl:417\n",
        "show(io::IO,b::BigFloat) at mpfr.jl:762\n",
        "show(io::IO,u::UUID) at random.jl:297\n",
        "show(io::IO,v::VersionNumber) at version.jl:57\n",
        "show(io::IO,x::Prompt) at LineEdit.jl:48\n",
        "show(io::IO,C::Cholesky{T}) at linalg/factorization.jl:83\n",
        "show(io::IO,J::UniformScaling{T<:Number}) at linalg/uniformscaling.jl:14\n",
        "show(io::IO,f::UmfpackLU{Tv<:Union(Float64,Complex{Float64}),Ti<:Union(Int64,Int32)}) at linalg/umfpack.jl:134\n",
        "show(io::IO,cd::CholmodDense{T<:Union(Complex{Float32},Float64,Float32,Complex{Float64})}) at linalg/cholmod.jl:382\n",
        "show(io::IO,L::CholmodFactor{Tv<:Union(Complex{Float32},Float64,Float32,Complex{Float64}),Ti<:Union(Int64,Int32)}) at linalg/cholmod.jl:914\n",
        "show(io::IO,A::CholmodSparse{Tv<:Union(Complex{Float32},Float64,Float32,Complex{Float64}),Ti<:Union(Int64,Int32)}) at linalg/cholmod.jl:915\n",
        "show(io::IO,info::CPUinfo) at sysinfo.jl:58\n",
        "show(io::IO,info::CPUinfo,header::Bool) at sysinfo.jl:58\n",
        "show(io::IO,info::CPUinfo,header::Bool,prefix::String) at sysinfo.jl:58\n",
        "show{sym}(io::IO,x::MathConst{sym}) at constants.jl:5\n",
        "show(io::IO,i::VersionInterval) at pkg/types.jl:13\n",
        "show(io::IO,s::VersionSet) at pkg/types.jl:36\n",
        "show(io::IO,a::Available) at pkg/types.jl:69\n",
        "show(io::IO,f::Fixed) at pkg/types.jl:81\n",
        "show(io::IO,blk::DequeBlock{T}) at /Users/david/.julia/DataStructures/src/deque.jl:46\n",
        "show(io::IO,q::Deque{T}) at /Users/david/.julia/DataStructures/src/deque.jl:139\n",
        "show(io::IO,h::MutableBinaryHeap{VT,Comp}) at /Users/david/.julia/DataStructures/src/heaps/mutable_binary_heap.jl:177\n",
        "show(io::IO,s::OrderedSet{T}) at /Users/david/.julia/DataStructures/src/orderedset.jl:18\n",
        "show{T}(io::IO,l::LinkedList{T}) at /Users/david/.julia/DataStructures/src/list.jl:20\n",
        "show{T<:HashAlgorithm}(io::IO,::HashState{T<:HashAlgorithm}) at /Users/david/.julia/Nettle/src/hash.jl:94\n",
        "show{T<:HashAlgorithm}(io::IO,::HMACState{T<:HashAlgorithm}) at /Users/david/.julia/Nettle/src/hmac.jl:16\n",
        "show(io::IO,msg::Msg) at /Users/david/.julia/IJulia/src/msg.jl:38\n",
        "show(io::IO,x::ANY) at show.jl:7\n",
        "show(x) at show.jl:2"
       ]
      }
     ],
     "prompt_number": 3
    },
    {
     "cell_type": "code",
     "collapsed": false,
     "input": [
      "Base.show(io::IO, v::Vector2D) = print(io, \"[$(v.x), $(v.y)]\")"
     ],
     "language": "python",
     "metadata": {},
     "outputs": [
      {
       "metadata": {},
       "output_type": "pyout",
       "prompt_number": 20,
       "text": [
        "show (generic function with 91 methods)"
       ]
      }
     ],
     "prompt_number": 20
    },
    {
     "cell_type": "code",
     "collapsed": false,
     "input": [
      "v"
     ],
     "language": "python",
     "metadata": {},
     "outputs": [
      {
       "metadata": {},
       "output_type": "pyout",
       "prompt_number": 18,
       "text": [
        "[3.0, 4.0]"
       ]
      }
     ],
     "prompt_number": 18
    },
    {
     "cell_type": "code",
     "collapsed": false,
     "input": [
      "Vector2D(3im, 4im)"
     ],
     "language": "python",
     "metadata": {},
     "outputs": [
      {
       "ename": "LoadError",
       "evalue": "no method Vector2D{T<:Real}(Complex{Int64}, Complex{Int64})\nwhile loading In[19], in expression starting on line 1",
       "output_type": "pyerr",
       "traceback": [
        "no method Vector2D{T<:Real}(Complex{Int64}, Complex{Int64})\nwhile loading In[19], in expression starting on line 1"
       ]
      }
     ],
     "prompt_number": 19
    },
    {
     "cell_type": "code",
     "collapsed": false,
     "input": [
      "code = \n",
      "\"\"\"\n",
      "function testinf(a, b)\n",
      "    y = a + b\n",
      "    return sin(y)\n",
      "end\n",
      "\"\"\"\n",
      "ex = parse(code)\n",
      "eval(ex)"
     ],
     "language": "python",
     "metadata": {},
     "outputs": [
      {
       "metadata": {},
       "output_type": "pyout",
       "prompt_number": 29,
       "text": [
        "testinf (generic function with 1 method)"
       ]
      }
     ],
     "prompt_number": 29
    },
    {
     "cell_type": "code",
     "collapsed": false,
     "input": [
      "function testinf(a, b)\n",
      "    y = a + b\n",
      "    return sin(y)\n",
      "end\n"
     ],
     "language": "python",
     "metadata": {},
     "outputs": [
      {
       "metadata": {},
       "output_type": "pyout",
       "prompt_number": 21,
       "text": [
        "testinf (generic function with 1 method)"
       ]
      }
     ],
     "prompt_number": 21
    },
    {
     "cell_type": "code",
     "collapsed": false,
     "input": [
      "code_lowered(testinf,(Int, Int))"
     ],
     "language": "python",
     "metadata": {},
     "outputs": [
      {
       "metadata": {},
       "output_type": "pyout",
       "prompt_number": 24,
       "text": [
        "1-element Array{Any,1}:\n",
        " :($(Expr(:lambda, {:a,:b}, {{:y},{{:a,:Any,0},{:b,:Any,0},{:y,:Any,18}},{}}, :(begin  # In[21], line 2:\n",
        "        y = a + b # line 3:\n",
        "        return sin(y)\n",
        "    end))))"
       ]
      }
     ],
     "prompt_number": 24
    },
    {
     "cell_type": "code",
     "collapsed": false,
     "input": [
      "code_typed(testinf, (Int, Int))"
     ],
     "language": "python",
     "metadata": {},
     "outputs": [
      {
       "metadata": {},
       "output_type": "pyout",
       "prompt_number": 22,
       "text": [
        "1-element Array{Any,1}:\n",
        " :($(Expr(:lambda, {:a,:b}, {{:y,:_var1},{{:a,Int64,0},{:b,Int64,0},{:y,Int64,18},{:_var1,Float64,18}},{}}, :(begin  # In[21], line 2:\n",
        "        y = top(box)(Int64,top(add_int)(a::Int64,b::Int64))::Int64 # line 3:\n",
        "        _var1 = GetfieldNode(Base.Math,:box,Any)(Float64,top(sitofp)(Float64,y::Int64))::Float64\n",
        "        return GetfieldNode(Base.Math,:nan_dom_err,Any)(top(ccall)($(Expr(:call1, :(top(tuple)), \"sin\", GetfieldNode(Base.Math,:libm,Any)))::(ASCIIString,ASCIIString),Float64,$(Expr(:call1, :(top(tuple)), :Float64))::(Type{Float64},),_var1::Float64,0)::Float64,_var1::Float64)::Float64\n",
        "    end::Float64))))"
       ]
      }
     ],
     "prompt_number": 22
    },
    {
     "cell_type": "code",
     "collapsed": false,
     "input": [
      "code_typed(testinf, (Float64, Float64))"
     ],
     "language": "python",
     "metadata": {},
     "outputs": [
      {
       "metadata": {},
       "output_type": "pyout",
       "prompt_number": 23,
       "text": [
        "1-element Array{Any,1}:\n",
        " :($(Expr(:lambda, {:a,:b}, {{:y},{{:a,Float64,0},{:b,Float64,0},{:y,Float64,18}},{}}, :(begin  # In[21], line 2:\n",
        "        y = top(box)(Float64,top(add_float)(a::Float64,b::Float64))::Float64 # line 3:\n",
        "        return GetfieldNode(Base.Math,:nan_dom_err,Any)(top(ccall)($(Expr(:call1, :(top(tuple)), \"sin\", GetfieldNode(Base.Math,:libm,Any)))::(ASCIIString,ASCIIString),Float64,$(Expr(:call1, :(top(tuple)), :Float64))::(Type{Float64},),y::Float64,0)::Float64,y::Float64)::Float64\n",
        "    end::Float64))))"
       ]
      }
     ],
     "prompt_number": 23
    },
    {
     "cell_type": "code",
     "collapsed": false,
     "input": [
      "code_llvm(testinf, (Int, Int))"
     ],
     "language": "python",
     "metadata": {},
     "outputs": [
      {
       "output_type": "stream",
       "stream": "stdout",
       "text": [
        "\n",
        "define double @\"julia_testinf;19510\"(i64, i64) {\n",
        "top:\n",
        "  %2 = add i64 %1, %0, !dbg !2501\n",
        "  %3 = sitofp i64 %2 to double, !dbg !2502\n",
        "  %4 = call double inttoptr (i64 4514612992 to double (double)*)(double %3), !dbg !2502\n",
        "  %5 = fcmp ord double %4, 0.000000e+00, !dbg !2502\n",
        "  %6 = fcmp uno double %3, 0.000000e+00, !dbg !2502\n",
        "  %7 = or i1 %5, %6, !dbg !2502\n",
        "  br i1 %7, label %pass, label %fail, !dbg !2502\n",
        "\n",
        "fail:                                             ; preds = %top\n",
        "  %8 = load %jl_value_t** @jl_domain_exception, align 8, !dbg !2502, !tbaa %jtbaa_const\n",
        "  call void @jl_throw_with_superfluous_argument(%jl_value_t* %8, i32 3), !dbg !2502\n",
        "  unreachable, !dbg !2502\n",
        "\n",
        "pass:                                             ; preds = %top\n",
        "  ret double %4, !dbg !2502\n",
        "}\n"
       ]
      }
     ],
     "prompt_number": 25
    },
    {
     "cell_type": "code",
     "collapsed": false,
     "input": [
      "code_native(testinf, (Int, Int))"
     ],
     "language": "python",
     "metadata": {},
     "outputs": [
      {
       "output_type": "stream",
       "stream": "stdout",
       "text": [
        "\t.section\t__TEXT,__text,regular,pure_instructions\n",
        "Filename: In[21]\n",
        "Source line: 2\n",
        "\tpush\tRBP\n",
        "\tmov\tRBP, RSP\n",
        "Source line: 2\n",
        "\tsub\tRSP, 16\n",
        "\tadd\tRDI, RSI\n",
        "Source line: 3\n",
        "\tvcvtsi2sd\tXMM0, XMM0, RDI\n",
        "\tvmovsd\tQWORD PTR [RBP - 8], XMM0\n",
        "\tmovabs\tRAX, 4514612992\n",
        "\tcall\tRAX\n",
        "\tvucomisd\tXMM0, XMM0\n",
        "\tjp\t6\n",
        "\tadd\tRSP, 16\n",
        "\tpop\tRBP\n",
        "\tret\n",
        "\tvmovsd\tXMM1, QWORD PTR [RBP - 8]\n",
        "\tvucomisd\tXMM1, XMM1\n",
        "\tjp\t-21\n",
        "\tmovabs\tRAX, 4380089384\n",
        "\tmov\tRDI, QWORD PTR [RAX]\n",
        "\tmovabs\tRAX, 4367555552\n",
        "\tmov\tESI, 3\n",
        "\tcall\tRAX\n"
       ]
      }
     ],
     "prompt_number": 26
    },
    {
     "cell_type": "code",
     "collapsed": false,
     "input": [
      "names(testinf)"
     ],
     "language": "python",
     "metadata": {},
     "outputs": [
      {
       "metadata": {},
       "output_type": "pyout",
       "prompt_number": 32,
       "text": [
        "3-element Array{Symbol,1}:\n",
        " :fptr\n",
        " :env \n",
        " :code"
       ]
      }
     ],
     "prompt_number": 32
    },
    {
     "cell_type": "code",
     "collapsed": false,
     "input": [
      "testinf.fptr"
     ],
     "language": "python",
     "metadata": {},
     "outputs": [
      {
       "metadata": {},
       "output_type": "pyout",
       "prompt_number": 34,
       "text": [
        "Ptr{Void} @0x00000001044f2e50"
       ]
      }
     ],
     "prompt_number": 34
    },
    {
     "cell_type": "code",
     "collapsed": false,
     "input": [
      "testinf.code"
     ],
     "language": "python",
     "metadata": {},
     "outputs": [
      {
       "ename": "LoadError",
       "evalue": "access to undefined reference\nwhile loading In[38], in expression starting on line 1",
       "output_type": "pyerr",
       "traceback": [
        "access to undefined reference\nwhile loading In[38], in expression starting on line 1"
       ]
      }
     ],
     "prompt_number": 38
    },
    {
     "cell_type": "code",
     "collapsed": false,
     "input": [
      "?dump"
     ],
     "language": "python",
     "metadata": {},
     "outputs": [
      {
       "output_type": "stream",
       "stream": "stderr",
       "text": [
        "INFO: Loading help data...\n"
       ]
      },
      {
       "output_type": "stream",
       "stream": "stdout",
       "text": [
        "Base.dump(x)\n",
        "\n",
        "   Show all user-visible structure of a value.\n"
       ]
      }
     ],
     "prompt_number": 11
    },
    {
     "cell_type": "heading",
     "level": 2,
     "metadata": {},
     "source": [
      "Possible solution of the `@until` exercise:"
     ]
    },
    {
     "cell_type": "code",
     "collapsed": false,
     "input": [
      "macro until(ex1, ex2)\n",
      "    quote\n",
      "        while !($ex1)\n",
      "            $ex2\n",
      "        end\n",
      "    end\n",
      "end"
     ],
     "language": "python",
     "metadata": {},
     "outputs": [],
     "prompt_number": 2
    },
    {
     "cell_type": "code",
     "collapsed": false,
     "input": [
      "i = 1\n",
      "\n",
      "@until i > 10 begin\n",
      "    println(i)\n",
      "    i += 1\n",
      "end"
     ],
     "language": "python",
     "metadata": {},
     "outputs": [
      {
       "output_type": "stream",
       "stream": "stdout",
       "text": [
        "1\n"
       ]
      },
      {
       "output_type": "stream",
       "stream": "stdout",
       "text": [
        "2\n",
        "3\n",
        "4\n",
        "5\n",
        "6\n",
        "7\n",
        "8\n",
        "9\n",
        "10\n"
       ]
      }
     ],
     "prompt_number": 10
    },
    {
     "cell_type": "code",
     "collapsed": false,
     "input": [
      "i = 1\n",
      "\n",
      "@until i > 10 \n",
      "begin\n",
      "    println(i)\n",
      "    i += 1\n",
      "end"
     ],
     "language": "python",
     "metadata": {},
     "outputs": [
      {
       "ename": "LoadError",
       "evalue": "wrong number of arguments\nwhile loading In[11], in expression starting on line 4",
       "output_type": "pyerr",
       "traceback": [
        "wrong number of arguments\nwhile loading In[11], in expression starting on line 4"
       ]
      }
     ],
     "prompt_number": 11
    },
    {
     "cell_type": "code",
     "collapsed": false,
     "input": [
      ":while"
     ],
     "language": "python",
     "metadata": {},
     "outputs": [
      {
       "metadata": {},
       "output_type": "pyout",
       "prompt_number": 13,
       "text": [
        ":while"
       ]
      }
     ],
     "prompt_number": 13
    },
    {
     "cell_type": "code",
     "collapsed": false,
     "input": [],
     "language": "python",
     "metadata": {},
     "outputs": []
    }
   ],
   "metadata": {}
  }
 ]
}