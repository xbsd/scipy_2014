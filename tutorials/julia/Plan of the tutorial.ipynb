{
 "metadata": {
  "language": "Julia",
  "name": "",
  "signature": "sha256:ac40a766118109b69c867e4f3ffa4193edae06fcc70eed311d5dd1b89954c4fb"
 },
 "nbformat": 3,
 "nbformat_minor": 0,
 "worksheets": [
  {
   "cells": [
    {
     "cell_type": "markdown",
     "metadata": {},
     "source": [
      "\n",
      "0:00 -- 0:20 Introduction\n",
      "\n",
      "Why Julia? Interactive, but compiled\n",
      "Installation\n",
      "Help: documentation and mailing lists\n",
      "Interactivity: REPL, IJulia, Lighttable\n",
      "\n",
      "\n",
      "I: Julia for users\n",
      "\n",
      "\n",
      "0:20 -- 0:40 Basic Julia\n",
      "\n",
      "Variables\n",
      "Control structures: if, while\n",
      "Ranges\n",
      "for\n",
      "Dictionaries\n",
      "\n",
      "0:40 -- 1:00 Scientific computing\n",
      "\n",
      "Vectors and matrices: Array\n",
      "Array comprehensions\n",
      "Random numbers\n",
      "Matlab-type notation\n",
      "\n",
      "Basic macro use: @time \n",
      "\n",
      "1:00 -- 1:15 BREAK\n",
      "\n",
      "1:15 -- 1:35 Functions\n",
      "\n",
      "Functions and methods\n",
      "Multiple dispatch\n",
      "\n",
      "1:35 -- 1:55 User-defined types\n",
      "\n",
      "Defining types\n",
      "Parametric types\n",
      "\n",
      "1:55 -- 2:25 Packages\n",
      "\n",
      "using, include, require, import\n",
      "Standard library\n",
      "Statistics\n",
      "DataStructures\n",
      "Graphics: PyPlot, GadFly\n",
      "The package ecosystem\n",
      "Profiling\n",
      "Tests\n",
      "\n",
      "2:25 -- 2:40 BREAK\n",
      "\n",
      "\n",
      "II: Developing in Julia\n",
      "\n",
      "2:40 -- 3:00\n",
      "\n",
      "Users are already developers\n",
      "Modules\n",
      "3:00 -- 3:20\n",
      "\n",
      "Metaprogramming\n",
      "Macros\n",
      "3:20 -- 3:40\n",
      "\n",
      "Interfacing with Python: the PyCall package\n",
      "3:40 -- 4:00\n",
      "\n",
      "Interfacing with C: ccall"
     ]
    },
    {
     "cell_type": "markdown",
     "metadata": {},
     "source": [
      "include: Lowest-level; reads file, evaluates every expression\n",
      "Like C #include\n",
      "Needs filename in quotes\n",
      "\n",
      "require: include + bunch of extra random useful behaviors (useful for dealing with packages)\n",
      "\n"
     ]
    },
    {
     "cell_type": "code",
     "collapsed": false,
     "input": [
      "help(require)"
     ],
     "language": "python",
     "metadata": {},
     "outputs": [
      {
       "output_type": "stream",
       "stream": "stderr",
       "text": [
        "INFO: Loading help data...\n"
       ]
      },
      {
       "output_type": "stream",
       "stream": "stdout",
       "text": [
        "Base.require(file::String...)\n",
        "\n",
        "   Load source files once, in the context of the \"Main\" module, on\n",
        "   every active node, searching the system-wide \"LOAD_PATH\" for\n",
        "   files. \"require\" is considered a top-level operation, so it sets\n",
        "   the current \"include\" path but does not use it to search for\n",
        "   files (see help for \"include\"). This function is typically used\n",
        "   to load library code, and is implicitly called by \"using\" to load\n",
        "   packages.\n"
       ]
      }
     ],
     "prompt_number": 1
    },
    {
     "cell_type": "markdown",
     "metadata": {},
     "source": [
      "import and using: Basically just namespace operations\n",
      "\n",
      "import x adds exactly the name x to the current namespace, referring to that module (as in Python)\n",
      "\n",
      "using x: Just same, but also looks inside x and imports the exported names into the namespace (like import *)\n",
      "\n",
      "Names brought in via using are readonly -- can't add methods to those names\n",
      "\n",
      "Can add methods to any name brought in by import\n",
      "\n",
      "using: Convenient access to everything without being able to accidentally mess with anything\n",
      "\n",
      "import and using additionally try to load a package if the thing you're looking for can't be found; done by require\n",
      "\n"
     ]
    },
    {
     "cell_type": "code",
     "collapsed": false,
     "input": [
      "help(using)"
     ],
     "language": "python",
     "metadata": {},
     "outputs": [
      {
       "ename": "LoadError",
       "evalue": "syntax: invalid syntax: \")\"\nwhile loading In[2], in expression starting on line 1",
       "output_type": "pyerr",
       "traceback": [
        "syntax: invalid syntax: \")\"\nwhile loading In[2], in expression starting on line 1"
       ]
      }
     ],
     "prompt_number": 2
    },
    {
     "cell_type": "code",
     "collapsed": false,
     "input": [
      "help(\"using\")"
     ],
     "language": "python",
     "metadata": {},
     "outputs": [
      {
       "output_type": "stream",
       "stream": "stdout",
       "text": [
        "No help information found.\n"
       ]
      }
     ],
     "prompt_number": 3
    },
    {
     "cell_type": "markdown",
     "metadata": {},
     "source": [
      "Unicode\n",
      "\n",
      "Matrix multiply\n",
      "\n",
      "Graphics\n",
      "\n",
      "Fast for loops\n",
      "\n",
      "Fun and educational"
     ]
    },
    {
     "cell_type": "code",
     "collapsed": false,
     "input": [],
     "language": "python",
     "metadata": {},
     "outputs": []
    }
   ],
   "metadata": {}
  }
 ]
}