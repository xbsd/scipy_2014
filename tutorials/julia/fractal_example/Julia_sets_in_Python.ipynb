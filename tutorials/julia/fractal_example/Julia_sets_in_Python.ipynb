{
 "metadata": {
  "name": "",
  "signature": "sha256:c4dedeb2f8a9c86eca0c3ca85bf5b42d36a830fbcf7669c0ad8d7711f5b6bf3b"
 },
 "nbformat": 3,
 "nbformat_minor": 0,
 "worksheets": [
  {
   "cells": [
    {
     "cell_type": "code",
     "collapsed": false,
     "input": [
      "def julia(z, c, maxiter=200):\n",
      "    for n in xrange(maxiter):\n",
      "        if abs(z) > 4:\n",
      "            return n-1\n",
      "        \n",
      "        z = z*z + c\n",
      "    \n",
      "    return maxiter\n"
     ],
     "language": "python",
     "metadata": {},
     "outputs": [],
     "prompt_number": 1
    },
    {
     "cell_type": "code",
     "collapsed": false,
     "input": [
      "import numpy as np"
     ],
     "language": "python",
     "metadata": {},
     "outputs": [],
     "prompt_number": 8
    },
    {
     "cell_type": "code",
     "collapsed": false,
     "input": [
      "#@time m = [ uint8(julia(complex(r,i), complex(-.06,.67))) for i=1:-.002:-1, r=-1.5:.002:1.5 ];"
     ],
     "language": "python",
     "metadata": {},
     "outputs": []
    },
    {
     "cell_type": "code",
     "collapsed": false,
     "input": [
      "#X, Y = np.ogrid[1:-1:-.002, -1.5:1.5:.002]\n",
      "#m = [[ int(julia(complex(r,i), complex(-.06,.67))) for i in np.arange(1, 1,-.002)] \n",
      "#     for r in np.arange(-1.5, 1.5, 0.002)];\n",
      "\n",
      "\n"
     ],
     "language": "python",
     "metadata": {},
     "outputs": [],
     "prompt_number": 20
    },
    {
     "cell_type": "code",
     "collapsed": false,
     "input": [
      "%%time\n",
      "for i in np.r_[1:-1:-.002]:\n",
      "    for r in np.r_[-1.5:1.5:0.002]:\n",
      "        julia(complex(r,i), complex(-.06, .67))\n",
      "        "
     ],
     "language": "python",
     "metadata": {},
     "outputs": [
      {
       "output_type": "stream",
       "stream": "stdout",
       "text": [
        "CPU times: user 16.4 s, sys: 99.4 ms, total: 16.5 s\n",
        "Wall time: 16.5 s\n"
       ]
      }
     ],
     "prompt_number": 23
    },
    {
     "cell_type": "code",
     "collapsed": false,
     "input": [],
     "language": "python",
     "metadata": {},
     "outputs": []
    }
   ],
   "metadata": {}
  }
 ]
}