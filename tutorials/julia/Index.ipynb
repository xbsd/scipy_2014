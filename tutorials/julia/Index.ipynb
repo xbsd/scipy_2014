{
 "metadata": {
  "language": "Julia",
  "name": "",
  "signature": "sha256:ced7461e2d3260f8f8bd9ace3b422569dc5a70409342f5aebced067c4f5f4829"
 },
 "nbformat": 3,
 "nbformat_minor": 0,
 "worksheets": [
  {
   "cells": [
    {
     "cell_type": "markdown",
     "metadata": {},
     "source": [
      "We will cover the following topics:"
     ]
    },
    {
     "cell_type": "markdown",
     "metadata": {},
     "source": [
      "- [Why Julia?](Why Julia.ipynb) (presentation)\n",
      "- Fractal examples \n",
      "- [Basic Julia syntax](Introduction to Julia.ipynb)\n",
      "- [Graphics and packages](Graphics and packages in Julia.ipynb)\n",
      "- [Defining a new type](Example of defining a new type.ipynb)\n",
      "- [Performance in Julia](Performance in Julia.ipynb)\n",
      "- [Metaprogramming](Metaprogramming.ipynb)\n",
      "- [Interoperability with Python and C](Interoperability with Python and C.ipynb)\n",
      "- [Where to go next](What's next.ipynb)"
     ]
    }
   ],
   "metadata": {}
  }
 ]
}