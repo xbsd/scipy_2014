{
 "metadata": {
  "language": "Julia",
  "name": "",
  "signature": "sha256:0d986bca30f96dc6ec80fc7a5212a008e07e9a6c839aa11409f502bccaa61bb7"
 },
 "nbformat": 3,
 "nbformat_minor": 0,
 "worksheets": [
  {
   "cells": [
    {
     "cell_type": "heading",
     "level": 1,
     "metadata": {},
     "source": [
      "Example of defining a type: Arrays with arbitrary indexing"
     ]
    },
    {
     "cell_type": "markdown",
     "metadata": {},
     "source": [
      "For scientific applications, it is often useful to have arrays whose indices may start anywhere. Let's try to define a 1D array with this property, as an example of implementing a new type.\n",
      "\n",
      "I want\n",
      "```\n",
      "a = IndexedArray([2,3,4],-7) # starting from -7\n",
      "a[-7]\n",
      "```"
     ]
    },
    {
     "cell_type": "markdown",
     "metadata": {},
     "source": [
      "----\n",
      "**Exercise**: What structure should it have?\n",
      "\n",
      "----\n",
      "\n",
      "\n",
      "\n",
      "\n",
      "\n",
      "\n",
      "\n",
      "\n"
     ]
    },
    {
     "cell_type": "code",
     "collapsed": false,
     "input": [
      "# See below\n",
      "\n",
      "\n",
      "\n",
      "\n",
      "\n",
      "\n",
      "\n",
      "\n"
     ],
     "language": "python",
     "metadata": {},
     "outputs": [],
     "prompt_number": 1
    },
    {
     "cell_type": "code",
     "collapsed": false,
     "input": [
      "type IndexedArray\n",
      "    data::Vector{Float64}\n",
      "    low_index::Int\n",
      "end"
     ],
     "language": "python",
     "metadata": {},
     "outputs": [],
     "prompt_number": 2
    },
    {
     "cell_type": "markdown",
     "metadata": {},
     "source": [
      "----\n",
      "**Exercise**: Write a function that calculates the correct index.\n",
      "\n",
      "----\n",
      "    "
     ]
    },
    {
     "cell_type": "markdown",
     "metadata": {},
     "source": [
      "We calculate the correct index once and for all:"
     ]
    },
    {
     "cell_type": "code",
     "collapsed": false,
     "input": [
      "reindex(a::IndexedArray, i) = i - a.low_index + 1"
     ],
     "language": "python",
     "metadata": {},
     "outputs": [
      {
       "metadata": {},
       "output_type": "pyout",
       "prompt_number": 3,
       "text": [
        "reindex (generic function with 1 method)"
       ]
      }
     ],
     "prompt_number": 3
    },
    {
     "cell_type": "code",
     "collapsed": false,
     "input": [
      "getindex(a::IndexedArray, i) = a.data[reindex(a, i)] \n"
     ],
     "language": "python",
     "metadata": {},
     "outputs": [
      {
       "metadata": {},
       "output_type": "pyout",
       "prompt_number": 4,
       "text": [
        "getindex (generic function with 182 methods)"
       ]
      }
     ],
     "prompt_number": 4
    },
    {
     "cell_type": "code",
     "collapsed": false,
     "input": [
      "v = IndexedArray([3, 4, 5], -3)"
     ],
     "language": "python",
     "metadata": {},
     "outputs": [
      {
       "metadata": {},
       "output_type": "pyout",
       "prompt_number": 5,
       "text": [
        "IndexedArray([3.0,4.0,5.0],-3)"
       ]
      }
     ],
     "prompt_number": 5
    },
    {
     "cell_type": "code",
     "collapsed": false,
     "input": [
      "v[-3]"
     ],
     "language": "python",
     "metadata": {},
     "outputs": [
      {
       "metadata": {},
       "output_type": "pyout",
       "prompt_number": 6,
       "text": [
        "3.0"
       ]
      }
     ],
     "prompt_number": 6
    },
    {
     "cell_type": "code",
     "collapsed": false,
     "input": [
      "v[-2]"
     ],
     "language": "python",
     "metadata": {},
     "outputs": [
      {
       "metadata": {},
       "output_type": "pyout",
       "prompt_number": 7,
       "text": [
        "4.0"
       ]
      }
     ],
     "prompt_number": 7
    },
    {
     "cell_type": "markdown",
     "metadata": {},
     "source": [
      "Many operations already work:"
     ]
    },
    {
     "cell_type": "code",
     "collapsed": false,
     "input": [
      "v[-3:-2]"
     ],
     "language": "python",
     "metadata": {},
     "outputs": [
      {
       "metadata": {},
       "output_type": "pyout",
       "prompt_number": 8,
       "text": [
        "2-element Array{Float64,1}:\n",
        " 3.0\n",
        " 4.0"
       ]
      }
     ],
     "prompt_number": 8
    },
    {
     "cell_type": "markdown",
     "metadata": {},
     "source": [
      "But others don't yet:"
     ]
    },
    {
     "cell_type": "code",
     "collapsed": false,
     "input": [
      "v[-3] = 10"
     ],
     "language": "python",
     "metadata": {},
     "outputs": [
      {
       "ename": "LoadError",
       "evalue": "no method setindex!(IndexedArray, Int64, Int64)\nwhile loading In[9], in expression starting on line 1",
       "output_type": "pyerr",
       "traceback": [
        "no method setindex!(IndexedArray, Int64, Int64)\nwhile loading In[9], in expression starting on line 1"
       ]
      }
     ],
     "prompt_number": 9
    },
    {
     "cell_type": "code",
     "collapsed": false,
     "input": [
      "setindex!(a::IndexedArray, x, i) = a.data[reindex(a, i)] = x"
     ],
     "language": "python",
     "metadata": {},
     "outputs": [
      {
       "metadata": {},
       "output_type": "pyout",
       "prompt_number": 10,
       "text": [
        "setindex! (generic function with 115 methods)"
       ]
      }
     ],
     "prompt_number": 10
    },
    {
     "cell_type": "code",
     "collapsed": false,
     "input": [
      "v[-3] = 10"
     ],
     "language": "python",
     "metadata": {},
     "outputs": [
      {
       "metadata": {},
       "output_type": "pyout",
       "prompt_number": 11,
       "text": [
        "10"
       ]
      }
     ],
     "prompt_number": 11
    },
    {
     "cell_type": "code",
     "collapsed": false,
     "input": [
      "v"
     ],
     "language": "python",
     "metadata": {},
     "outputs": [
      {
       "metadata": {},
       "output_type": "pyout",
       "prompt_number": 12,
       "text": [
        "IndexedArray([10.0,4.0,5.0],-3)"
       ]
      }
     ],
     "prompt_number": 12
    },
    {
     "cell_type": "code",
     "collapsed": false,
     "input": [
      "v[-3] = 10"
     ],
     "language": "python",
     "metadata": {},
     "outputs": [
      {
       "metadata": {},
       "output_type": "pyout",
       "prompt_number": 13,
       "text": [
        "10"
       ]
      }
     ],
     "prompt_number": 13
    },
    {
     "cell_type": "code",
     "collapsed": false,
     "input": [
      "v"
     ],
     "language": "python",
     "metadata": {},
     "outputs": [
      {
       "metadata": {},
       "output_type": "pyout",
       "prompt_number": 14,
       "text": [
        "IndexedArray([10.0,4.0,5.0],-3)"
       ]
      }
     ],
     "prompt_number": 14
    },
    {
     "cell_type": "code",
     "collapsed": false,
     "input": [
      "for i in v\n",
      "    println(i)\n",
      "end"
     ],
     "language": "python",
     "metadata": {},
     "outputs": [
      {
       "ename": "LoadError",
       "evalue": "no method start(IndexedArray)\nwhile loading In[15], in expression starting on line 1",
       "output_type": "pyerr",
       "traceback": [
        "no method start(IndexedArray)\nwhile loading In[15], in expression starting on line 1",
        " in anonymous at no file"
       ]
      }
     ],
     "prompt_number": 15
    },
    {
     "cell_type": "heading",
     "level": 2,
     "metadata": {},
     "source": [
      "Iteration"
     ]
    },
    {
     "cell_type": "markdown",
     "metadata": {},
     "source": [
      "To define iteration for our new type, we need to define the `start`, `next` and `done` functions.\n",
      "To see how to do so, the easiest thing is to copy some pre-existing code!"
     ]
    },
    {
     "cell_type": "code",
     "collapsed": false,
     "input": [
      "# I want to add a method \"start\", but I need some starting point\n",
      "# I can view methods(start), find something that is close to my new type\n",
      "# And use that information to create my new start function"
     ],
     "language": "python",
     "metadata": {},
     "outputs": []
    },
    {
     "cell_type": "code",
     "collapsed": false,
     "input": [
      "methods(start)\n",
      "# I can click on the example for AbstractArray below and see how it implements start"
     ],
     "language": "python",
     "metadata": {},
     "outputs": [
      {
       "html": [
        "43 methods for generic function <b>start</b>:<ul><li> start(mt::<b>MethodTable</b>) at <a href=\"https://github.com/JuliaLang/julia/tree/3e6a6c7bd89b9bbcea81aa1e47d6c96f4f927e7a/base/reflection.jl#L123\" target=\"_blank\">reflection.jl:123</a><li> start(t::<b>(Any...,)</b>) at <a href=\"https://github.com/JuliaLang/julia/tree/3e6a6c7bd89b9bbcea81aa1e47d6c96f4f927e7a/base/tuple.jl#L13\" target=\"_blank\">tuple.jl:13</a><li> start(r::<b>FloatRange{T<:FloatingPoint}</b>) at <a href=\"https://github.com/JuliaLang/julia/tree/3e6a6c7bd89b9bbcea81aa1e47d6c96f4f927e7a/base/range.jl#L217\" target=\"_blank\">range.jl:217</a><li> start(r::<b>StepRange{T,S}</b>) at <a href=\"https://github.com/JuliaLang/julia/tree/3e6a6c7bd89b9bbcea81aa1e47d6c96f4f927e7a/base/range.jl#L223\" target=\"_blank\">range.jl:223</a><li> start(r::<b>UnitRange{T<:Real}</b>) at <a href=\"https://github.com/JuliaLang/julia/tree/3e6a6c7bd89b9bbcea81aa1e47d6c96f4f927e7a/base/range.jl#L227\" target=\"_blank\">range.jl:227</a><li> start(x::<b>Number</b>) at <a href=\"https://github.com/JuliaLang/julia/tree/3e6a6c7bd89b9bbcea81aa1e47d6c96f4f927e7a/base/number.jl#L36\" target=\"_blank\">number.jl:36</a><li> start(B::<b>BitArray{N}</b>) at <a href=\"https://github.com/JuliaLang/julia/tree/3e6a6c7bd89b9bbcea81aa1e47d6c96f4f927e7a/base/bitarray.jl#L199\" target=\"_blank\">bitarray.jl:199</a><li> start(a::<b>AbstractArray{T,N}</b>) at <a href=\"https://github.com/JuliaLang/julia/tree/3e6a6c7bd89b9bbcea81aa1e47d6c96f4f927e7a/base/abstractarray.jl#L245\" target=\"_blank\">abstractarray.jl:245</a><li> start(s::<b>IntSet</b>) at <a href=\"https://github.com/JuliaLang/julia/tree/3e6a6c7bd89b9bbcea81aa1e47d6c96f4f927e7a/base/intset.jl#L130\" target=\"_blank\">intset.jl:130</a><li> start(v::<b>Union(ValueIterator{T<:Associative{K,V}},KeyIterator{T<:Associative{K,V}})</b>) at <a href=\"https://github.com/JuliaLang/julia/tree/3e6a6c7bd89b9bbcea81aa1e47d6c96f4f927e7a/base/dict.jl#L149\" target=\"_blank\">dict.jl:149</a><li> start(t::<b>ObjectIdDict</b>) at <a href=\"https://github.com/JuliaLang/julia/tree/3e6a6c7bd89b9bbcea81aa1e47d6c96f4f927e7a/base/dict.jl#L293\" target=\"_blank\">dict.jl:293</a><li> start(t::<b>Dict{K,V}</b>) at <a href=\"https://github.com/JuliaLang/julia/tree/3e6a6c7bd89b9bbcea81aa1e47d6c96f4f927e7a/base/dict.jl#L675\" target=\"_blank\">dict.jl:675</a><li> start(t::<b>WeakKeyDict{K,V}</b>) at <a href=\"https://github.com/JuliaLang/julia/tree/3e6a6c7bd89b9bbcea81aa1e47d6c96f4f927e7a/base/dict.jl#L750\" target=\"_blank\">dict.jl:750</a><li> start(s::<b>Set{T}</b>) at <a href=\"https://github.com/JuliaLang/julia/tree/3e6a6c7bd89b9bbcea81aa1e47d6c96f4f927e7a/base/set.jl#L32\" target=\"_blank\">set.jl:32</a><li> start(e::<b>Enumerate{I}</b>) at <a href=\"https://github.com/JuliaLang/julia/tree/3e6a6c7bd89b9bbcea81aa1e47d6c96f4f927e7a/base/iterator.jl#L11\" target=\"_blank\">iterator.jl:11</a><li> start(z::<b>Zip{I<:(Any...,)}</b>) at <a href=\"https://github.com/JuliaLang/julia/tree/3e6a6c7bd89b9bbcea81aa1e47d6c96f4f927e7a/base/iterator.jl#L31\" target=\"_blank\">iterator.jl:31</a><li> start(z::<b>Zip2{I1,I2}</b>) at <a href=\"https://github.com/JuliaLang/julia/tree/3e6a6c7bd89b9bbcea81aa1e47d6c96f4f927e7a/base/iterator.jl#L55\" target=\"_blank\">iterator.jl:55</a><li> start(f::<b>Filter{I}</b>) at <a href=\"https://github.com/JuliaLang/julia/tree/3e6a6c7bd89b9bbcea81aa1e47d6c96f4f927e7a/base/iterator.jl#L73\" target=\"_blank\">iterator.jl:73</a><li> start(i::<b>Rest{I,S}</b>) at <a href=\"https://github.com/JuliaLang/julia/tree/3e6a6c7bd89b9bbcea81aa1e47d6c96f4f927e7a/base/iterator.jl#L110\" target=\"_blank\">iterator.jl:110</a><li> start(s::<b>String</b>) at <a href=\"https://github.com/JuliaLang/julia/tree/3e6a6c7bd89b9bbcea81aa1e47d6c96f4f927e7a/base/string.jl#L55\" target=\"_blank\">string.jl:55</a><li> start(itr::<b>RegexMatchIterator</b>) at <a href=\"https://github.com/JuliaLang/julia/tree/3e6a6c7bd89b9bbcea81aa1e47d6c96f4f927e7a/base/regex.jl#L204\" target=\"_blank\">regex.jl:204</a><li> start(::<b>EnvHash</b>) at <a href=\"https://github.com/JuliaLang/julia/tree/3e6a6c7bd89b9bbcea81aa1e47d6c96f4f927e7a/base/env.jl#L117\" target=\"_blank\">env.jl:117</a><li> start(t::<b>Task</b>) at <a href=\"https://github.com/JuliaLang/julia/tree/3e6a6c7bd89b9bbcea81aa1e47d6c96f4f927e7a/base/task.jl#L165\" target=\"_blank\">task.jl:165</a><li> start(itr::<b>EachLine</b>) at <a href=\"https://github.com/JuliaLang/julia/tree/3e6a6c7bd89b9bbcea81aa1e47d6c96f4f927e7a/base/io.jl#L225\" target=\"_blank\">io.jl:225</a><li> start(pq::<b>PriorityQueue{K,V}</b>) at <a href=\"https://github.com/JuliaLang/julia/tree/3e6a6c7bd89b9bbcea81aa1e47d6c96f4f927e7a/base/collections.jl#L270\" target=\"_blank\">collections.jl:270</a><li> start(c::<b>Combinations{T}</b>) at <a href=\"https://github.com/JuliaLang/julia/tree/3e6a6c7bd89b9bbcea81aa1e47d6c96f4f927e7a/base/combinatorics.jl#L258\" target=\"_blank\">combinatorics.jl:258</a><li> start(p::<b>Permutations{T}</b>) at <a href=\"https://github.com/JuliaLang/julia/tree/3e6a6c7bd89b9bbcea81aa1e47d6c96f4f927e7a/base/combinatorics.jl#L292\" target=\"_blank\">combinatorics.jl:292</a><li> start(p::<b>IntegerPartitions</b>) at <a href=\"https://github.com/JuliaLang/julia/tree/3e6a6c7bd89b9bbcea81aa1e47d6c96f4f927e7a/base/combinatorics.jl#L325\" target=\"_blank\">combinatorics.jl:325</a><li> start(f::<b>FixedPartitions</b>) at <a href=\"https://github.com/JuliaLang/julia/tree/3e6a6c7bd89b9bbcea81aa1e47d6c96f4f927e7a/base/combinatorics.jl#L391\" target=\"_blank\">combinatorics.jl:391</a><li> start(p::<b>SetPartitions{T<:AbstractArray{T,1}}</b>) at <a href=\"https://github.com/JuliaLang/julia/tree/3e6a6c7bd89b9bbcea81aa1e47d6c96f4f927e7a/base/combinatorics.jl#L453\" target=\"_blank\">combinatorics.jl:453</a><li> start(p::<b>FixedSetPartitions{T<:AbstractArray{T,1}}</b>) at <a href=\"https://github.com/JuliaLang/julia/tree/3e6a6c7bd89b9bbcea81aa1e47d6c96f4f927e7a/base/combinatorics.jl#L521\" target=\"_blank\">combinatorics.jl:521</a><li> start(d::<b>SpDiagIterator{Tv,Ti}</b>) at <a href=\"https://github.com/JuliaLang/julia/tree/3e6a6c7bd89b9bbcea81aa1e47d6c96f4f927e7a/base/sparse/sparsematrix.jl#L1843\" target=\"_blank\">sparse/sparsematrix.jl:1843</a><li> start<i>{T}</i>(q::<b>Deque{T}</b>) at <a href=\"https://github.com/JuliaLang/DataStructures.jl/tree/87a29b0a0fdde625037943759a51c3be069a3951/src/deque.jl#L101\" target=\"_blank\">/Users/xbsd/.julia/v0.3/DataStructures/src/deque.jl:101</a><li> start(ct::<b>Accumulator{T,V<:Number}</b>) at <a href=\"https://github.com/JuliaLang/DataStructures.jl/tree/87a29b0a0fdde625037943759a51c3be069a3951/src/accumulator.jl#L38\" target=\"_blank\">/Users/xbsd/.julia/v0.3/DataStructures/src/accumulator.jl:38</a><li> start(cc::<b>ClassifiedCollections{K,Collection}</b>) at <a href=\"https://github.com/JuliaLang/DataStructures.jl/tree/87a29b0a0fdde625037943759a51c3be069a3951/src/classifiedcollections.jl#L37\" target=\"_blank\">/Users/xbsd/.julia/v0.3/DataStructures/src/classifiedcollections.jl:37</a><li> start(t::<b>HashDict{K,V,O<:Union(Nothing,Int64)}</b>) at <a href=\"https://github.com/JuliaLang/DataStructures.jl/tree/87a29b0a0fdde625037943759a51c3be069a3951/src/hashdict.jl#L486\" target=\"_blank\">/Users/xbsd/.julia/v0.3/DataStructures/src/hashdict.jl:486</a><li> start(::<b>OrderedDict{K,V}</b>,...) at <a href=\"https://github.com/JuliaLang/DataStructures.jl/tree/87a29b0a0fdde625037943759a51c3be069a3951/src/delegate.jl#L11\" target=\"_blank\">/Users/xbsd/.julia/v0.3/DataStructures/src/delegate.jl:11</a><li> start(s::<b>OrderedSet{T}</b>) at <a href=\"https://github.com/JuliaLang/DataStructures.jl/tree/87a29b0a0fdde625037943759a51c3be069a3951/src/orderedset.jl#L40\" target=\"_blank\">/Users/xbsd/.julia/v0.3/DataStructures/src/orderedset.jl:40</a><li> start(::<b>DefaultDictBase{K,V,F,D<:Associative{K,V}}</b>,...) at <a href=\"https://github.com/JuliaLang/DataStructures.jl/tree/87a29b0a0fdde625037943759a51c3be069a3951/src/delegate.jl#L11\" target=\"_blank\">/Users/xbsd/.julia/v0.3/DataStructures/src/delegate.jl:11</a><li> start(::<b>DefaultDict{K,V,F}</b>,...) at <a href=\"https://github.com/JuliaLang/DataStructures.jl/tree/87a29b0a0fdde625037943759a51c3be069a3951/src/delegate.jl#L11\" target=\"_blank\">/Users/xbsd/.julia/v0.3/DataStructures/src/delegate.jl:11</a><li> start(::<b>DefaultOrderedDict{K,V,F}</b>,...) at <a href=\"https://github.com/JuliaLang/DataStructures.jl/tree/87a29b0a0fdde625037943759a51c3be069a3951/src/delegate.jl#L11\" target=\"_blank\">/Users/xbsd/.julia/v0.3/DataStructures/src/delegate.jl:11</a><li> start<i>{T}</i>(l::<b>Nil{T}</b>) at <a href=\"https://github.com/JuliaLang/DataStructures.jl/tree/87a29b0a0fdde625037943759a51c3be069a3951/src/list.jl#L124\" target=\"_blank\">/Users/xbsd/.julia/v0.3/DataStructures/src/list.jl:124</a><li> start<i>{T}</i>(l::<b>Cons{T}</b>) at <a href=\"https://github.com/JuliaLang/DataStructures.jl/tree/87a29b0a0fdde625037943759a51c3be069a3951/src/list.jl#L125\" target=\"_blank\">/Users/xbsd/.julia/v0.3/DataStructures/src/list.jl:125</a></ul>"
       ],
       "metadata": {},
       "output_type": "pyout",
       "prompt_number": 16,
       "text": [
        "# 43 methods for generic function \"start\":\n",
        "start(mt::MethodTable) at reflection.jl:123\n",
        "start(t::(Any...,)) at tuple.jl:13\n",
        "start(r::FloatRange{T<:FloatingPoint}) at range.jl:217\n",
        "start(r::StepRange{T,S}) at range.jl:223\n",
        "start(r::UnitRange{T<:Real}) at range.jl:227\n",
        "start(x::Number) at number.jl:36\n",
        "start(B::BitArray{N}) at bitarray.jl:199\n",
        "start(a::AbstractArray{T,N}) at abstractarray.jl:245\n",
        "start(s::IntSet) at intset.jl:130\n",
        "start(v::Union(ValueIterator{T<:Associative{K,V}},KeyIterator{T<:Associative{K,V}})) at dict.jl:149\n",
        "start(t::ObjectIdDict) at dict.jl:293\n",
        "start(t::Dict{K,V}) at dict.jl:675\n",
        "start(t::WeakKeyDict{K,V}) at dict.jl:750\n",
        "start(s::Set{T}) at set.jl:32\n",
        "start(e::Enumerate{I}) at iterator.jl:11\n",
        "start(z::Zip{I<:(Any...,)}) at iterator.jl:31\n",
        "start(z::Zip2{I1,I2}) at iterator.jl:55\n",
        "start(f::Filter{I}) at iterator.jl:73\n",
        "start(i::Rest{I,S}) at iterator.jl:110\n",
        "start(s::String) at string.jl:55\n",
        "start(itr::RegexMatchIterator) at regex.jl:204\n",
        "start(::EnvHash) at env.jl:117\n",
        "start(t::Task) at task.jl:165\n",
        "start(itr::EachLine) at io.jl:225\n",
        "start(pq::PriorityQueue{K,V}) at collections.jl:270\n",
        "start(c::Combinations{T}) at combinatorics.jl:258\n",
        "start(p::Permutations{T}) at combinatorics.jl:292\n",
        "start(p::IntegerPartitions) at combinatorics.jl:325\n",
        "start(f::FixedPartitions) at combinatorics.jl:391\n",
        "start(p::SetPartitions{T<:AbstractArray{T,1}}) at combinatorics.jl:453\n",
        "start(p::FixedSetPartitions{T<:AbstractArray{T,1}}) at combinatorics.jl:521\n",
        "start(d::SpDiagIterator{Tv,Ti}) at sparse/sparsematrix.jl:1843\n",
        "start{T}(q::Deque{T}) at /Users/xbsd/.julia/v0.3/DataStructures/src/deque.jl:101\n",
        "start(ct::Accumulator{T,V<:Number}) at /Users/xbsd/.julia/v0.3/DataStructures/src/accumulator.jl:38\n",
        "start(cc::ClassifiedCollections{K,Collection}) at /Users/xbsd/.julia/v0.3/DataStructures/src/classifiedcollections.jl:37\n",
        "start(t::HashDict{K,V,O<:Union(Nothing,Int64)}) at /Users/xbsd/.julia/v0.3/DataStructures/src/hashdict.jl:486\n",
        "start(::OrderedDict{K,V},...) at /Users/xbsd/.julia/v0.3/DataStructures/src/delegate.jl:11\n",
        "start(s::OrderedSet{T}) at /Users/xbsd/.julia/v0.3/DataStructures/src/orderedset.jl:40\n",
        "start(::DefaultDictBase{K,V,F,D<:Associative{K,V}},...) at /Users/xbsd/.julia/v0.3/DataStructures/src/delegate.jl:11\n",
        "start(::DefaultDict{K,V,F},...) at /Users/xbsd/.julia/v0.3/DataStructures/src/delegate.jl:11\n",
        "start(::DefaultOrderedDict{K,V,F},...) at /Users/xbsd/.julia/v0.3/DataStructures/src/delegate.jl:11\n",
        "start{T}(l::Nil{T}) at /Users/xbsd/.julia/v0.3/DataStructures/src/list.jl:124\n",
        "start{T}(l::Cons{T}) at /Users/xbsd/.julia/v0.3/DataStructures/src/list.jl:125"
       ]
      }
     ],
     "prompt_number": 16
    },
    {
     "cell_type": "markdown",
     "metadata": {},
     "source": [
      "Let's pick the one for an abstract array. This is what we need to implement:"
     ]
    },
    {
     "cell_type": "code",
     "collapsed": false,
     "input": [
      "# Clicking on the abstractarray.jl file\n",
      "# start(a::AbstractArray) = 1\n",
      "# next(a::AbstractArray,i) = (a[i],i+1)\n",
      "# done(a::AbstractArray,i) = (i > length(a))"
     ],
     "language": "python",
     "metadata": {},
     "outputs": [],
     "prompt_number": 17
    },
    {
     "cell_type": "markdown",
     "metadata": {},
     "source": [
      "First, we must, as the error message says, explicitly import the functions from `Base` in order to extend them:"
     ]
    },
    {
     "cell_type": "code",
     "collapsed": false,
     "input": [
      "import Base: start, next, done"
     ],
     "language": "python",
     "metadata": {},
     "outputs": [],
     "prompt_number": 18
    },
    {
     "cell_type": "code",
     "collapsed": false,
     "input": [
      "start(a::IndexedArray) = a.low_index\n",
      "next(a::IndexedArray,i) = (a[i],i+1)\n",
      "done(a::IndexedArray,i) = (i > a.low_index + length(a) - 1)"
     ],
     "language": "python",
     "metadata": {},
     "outputs": [
      {
       "metadata": {},
       "output_type": "pyout",
       "prompt_number": 19,
       "text": [
        "done (generic function with 47 methods)"
       ]
      }
     ],
     "prompt_number": 19
    },
    {
     "cell_type": "code",
     "collapsed": false,
     "input": [
      "v"
     ],
     "language": "python",
     "metadata": {},
     "outputs": [
      {
       "metadata": {},
       "output_type": "pyout",
       "prompt_number": 20,
       "text": [
        "IndexedArray([10.0,4.0,5.0],-3)"
       ]
      }
     ],
     "prompt_number": 20
    },
    {
     "cell_type": "code",
     "collapsed": false,
     "input": [
      "for i in v\n",
      "    println(i)\n",
      "end"
     ],
     "language": "python",
     "metadata": {},
     "outputs": [
      {
       "ename": "LoadError",
       "evalue": "no method length(IndexedArray)\nwhile loading In[21], in expression starting on line 1",
       "output_type": "pyerr",
       "traceback": [
        "no method length(IndexedArray)\nwhile loading In[21], in expression starting on line 1",
        " in done at In[19]:3",
        " in anonymous at no file"
       ]
      }
     ],
     "prompt_number": 21
    },
    {
     "cell_type": "code",
     "collapsed": false,
     "input": [
      "length(a::IndexedArray) = length(a.data)"
     ],
     "language": "python",
     "metadata": {},
     "outputs": [
      {
       "ename": "LoadError",
       "evalue": "error in method definition: function Base.length must be explicitly imported to be extended\nwhile loading In[22], in expression starting on line 1",
       "output_type": "pyerr",
       "traceback": [
        "error in method definition: function Base.length must be explicitly imported to be extended\nwhile loading In[22], in expression starting on line 1"
       ]
      }
     ],
     "prompt_number": 22
    },
    {
     "cell_type": "code",
     "collapsed": false,
     "input": [
      "import Base.length"
     ],
     "language": "python",
     "metadata": {},
     "outputs": [],
     "prompt_number": 23
    },
    {
     "cell_type": "code",
     "collapsed": false,
     "input": [
      "length(a::IndexedArray) = length(a.data)"
     ],
     "language": "python",
     "metadata": {},
     "outputs": [
      {
       "metadata": {},
       "output_type": "pyout",
       "prompt_number": 24,
       "text": [
        "length (generic function with 58 methods)"
       ]
      }
     ],
     "prompt_number": 24
    },
    {
     "cell_type": "code",
     "collapsed": false,
     "input": [
      "for i in v\n",
      "    println(i)\n",
      "end"
     ],
     "language": "python",
     "metadata": {},
     "outputs": [
      {
       "output_type": "stream",
       "stream": "stdout",
       "text": [
        "10"
       ]
      },
      {
       "output_type": "stream",
       "stream": "stdout",
       "text": [
        ".0\n",
        "4.0\n",
        "5.0\n"
       ]
      }
     ],
     "prompt_number": 25
    },
    {
     "cell_type": "code",
     "collapsed": false,
     "input": [],
     "language": "python",
     "metadata": {},
     "outputs": []
    }
   ],
   "metadata": {}
  }
 ]
}