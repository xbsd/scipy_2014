{
 "metadata": {
  "name": "",
  "signature": "sha256:496eb1bb7497fb56237e245e9791494f3a67d1a48e64d0742c40f424cf3ef062"
 },
 "nbformat": 3,
 "nbformat_minor": 0,
 "worksheets": [
  {
   "cells": [
    {
     "cell_type": "markdown",
     "metadata": {},
     "source": [
      "**Your brother is going on an expidition to build a bridge between the two\n",
      "peaks of Mount Kilimanjaro.  He needs you to create a database of information \n",
      "about the team.  This needs to include:**\n",
      "\n",
      "I. A table of critical team member information.\n",
      "\n",
      "II. An array of oxygen depravation fraction (to be filled in later)\n",
      "    for everyone team member for each of the million steps up the mountain.\n",
      "\n",
      "The info he has about the team is their first name, last name, age, and \n",
      "whether they are alive or not.\n",
      "\n",
      "Suddenly, he has forgotten the first half of team's names.  \n",
      "\n",
      "III. Please read these off for him.\n",
      "\n",
      "Careful out there!"
     ]
    },
    {
     "cell_type": "code",
     "collapsed": false,
     "input": [
      "import numpy as np\n",
      "import tables as tb\n",
      "\n",
      "team = [('Flavia',   'Jacquin',   21, True),\n",
      "        ('Michal',   'Ards',       7, True),\n",
      "        ('Madaline', 'Herta',     25, True), \n",
      "        ('Ike',      'Jerding',    3, True),\n",
      "        ('Winford',  'Bergenty',  59, True),\n",
      "        ('Fernanda', 'Leuze',     51, True),\n",
      "        ('Larae',    'Dalaq',     44, False),\n",
      "        ('Ema',      'Czyrnik',   51, True),\n",
      "        ('Britt',    'Housemate', 32, False),\n",
      "        ('Eldridge', 'Lerow',     72, False),\n",
      "        ]"
     ],
     "language": "python",
     "metadata": {},
     "outputs": [],
     "prompt_number": 26
    },
    {
     "cell_type": "code",
     "collapsed": false,
     "input": [
      "dt = np.dtype([('fname', 'S10'), ('lname', 'S10'), ('age', int), ('alive', bool)])"
     ],
     "language": "python",
     "metadata": {},
     "outputs": [],
     "prompt_number": 37
    },
    {
     "cell_type": "code",
     "collapsed": false,
     "input": [
      "kiliman = np.array(team, dtype = dt)"
     ],
     "language": "python",
     "metadata": {},
     "outputs": [],
     "prompt_number": 61
    },
    {
     "cell_type": "code",
     "collapsed": false,
     "input": [
      "#f.close()"
     ],
     "language": "python",
     "metadata": {},
     "outputs": [],
     "prompt_number": 62
    },
    {
     "cell_type": "code",
     "collapsed": false,
     "input": [
      "f = tb.open_file('kiliman.h5', 'w')"
     ],
     "language": "python",
     "metadata": {},
     "outputs": [
      {
       "ename": "ValueError",
       "evalue": "The file 'kiliman.h5' is already opened.  Please close it before reopening in write mode.",
       "output_type": "pyerr",
       "traceback": [
        "\u001b[0;31m---------------------------------------------------------------------------\u001b[0m\n\u001b[0;31mValueError\u001b[0m                                Traceback (most recent call last)",
        "\u001b[0;32m<ipython-input-63-bbf2cf6dfc89>\u001b[0m in \u001b[0;36m<module>\u001b[0;34m()\u001b[0m\n\u001b[0;32m----> 1\u001b[0;31m \u001b[0mf\u001b[0m \u001b[0;34m=\u001b[0m \u001b[0mtb\u001b[0m\u001b[0;34m.\u001b[0m\u001b[0mopen_file\u001b[0m\u001b[0;34m(\u001b[0m\u001b[0;34m'kiliman.h5'\u001b[0m\u001b[0;34m,\u001b[0m \u001b[0;34m'w'\u001b[0m\u001b[0;34m)\u001b[0m\u001b[0;34m\u001b[0m\u001b[0m\n\u001b[0m",
        "\u001b[0;32m/usr/local/lib/python2.7/site-packages/tables/file.pyc\u001b[0m in \u001b[0;36mopen_file\u001b[0;34m(filename, mode, title, root_uep, filters, **kwargs)\u001b[0m\n\u001b[1;32m    313\u001b[0m                 raise ValueError(\n\u001b[1;32m    314\u001b[0m                     \u001b[0;34m\"The file '%s' is already opened.  Please \"\u001b[0m\u001b[0;34m\u001b[0m\u001b[0m\n\u001b[0;32m--> 315\u001b[0;31m                     \"close it before reopening in write mode.\" % filename)\n\u001b[0m\u001b[1;32m    316\u001b[0m \u001b[0;34m\u001b[0m\u001b[0m\n\u001b[1;32m    317\u001b[0m     \u001b[0;31m# Finally, create the File instance, and return it\u001b[0m\u001b[0;34m\u001b[0m\u001b[0;34m\u001b[0m\u001b[0m\n",
        "\u001b[0;31mValueError\u001b[0m: The file 'kiliman.h5' is already opened.  Please close it before reopening in write mode."
       ]
      }
     ],
     "prompt_number": 63
    },
    {
     "cell_type": "code",
     "collapsed": false,
     "input": [
      "f.create_table('/', 'kiliman', dt)"
     ],
     "language": "python",
     "metadata": {},
     "outputs": [
      {
       "metadata": {},
       "output_type": "pyout",
       "prompt_number": 66,
       "text": [
        "/kiliman (Table(0,)) ''\n",
        "  description := {\n",
        "  \"fname\": StringCol(itemsize=10, shape=(), dflt='', pos=0),\n",
        "  \"lname\": StringCol(itemsize=10, shape=(), dflt='', pos=1),\n",
        "  \"age\": Int64Col(shape=(), dflt=0, pos=2),\n",
        "  \"alive\": BoolCol(shape=(), dflt=False, pos=3)}\n",
        "  byteorder := 'little'\n",
        "  chunkshape := (2259,)"
       ]
      }
     ],
     "prompt_number": 66
    },
    {
     "cell_type": "code",
     "collapsed": false,
     "input": [
      "f.root.kiliman.append(kiliman)"
     ],
     "language": "python",
     "metadata": {},
     "outputs": [],
     "prompt_number": 67
    },
    {
     "cell_type": "code",
     "collapsed": false,
     "input": [
      "first5 = f.root.kiliman[([0,1,2,3,4])]"
     ],
     "language": "python",
     "metadata": {},
     "outputs": [],
     "prompt_number": 68
    },
    {
     "cell_type": "code",
     "collapsed": false,
     "input": [
      "first5"
     ],
     "language": "python",
     "metadata": {},
     "outputs": [
      {
       "metadata": {},
       "output_type": "pyout",
       "prompt_number": 69,
       "text": [
        "array([('Flavia', 'Jacquin', 21, True), ('Michal', 'Ards', 7, True),\n",
        "       ('Madaline', 'Herta', 25, True), ('Ike', 'Jerding', 3, True),\n",
        "       ('Winford', 'Bergenty', 59, True)], \n",
        "      dtype=[('fname', 'S10'), ('lname', 'S10'), ('age', '<i8'), ('alive', '?')])"
       ]
      }
     ],
     "prompt_number": 69
    },
    {
     "cell_type": "code",
     "collapsed": false,
     "input": [
      "first5.ravel()"
     ],
     "language": "python",
     "metadata": {},
     "outputs": [
      {
       "metadata": {},
       "output_type": "pyout",
       "prompt_number": 70,
       "text": [
        "array([('Flavia', 'Jacquin', 21, True), ('Michal', 'Ards', 7, True),\n",
        "       ('Madaline', 'Herta', 25, True), ('Ike', 'Jerding', 3, True),\n",
        "       ('Winford', 'Bergenty', 59, True)], \n",
        "      dtype=[('fname', 'S10'), ('lname', 'S10'), ('age', '<i8'), ('alive', '?')])"
       ]
      }
     ],
     "prompt_number": 70
    },
    {
     "cell_type": "code",
     "collapsed": false,
     "input": [
      "first5['lname']"
     ],
     "language": "python",
     "metadata": {},
     "outputs": [
      {
       "metadata": {},
       "output_type": "pyout",
       "prompt_number": 71,
       "text": [
        "array(['Jacquin', 'Ards', 'Herta', 'Jerding', 'Bergenty'], \n",
        "      dtype='|S10')"
       ]
      }
     ],
     "prompt_number": 71
    },
    {
     "cell_type": "code",
     "collapsed": false,
     "input": [
      "f.close()"
     ],
     "language": "python",
     "metadata": {},
     "outputs": [],
     "prompt_number": 72
    },
    {
     "cell_type": "code",
     "collapsed": false,
     "input": [],
     "language": "python",
     "metadata": {},
     "outputs": []
    }
   ],
   "metadata": {}
  }
 ]
}