{
 "metadata": {
  "name": "",
  "signature": "sha256:d17eff832a91298e9829980174c3e7d69b734f097f4cc86bce95b8c07aba84ea"
 },
 "nbformat": 3,
 "nbformat_minor": 0,
 "worksheets": [
  {
   "cells": [
    {
     "cell_type": "markdown",
     "metadata": {},
     "source": [
      "**Node lookup in HDF5, like chunk lookup, is done via B-tree searching. \n",
      "Finding an entry in a B-tree is an O(log(n)) operation.  Sometimes, we\n",
      "want to be faster than that.  Say O(1) --- (*cough* dict).**\n",
      "\n",
      "**Say that you have a complicated file layout: 500 arrays split randomly \n",
      "over 100 groups.  You'd rather not have to ask each group if they have a \n",
      "specific dataset, so when you create the file you also create a map of\n",
      "all datasets to the group that they are part of.**\n",
      "\n",
      "**Now wouldn't it be convenient to store this map right next to the data?!**\n",
      "\n",
      "1. Store your (id, group) map as a Table on the root node.  Close the file.\n",
      "\n",
      "2. Reopen the file read-only, recreate your dictionary from the Table, \n",
      "   and grab any array back into memory"
     ]
    },
    {
     "cell_type": "code",
     "collapsed": false,
     "input": [
      "import numpy as np\n",
      "import tables as tb\n",
      "\n",
      "\n",
      "# create sample data \n",
      "f = tb.open_file('dict_table.h5', 'w')\n",
      "groups = [f.create_group('/', 'grp' + str(i), \"Group \" + str(i)) for i in range(1, 101)]\n",
      "\n",
      "idmap = {}\n",
      "for i in range(1, 501):\n",
      "    id = 'id' + str(i)\n",
      "    grpi = np.random.randint(0, 100)\n",
      "    grpid = '/grp' + str(grpi + 1)\n",
      "    f.create_array(groups[grpi], id, i*np.ones(i), \"ID-\" + str(i))\n",
      "    idmap[id] = grpid"
     ],
     "language": "python",
     "metadata": {},
     "outputs": []
    },
    {
     "cell_type": "markdown",
     "metadata": {},
     "source": [
      "**1. Store your (id, group) map as a Table on the root node.  Close the file.**"
     ]
    },
    {
     "cell_type": "code",
     "collapsed": false,
     "input": [],
     "language": "python",
     "metadata": {},
     "outputs": []
    },
    {
     "cell_type": "markdown",
     "metadata": {},
     "source": [
      "**2. Reopen the file read-only, recreate your dictionary from the Table, \n",
      "and grab any array back into memory**"
     ]
    },
    {
     "cell_type": "code",
     "collapsed": false,
     "input": [],
     "language": "python",
     "metadata": {},
     "outputs": []
    }
   ],
   "metadata": {}
  }
 ]
}