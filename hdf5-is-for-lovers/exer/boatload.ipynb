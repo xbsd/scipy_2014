{
 "metadata": {
  "name": "",
  "signature": "sha256:9aaa34fc352d08e7f7a990fea13801647d2812b3bc064e1522f3288d801a90c5"
 },
 "nbformat": 3,
 "nbformat_minor": 0,
 "worksheets": [
  {
   "cells": [
    {
     "cell_type": "markdown",
     "metadata": {},
     "source": [
      "**Create a metric boatload of random people.  That's right, create a table of 1000 random people on boats.**\n",
      "\n",
      "1. Define the description.  This should include:\n",
      "\n",
      "    * First names\n",
      "    * Last names\n",
      "    * Lattitude and longitude, together\n",
      "    * List of ships which they have sailed on, min 1 but at most 5\n",
      "    * Lost at sea status\n",
      "\n",
      "2. Use the rand_sailor function to write a table of all of these people.\n",
      "\n",
      "3. Resuce patrols are dispatched by quarter.  Using the lattitude and \n",
      "   longitude, create groups representing the NE, NW, SE, and SW and place\n",
      "   smaller tables of just these sailors.\n",
      "\n",
      "4. Rescue patrols also need up to date information on whether a not \n",
      "   a person is lost.  Create two tables (lost & found) in each of the \n",
      "   four directions which approriately elliminate the lost-at-sea status."
     ]
    },
    {
     "cell_type": "code",
     "collapsed": false,
     "input": [
      "import random\n",
      "import numpy as np\n",
      "import tables as tb\n",
      "\n",
      "with open('names.txt', 'r') as f:\n",
      "    names = f.read().split()\n",
      "    first_names = names[::2]\n",
      "    last_names = names[1::2]\n",
      "\n",
      "with open('ships.txt', 'r') as f:\n",
      "    ship_names = [s.strip() for s in f.readlines()]\n",
      "\n",
      "def rand_sailor():\n",
      "    first = random.choice(first_names)\n",
      "    last = random.choice(last_names)\n",
      "    lat_long = np.random.random((2,)) * (180.0, 360.0) - (90.0, 180.0)\n",
      "    num_ships = np.random.random_integers(1,5)\n",
      "    ships = list(np.random.choice(ship_names, num_ships, replace=False))\n",
      "    lost = bool(np.random.random_integers(0,1))\n",
      "    return first, last, lat_long, ships, lost\n",
      "\n",
      "f = tb.open_file('boatload.h5', 'w')"
     ],
     "language": "python",
     "metadata": {},
     "outputs": [],
     "prompt_number": 1
    },
    {
     "cell_type": "markdown",
     "metadata": {},
     "source": [
      "**1. Define the description.  This should include:**\n",
      "\n",
      "- First names\n",
      "- Last names\n",
      "- Lattitude and longitude, together\n",
      "- List of ships which they have sailed on, min 1 but at most 5\n",
      "- Lost at sea status"
     ]
    },
    {
     "cell_type": "code",
     "collapsed": false,
     "input": [
      "max_first_len = max([len(x) for x in first_names])\n",
      "max_last_len = max([len(x) for x in last_names])\n",
      "max_ship_len = max([len(x) for x in ship_names])\n",
      "\n",
      "desc = np.dtype([('fname', 'S' + str(max_first_len)), ('lname', 'S' + str(max_last_len)), \\\n",
      "                 ('latlong', object), ('ships', object), ('lost', bool) ])\n"
     ],
     "language": "python",
     "metadata": {},
     "outputs": [],
     "prompt_number": 9
    },
    {
     "cell_type": "code",
     "collapsed": false,
     "input": [],
     "language": "python",
     "metadata": {},
     "outputs": [
      {
       "metadata": {},
       "output_type": "pyout",
       "prompt_number": 8,
       "text": [
        "('Lieselotte',\n",
        " 'Torbett',\n",
        " array([  7.96648319, -15.69489161]),\n",
        " ['Warspite', 'Revenge', 'Victory'],\n",
        " True)"
       ]
      }
     ],
     "prompt_number": 8
    },
    {
     "cell_type": "markdown",
     "metadata": {},
     "source": [
      "**2. Use the rand_sailor function to write a table of all of these people.**"
     ]
    },
    {
     "cell_type": "code",
     "collapsed": false,
     "input": [
      "people = np.array(rand_sailor(), dtype=desc)"
     ],
     "language": "python",
     "metadata": {},
     "outputs": [],
     "prompt_number": 14
    },
    {
     "cell_type": "code",
     "collapsed": false,
     "input": [
      "np.append(people, rand_sailor())"
     ],
     "language": "python",
     "metadata": {},
     "outputs": [
      {
       "ename": "ValueError",
       "evalue": "cannot set an array element with a sequence",
       "output_type": "pyerr",
       "traceback": [
        "\u001b[0;31m---------------------------------------------------------------------------\u001b[0m\n\u001b[0;31mValueError\u001b[0m                                Traceback (most recent call last)",
        "\u001b[0;32m<ipython-input-16-85fc5e6d1341>\u001b[0m in \u001b[0;36m<module>\u001b[0;34m()\u001b[0m\n\u001b[0;32m----> 1\u001b[0;31m \u001b[0mnp\u001b[0m\u001b[0;34m.\u001b[0m\u001b[0mappend\u001b[0m\u001b[0;34m(\u001b[0m\u001b[0mpeople\u001b[0m\u001b[0;34m,\u001b[0m \u001b[0mrand_sailor\u001b[0m\u001b[0;34m(\u001b[0m\u001b[0;34m)\u001b[0m\u001b[0;34m)\u001b[0m\u001b[0;34m\u001b[0m\u001b[0m\n\u001b[0m",
        "\u001b[0;32m/usr/local/lib/python2.7/site-packages/numpy/lib/function_base.pyc\u001b[0m in \u001b[0;36mappend\u001b[0;34m(arr, values, axis)\u001b[0m\n\u001b[1;32m   3551\u001b[0m         \u001b[0;32mif\u001b[0m \u001b[0marr\u001b[0m\u001b[0;34m.\u001b[0m\u001b[0mndim\u001b[0m \u001b[0;34m!=\u001b[0m \u001b[0;36m1\u001b[0m\u001b[0;34m:\u001b[0m\u001b[0;34m\u001b[0m\u001b[0m\n\u001b[1;32m   3552\u001b[0m             \u001b[0marr\u001b[0m \u001b[0;34m=\u001b[0m \u001b[0marr\u001b[0m\u001b[0;34m.\u001b[0m\u001b[0mravel\u001b[0m\u001b[0;34m(\u001b[0m\u001b[0;34m)\u001b[0m\u001b[0;34m\u001b[0m\u001b[0m\n\u001b[0;32m-> 3553\u001b[0;31m         \u001b[0mvalues\u001b[0m \u001b[0;34m=\u001b[0m \u001b[0mravel\u001b[0m\u001b[0;34m(\u001b[0m\u001b[0mvalues\u001b[0m\u001b[0;34m)\u001b[0m\u001b[0;34m\u001b[0m\u001b[0m\n\u001b[0m\u001b[1;32m   3554\u001b[0m         \u001b[0maxis\u001b[0m \u001b[0;34m=\u001b[0m \u001b[0marr\u001b[0m\u001b[0;34m.\u001b[0m\u001b[0mndim\u001b[0m\u001b[0;34m-\u001b[0m\u001b[0;36m1\u001b[0m\u001b[0;34m\u001b[0m\u001b[0m\n\u001b[1;32m   3555\u001b[0m     \u001b[0;32mreturn\u001b[0m \u001b[0mconcatenate\u001b[0m\u001b[0;34m(\u001b[0m\u001b[0;34m(\u001b[0m\u001b[0marr\u001b[0m\u001b[0;34m,\u001b[0m \u001b[0mvalues\u001b[0m\u001b[0;34m)\u001b[0m\u001b[0;34m,\u001b[0m \u001b[0maxis\u001b[0m\u001b[0;34m=\u001b[0m\u001b[0maxis\u001b[0m\u001b[0;34m)\u001b[0m\u001b[0;34m\u001b[0m\u001b[0m\n",
        "\u001b[0;32m/usr/local/lib/python2.7/site-packages/numpy/core/fromnumeric.pyc\u001b[0m in \u001b[0;36mravel\u001b[0;34m(a, order)\u001b[0m\n\u001b[1;32m   1365\u001b[0m \u001b[0;34m\u001b[0m\u001b[0m\n\u001b[1;32m   1366\u001b[0m     \"\"\"\n\u001b[0;32m-> 1367\u001b[0;31m     \u001b[0;32mreturn\u001b[0m \u001b[0masarray\u001b[0m\u001b[0;34m(\u001b[0m\u001b[0ma\u001b[0m\u001b[0;34m)\u001b[0m\u001b[0;34m.\u001b[0m\u001b[0mravel\u001b[0m\u001b[0;34m(\u001b[0m\u001b[0morder\u001b[0m\u001b[0;34m)\u001b[0m\u001b[0;34m\u001b[0m\u001b[0m\n\u001b[0m\u001b[1;32m   1368\u001b[0m \u001b[0;34m\u001b[0m\u001b[0m\n\u001b[1;32m   1369\u001b[0m \u001b[0;34m\u001b[0m\u001b[0m\n",
        "\u001b[0;32m/usr/local/lib/python2.7/site-packages/numpy/core/numeric.pyc\u001b[0m in \u001b[0;36masarray\u001b[0;34m(a, dtype, order)\u001b[0m\n\u001b[1;32m    458\u001b[0m \u001b[0;34m\u001b[0m\u001b[0m\n\u001b[1;32m    459\u001b[0m     \"\"\"\n\u001b[0;32m--> 460\u001b[0;31m     \u001b[0;32mreturn\u001b[0m \u001b[0marray\u001b[0m\u001b[0;34m(\u001b[0m\u001b[0ma\u001b[0m\u001b[0;34m,\u001b[0m \u001b[0mdtype\u001b[0m\u001b[0;34m,\u001b[0m \u001b[0mcopy\u001b[0m\u001b[0;34m=\u001b[0m\u001b[0mFalse\u001b[0m\u001b[0;34m,\u001b[0m \u001b[0morder\u001b[0m\u001b[0;34m=\u001b[0m\u001b[0morder\u001b[0m\u001b[0;34m)\u001b[0m\u001b[0;34m\u001b[0m\u001b[0m\n\u001b[0m\u001b[1;32m    461\u001b[0m \u001b[0;34m\u001b[0m\u001b[0m\n\u001b[1;32m    462\u001b[0m \u001b[0;32mdef\u001b[0m \u001b[0masanyarray\u001b[0m\u001b[0;34m(\u001b[0m\u001b[0ma\u001b[0m\u001b[0;34m,\u001b[0m \u001b[0mdtype\u001b[0m\u001b[0;34m=\u001b[0m\u001b[0mNone\u001b[0m\u001b[0;34m,\u001b[0m \u001b[0morder\u001b[0m\u001b[0;34m=\u001b[0m\u001b[0mNone\u001b[0m\u001b[0;34m)\u001b[0m\u001b[0;34m:\u001b[0m\u001b[0;34m\u001b[0m\u001b[0m\n",
        "\u001b[0;31mValueError\u001b[0m: cannot set an array element with a sequence"
       ]
      }
     ],
     "prompt_number": 16
    },
    {
     "cell_type": "markdown",
     "metadata": {},
     "source": [
      "**3. Resuce patrols are dispatched by quarter.  Using the lattitude and \n",
      "longitude, create groups representing the NE, NW, SE, and SW and place\n",
      "smaller tables of just these sailors.**"
     ]
    },
    {
     "cell_type": "code",
     "collapsed": false,
     "input": [
      "quads = {'NE': [(0.0, 90.0), (0.0, 180.0)],\n",
      "         'NW': [(0.0, 90.0), (-180.0, 0.0)],\n",
      "         'SE': [(-90.0, 0.0), (0.0, 180.0)],\n",
      "         'SW': [(-90.0, 0.0), (-180.0, 0.0)],\n",
      "        }"
     ],
     "language": "python",
     "metadata": {},
     "outputs": []
    },
    {
     "cell_type": "markdown",
     "metadata": {},
     "source": [
      "**4. Rescue patrols also need up to date information on whether a not  a person is lost.  \n",
      "Create two tables (lost & found) in each of the \n",
      "four directions which approriately elliminate the lost-at-sea status.**"
     ]
    },
    {
     "cell_type": "code",
     "collapsed": false,
     "input": [],
     "language": "python",
     "metadata": {},
     "outputs": []
    },
    {
     "cell_type": "code",
     "collapsed": false,
     "input": [
      "# Remember to always close the file!\n",
      "f.close()"
     ],
     "language": "python",
     "metadata": {},
     "outputs": []
    }
   ],
   "metadata": {}
  }
 ]
}