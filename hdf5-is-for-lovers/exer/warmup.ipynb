{
 "metadata": {
  "name": "",
  "signature": "sha256:eca2bd9bae1051f5ee53bfdde2d687053f65cd95c2a9ca5958fe0fdea7e7061f"
 },
 "nbformat": 3,
 "nbformat_minor": 0,
 "worksheets": [
  {
   "cells": [
    {
     "cell_type": "code",
     "collapsed": false,
     "input": [
      "import numpy as np\n",
      "import tables as tb\n",
      "\n",
      "f = tb.open_file('temp.h5', 'w')\n",
      "heart = np.ones(42, dtype=[('rate', int), ('beat', float)])\n",
      "f.create_table('/', 'heart', heart)\n",
      "f.close()"
     ],
     "language": "python",
     "metadata": {},
     "outputs": []
    }
   ],
   "metadata": {}
  }
 ]
}