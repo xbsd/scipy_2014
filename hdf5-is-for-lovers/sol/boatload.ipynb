{
 "metadata": {
  "name": "",
  "signature": "sha256:f7b634abaf4486b83e5c59d186c1b019e5a32d20c6bca5572033e8554c62546d"
 },
 "nbformat": 3,
 "nbformat_minor": 0,
 "worksheets": [
  {
   "cells": [
    {
     "cell_type": "markdown",
     "metadata": {},
     "source": [
      "**Create a metric boatload of random people.  That's right, create a table of \n",
      "1000 random people on boats.**\n",
      "\n",
      "1. Define the description.  This should include:\n",
      "\n",
      "    * First names\n",
      "    * Last names\n",
      "    * Lattitude and longitude, together\n",
      "    * List of ships which they have sailed on, min 1 but at most 5\n",
      "    * Lost at sea status\n",
      "\n",
      "2. Use the rand_sailor function to write a table of all of these people.\n",
      "\n",
      "3. Resuce patrols are dispatched by quarter.  Using the lattitude and \n",
      "   longitude, create groups representing the NE, NW, SE, and SW and place\n",
      "   smaller tables of just these sailors.\n",
      "\n",
      "4. Rescue patrols also need up to date information on whether a not \n",
      "   a person is lost.  Create two tables (lost & found) in each of the \n",
      "   four directions which approriately elliminate the lost-at-sea status."
     ]
    },
    {
     "cell_type": "code",
     "collapsed": false,
     "input": [
      "import random\n",
      "import numpy as np\n",
      "import tables as tb\n",
      "\n",
      "with open('names.txt', 'r') as f:\n",
      "    names = f.read().split()\n",
      "    first_names = names[::2]\n",
      "    last_names = names[1::2]\n",
      "\n",
      "with open('ships.txt', 'r') as f:\n",
      "    ship_names = [s.strip() for s in f.readlines()]\n",
      "\n",
      "def rand_sailor():\n",
      "    first = random.choice(first_names)\n",
      "    last = random.choice(last_names)\n",
      "    lat_long = np.random.random((2,)) * (180.0, 360.0) - (90.0, 180.0)\n",
      "    num_ships = np.random.random_integers(1,5)\n",
      "    ships = list(np.random.choice(ship_names, num_ships, replace=False))\n",
      "    lost = bool(np.random.random_integers(0,1))\n",
      "    return first, last, lat_long, ships, lost\n",
      "\n",
      "f = tb.open_file('boatload.h5', 'w')"
     ],
     "language": "python",
     "metadata": {},
     "outputs": [],
     "prompt_number": 2
    },
    {
     "cell_type": "markdown",
     "metadata": {},
     "source": [
      "**1. Define the description.  This should include:**\n",
      "\n",
      "- First names\n",
      "- Last names\n",
      "- Lattitude and longitude, together\n",
      "- List of ships which they have sailed on, min 1 but at most 5\n",
      "- Lost at sea status"
     ]
    },
    {
     "cell_type": "code",
     "collapsed": false,
     "input": [
      "max_first_len = max([len(x) for x in first_names])\n",
      "max_last_len = max([len(x) for x in last_names])\n",
      "max_ship_len = max([len(x) for x in ship_names])\n",
      "\n",
      "desc = np.dtype([('first', 'S' + str(max_first_len)), \n",
      "                 ('last', 'S' + str(max_last_len)), \n",
      "                 ('location', [\n",
      "                    ('lat', float),\n",
      "                    ('long', float),\n",
      "                    ]),\n",
      "                 ('ships', 'S' + str(max_ship_len), (5,)),   # You can have an optional 3rd tuple = shape\n",
      "                                                             # eg., ('age', int), but also ('age', int, (5,))\n",
      "                                                             # The (5,) means that it can be max of length 5\n",
      "                 ('lost', bool),\n",
      "                ])"
     ],
     "language": "python",
     "metadata": {},
     "outputs": [],
     "prompt_number": 4
    },
    {
     "cell_type": "markdown",
     "metadata": {},
     "source": [
      "**2. Use the rand_sailor function to write a table of all of these people.**"
     ]
    },
    {
     "cell_type": "code",
     "collapsed": false,
     "input": [
      "raw_sailors = []\n",
      "for i in range(1000):\n",
      "    first, last, lat_long, ships, lost = rand_sailor()\n",
      "    ships.extend([''] * (5 - len(ships)))\n",
      "    raw_sailors.append((first, last, lat_long, ships, lost))\n",
      "sailors = np.array(raw_sailors, dtype=desc)\n",
      "\n",
      "f.create_table('/', 'sailors', sailors)"
     ],
     "language": "python",
     "metadata": {},
     "outputs": [
      {
       "metadata": {},
       "output_type": "pyout",
       "prompt_number": 5,
       "text": [
        "/sailors (Table(1000,)) ''\n",
        "  description := {\n",
        "  \"first\": StringCol(itemsize=10, shape=(), dflt='', pos=0),\n",
        "  \"last\": StringCol(itemsize=11, shape=(), dflt='', pos=1),\n",
        "  \"location\": {\n",
        "  \"lat\": Float64Col(shape=(), dflt=0.0, pos=0),\n",
        "  \"long\": Float64Col(shape=(), dflt=0.0, pos=1)},\n",
        "  \"ships\": StringCol(itemsize=11, shape=(5,), dflt='', pos=3),\n",
        "  \"lost\": BoolCol(shape=(), dflt=False, pos=4)}\n",
        "  byteorder := 'irrelevant'\n",
        "  chunkshape := (704,)"
       ]
      }
     ],
     "prompt_number": 5
    },
    {
     "cell_type": "markdown",
     "metadata": {},
     "source": [
      "**3. Resuce patrols are dispatched by quarter.  Using the lattitude and \n",
      "longitude, create groups representing the NE, NW, SE, and SW and place\n",
      "smaller tables of just these sailors.**"
     ]
    },
    {
     "cell_type": "code",
     "collapsed": false,
     "input": [
      "quads = {'NE': [(0.0, 90.0), (0.0, 180.0)],\n",
      "         'NW': [(0.0, 90.0), (-180.0, 0.0)],\n",
      "         'SE': [(-90.0, 0.0), (0.0, 180.0)],\n",
      "         'SW': [(-90.0, 0.0), (-180.0, 0.0)],\n",
      "        }\n",
      "\n",
      "for quad in quads:\n",
      "    f.create_group('/', quad)\n",
      "    lower_lat_mask = quads[quad][0][0] < sailors['location']['lat']\n",
      "    upper_lat_mask = quads[quad][0][1] > sailors['location']['lat']\n",
      "    lower_long_mask = quads[quad][1][0] < sailors['location']['long']\n",
      "    upper_long_mask = quads[quad][1][1] > sailors['location']['long']\n",
      "    mask = lower_lat_mask & upper_lat_mask & lower_long_mask & upper_long_mask\n",
      "    f.create_table('/' + quad, 'sailors', sailors[mask])\n",
      "    \n",
      "    # 4. Rescue patrols also need up to date information on whether a not \n",
      "    #    a person is lost.  Create two tables (lost & found) in each of the \n",
      "    #    four directions which approriately elliminate the lost-at-sea status.\n",
      "    lost_mask = mask & sailors['lost']\n",
      "    lost_sailors = sailors[lost_mask][['first', 'last', 'location', 'ships']]\n",
      "    f.create_table('/' + quad, 'lost', lost_sailors)\n",
      "\n",
      "    found_mask = mask & ~sailors['lost']\n",
      "    found_sailors = sailors[found_mask][['first', 'last', 'location', 'ships']]\n",
      "    f.create_table('/' + quad, 'found', found_sailors)"
     ],
     "language": "python",
     "metadata": {},
     "outputs": [],
     "prompt_number": 6
    },
    {
     "cell_type": "code",
     "collapsed": false,
     "input": [
      "# Remember to always close the file!\n",
      "f.close()"
     ],
     "language": "python",
     "metadata": {},
     "outputs": [],
     "prompt_number": 7
    },
    {
     "cell_type": "code",
     "collapsed": false,
     "input": [],
     "language": "python",
     "metadata": {},
     "outputs": []
    }
   ],
   "metadata": {}
  }
 ]
}