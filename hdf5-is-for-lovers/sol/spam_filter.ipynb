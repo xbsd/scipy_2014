{
 "metadata": {
  "name": "",
  "signature": "sha256:1ad4cb27cf865e65a419be460bd85ec7f52e3df9c99c920073300968936ace61"
 },
 "nbformat": 3,
 "nbformat_minor": 0,
 "worksheets": [
  {
   "cells": [
    {
     "cell_type": "markdown",
     "metadata": {},
     "source": [
      "**Email today is just the worst.  It seems that 3/4 of time, the message is just \n",
      "total junk while only 25% of emails are actually worthwhile.**\n",
      "\n",
      "**Somehow It is now your job to eliminate all of that spam for everyone at work, \n",
      "leaving behind only the eggy goodness. You suspect compression might be able to\n",
      "aid you in your quest.**\n",
      "\n",
      "1. Create an HDF5 file which contains a single emails array, uncompressed.  \n",
      "   Close this file and use the getsize() function to report the size on disk.\n",
      "   Time how long this took and print that out as well.\n",
      "\n",
      "2. Repeat step 1 but with zlib compression at level 1.\n",
      "\n",
      "3. Repeat step 1 but with blosc compression at level 5.\n",
      "\n",
      "4. You realize that spam is often vacuous.  What if the unwanted elements\n",
      "   weren't already tagged.  Repeat step 1, leaving the data uncompressed\n",
      "   but without filling in spam everywhere.\n",
      "\n",
      "5. Repeat step 4 but with blosc compression at level 5.\n",
      "\n",
      "6. How long does it take to read these arrays in?"
     ]
    },
    {
     "cell_type": "code",
     "collapsed": false,
     "input": [
      "from time import time\n",
      "from os.path import getsize\n",
      "\n",
      "import numpy as np\n",
      "import tables as tb\n",
      "\n",
      "def email_array(num=10000000, rate=0.75, fill=True):\n",
      "    if fill:\n",
      "        emails = np.empty(10000000, 'S4')\n",
      "        emails.fill('spam')\n",
      "    else:\n",
      "        emails = np.array([np.random.bytes(4) for x in range(num)], dtype='S4')\n",
      "    eggind = np.random.randint(0, num, int(num * (1.0 - rate)))\n",
      "    emails[eggind] = 'eggs'\n",
      "    return emails"
     ],
     "language": "python",
     "metadata": {},
     "outputs": [],
     "prompt_number": 1
    },
    {
     "cell_type": "markdown",
     "metadata": {},
     "source": [
      "**1. Create an HDF5 file which contains a single emails array, uncompressed. Close this file and use the getsize() function to report the size on disk.\n",
      "Time how long this took and print that out as well.**"
     ]
    },
    {
     "cell_type": "code",
     "collapsed": false,
     "input": [
      "NUM = 10000000\n",
      "RATE = 0.75\n",
      "emails = email_array(NUM, RATE)\n",
      "\n",
      "t = time()\n",
      "with tb.open_file('uncompressed.h5', 'w') as f:\n",
      "    earray = f.create_earray('/', 'emails', tb.StringAtom(4), (0,), expectedrows=NUM)\n",
      "    earray.append(emails)\n",
      "tdelta = time() - t\n",
      "\n",
      "msg = \"The uncompressed array is {0} bytes and took {1} ms to write.\"\n",
      "print(msg.format(getsize('uncompressed.h5'), tdelta * 1000))"
     ],
     "language": "python",
     "metadata": {},
     "outputs": [
      {
       "output_type": "stream",
       "stream": "stdout",
       "text": [
        "The uncompressed array is 40124424 bytes and took 105.517148972 ms to write.\n"
       ]
      }
     ],
     "prompt_number": 2
    },
    {
     "cell_type": "markdown",
     "metadata": {},
     "source": [
      "**2. Repeat step 1 but with zlib compression at level 1.**"
     ]
    },
    {
     "cell_type": "code",
     "collapsed": false,
     "input": [
      "filters = tb.Filters(complib='zlib', complevel=1)\n",
      "\n",
      "t = time()\n",
      "with tb.open_file('zlib1.h5', 'w') as f:\n",
      "    earray = f.create_earray('/', 'emails', tb.StringAtom(4), (0,), \n",
      "                            filters=filters, expectedrows=NUM)\n",
      "    earray.append(emails)\n",
      "tdelta = time() - t\n",
      "\n",
      "msg = \"The zlib1 array is {0} bytes and took {1} ms to write.\"\n",
      "print(msg.format(getsize('zlib1.h5'), tdelta * 1000))"
     ],
     "language": "python",
     "metadata": {},
     "outputs": [
      {
       "output_type": "stream",
       "stream": "stdout",
       "text": [
        "The zlib1 array is 7957212 bytes and took 744.393110275 ms to write.\n"
       ]
      }
     ],
     "prompt_number": 3
    },
    {
     "cell_type": "markdown",
     "metadata": {},
     "source": [
      "**3. Repeat step 1 but with blosc compression at level 5.**"
     ]
    },
    {
     "cell_type": "code",
     "collapsed": false,
     "input": [
      "filters = tb.Filters(complib='blosc', complevel=5)\n",
      "\n",
      "t = time()\n",
      "with tb.open_file('blosc5.h5', 'w') as f:\n",
      "    earray = f.create_earray('/', 'emails', tb.StringAtom(4), (0,), \n",
      "                            filters=filters, expectedrows=NUM)\n",
      "    earray.append(emails)\n",
      "tdelta = time() - t\n",
      "\n",
      "msg = \"The blosc5 array is {0} bytes and took {1} ms to write.\"\n",
      "print(msg.format(getsize('blosc5.h5'), tdelta * 1000))"
     ],
     "language": "python",
     "metadata": {},
     "outputs": [
      {
       "output_type": "stream",
       "stream": "stdout",
       "text": [
        "The blosc5 array is 16222932 bytes and took 161.879777908 ms to write.\n"
       ]
      }
     ],
     "prompt_number": 5
    },
    {
     "cell_type": "markdown",
     "metadata": {},
     "source": [
      "**4. You realize that spam is often vacuous.  What if the unwanted elements\n",
      "weren't already tagged.  Repeat step 1, leaving the data uncompressed\n",
      "but without filling in spam everywhere.**"
     ]
    },
    {
     "cell_type": "code",
     "collapsed": false,
     "input": [
      "emails = email_array(NUM, RATE, False)\n",
      "\n",
      "t = time()\n",
      "with tb.open_file('unfilled.h5', 'w') as f:\n",
      "    earray = f.create_earray('/', 'emails', tb.StringAtom(4), (0,), expectedrows=NUM)\n",
      "    earray.append(emails)\n",
      "tdelta = time() - t\n",
      "\n",
      "msg = \"The unfilled array is {0} bytes and took {1} ms to write.\"\n",
      "print(msg.format(getsize('unfilled.h5'), tdelta * 1000))"
     ],
     "language": "python",
     "metadata": {},
     "outputs": [
      {
       "output_type": "stream",
       "stream": "stdout",
       "text": [
        "The unfilled array is 40124424 bytes and took 102.332830429 ms to write.\n"
       ]
      }
     ],
     "prompt_number": 6
    },
    {
     "cell_type": "markdown",
     "metadata": {},
     "source": [
      "**5. Repeat step 4 but with blosc compression at level 5.**"
     ]
    },
    {
     "cell_type": "code",
     "collapsed": false,
     "input": [
      "filters = tb.Filters(complib='blosc', complevel=5)\n",
      "\n",
      "t = time()\n",
      "with tb.open_file('blosc5_unfilled.h5', 'w') as f:\n",
      "    earray = f.create_earray('/', 'emails', tb.StringAtom(4), (0,), \n",
      "                            filters=filters, expectedrows=NUM)\n",
      "    earray.append(emails)\n",
      "tdelta = time() - t\n",
      "\n",
      "msg = \"The blosc5_unfilled array is {0} bytes and took {1} ms to write.\"\n",
      "print(msg.format(getsize('blosc5_unfilled.h5'), tdelta * 1000))"
     ],
     "language": "python",
     "metadata": {},
     "outputs": [
      {
       "output_type": "stream",
       "stream": "stdout",
       "text": [
        "The blosc5_unfilled array is 40026796 bytes and took 161.274909973 ms to write.\n"
       ]
      }
     ],
     "prompt_number": 7
    },
    {
     "cell_type": "markdown",
     "metadata": {},
     "source": [
      "**6. How long does it take to read this data in?**"
     ]
    },
    {
     "cell_type": "code",
     "collapsed": false,
     "input": [
      "files = ['uncompressed.h5', 'zlib1.h5', 'blosc5.h5', 'unfilled.h5', 'blosc5_unfilled.h5']\n",
      "for file in files:\n",
      "    t = time()\n",
      "    with tb.open_file(file, 'r') as f:\n",
      "        emails = f.root.emails[:]\n",
      "    tdelta = time() - t\n",
      "\n",
      "    msg = \"The {0} file took {1} ms to read.\"\n",
      "    print(msg.format(file, tdelta * 1000))"
     ],
     "language": "python",
     "metadata": {},
     "outputs": [
      {
       "output_type": "stream",
       "stream": "stdout",
       "text": [
        "The uncompressed.h5 file took 48.3860969543 ms to read.\n",
        "The zlib1.h5 file took 201.84803009 ms to read."
       ]
      },
      {
       "output_type": "stream",
       "stream": "stdout",
       "text": [
        "\n",
        "The blosc5.h5 file took 128.043889999 ms to read."
       ]
      },
      {
       "output_type": "stream",
       "stream": "stdout",
       "text": [
        "\n",
        "The unfilled.h5 file took 38.5529994965 ms to read.\n",
        "The blosc5_unfilled.h5 file took 29.2789936066 ms to read."
       ]
      },
      {
       "output_type": "stream",
       "stream": "stdout",
       "text": [
        "\n"
       ]
      }
     ],
     "prompt_number": 8
    },
    {
     "cell_type": "code",
     "collapsed": false,
     "input": [],
     "language": "python",
     "metadata": {},
     "outputs": []
    }
   ],
   "metadata": {}
  }
 ]
}