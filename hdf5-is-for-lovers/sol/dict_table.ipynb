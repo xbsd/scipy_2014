{
 "metadata": {
  "name": "",
  "signature": "sha256:3cd47c072a77480a8898f16ef8049fa9d5f6f7cf9d85cf7aad6d6a401cd84561"
 },
 "nbformat": 3,
 "nbformat_minor": 0,
 "worksheets": [
  {
   "cells": [
    {
     "cell_type": "markdown",
     "metadata": {},
     "source": [
      "**Node lookup in HDF5, like chunk lookup, is done via B-tree searching. \n",
      "Finding an entry in a B-tree is an O(log(n)) operation.  Sometimes, we\n",
      "want to be faster than that.  Say O(1) --- (*cough* dict).**\n",
      "\n",
      "**Say that you have a complicated file layout: 500 arrays split randomly \n",
      "over 100 groups.  You'd rather not have to ask each group if they have a \n",
      "specific dataset, so when you create the file you also create a map of\n",
      "all datasets to the group that they are part of.**\n",
      "\n",
      "**Now wouldn't it be convenient to store this map right next to the data?!**\n",
      "\n",
      "1. Store your (id, group) map as a Table on the root node.  Close the file.\n",
      "\n",
      "2. Reopen the file read-only, recreate your dictionary from the Table, \n",
      "   and grab any array back into memory"
     ]
    },
    {
     "cell_type": "code",
     "collapsed": false,
     "input": [
      "import numpy as np\n",
      "import tables as tb\n",
      "\n",
      "# create sample data \n",
      "f = tb.open_file('dict_table.h5', 'w')\n",
      "groups = [f.create_group('/', 'grp' + str(i), \"Group \" + str(i)) for i in range(1, 101)]\n",
      "\n",
      "idmap = {}\n",
      "for i in range(1, 501):\n",
      "    id = 'id' + str(i)\n",
      "    grpi = np.random.randint(0, 100)\n",
      "    grpid = '/grp' + str(grpi + 1)\n",
      "    f.create_array(groups[grpi], id, i*np.ones(i), \"ID-\" + str(i))\n",
      "    idmap[id] = grpid"
     ],
     "language": "python",
     "metadata": {},
     "outputs": [],
     "prompt_number": 1
    },
    {
     "cell_type": "markdown",
     "metadata": {},
     "source": [
      "**1. Store your (id, group) map as a Table on the root node.  Close the file.**"
     ]
    },
    {
     "cell_type": "code",
     "collapsed": false,
     "input": [
      "idmap_array = np.array(sorted(idmap.items()), dtype=[('id', 'S8'), ('group', 'S8')])\n",
      "f.create_table('/', 'idmap', idmap_array, \"ID-Group Map\")\n",
      "f.close()"
     ],
     "language": "python",
     "metadata": {},
     "outputs": [],
     "prompt_number": 2
    },
    {
     "cell_type": "markdown",
     "metadata": {},
     "source": [
      "**2. Reopen the file read-only, recreate your dictionary from the Table, and grab any array back into memory**"
     ]
    },
    {
     "cell_type": "code",
     "collapsed": false,
     "input": [
      "f = tb.openFile('dict_table.h5', 'r')\n",
      "\n",
      "# reinstate dict\n",
      "newidmap = dict(f.root.idmap.read())\n",
      "#print \"idmap:\", newidmap\n",
      "\n",
      "# get id42\n",
      "id42 = f.get_node(idmap['id42'], 'id42')\n",
      "print(\"id42:\", id42.read())\n",
      "\n",
      "f.close()"
     ],
     "language": "python",
     "metadata": {},
     "outputs": [
      {
       "output_type": "stream",
       "stream": "stdout",
       "text": [
        "id42: [ 42.  42.  42.  42.  42.  42.  42.  42.  42.  42.  42.  42.  42.  42.  42.\n",
        "  42.  42.  42.  42.  42.  42.  42.  42.  42.  42.  42.  42.  42.  42.  42.\n",
        "  42.  42.  42.  42.  42.  42.  42.  42.  42.  42.  42.  42.]\n"
       ]
      }
     ],
     "prompt_number": 3
    }
   ],
   "metadata": {}
  }
 ]
}