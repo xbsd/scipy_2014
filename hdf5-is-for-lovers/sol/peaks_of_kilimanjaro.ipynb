{
 "metadata": {
  "name": "",
  "signature": "sha256:5db20ea18461fd4e63a2295835a06e60283615795a72b48adece3958de2e8204"
 },
 "nbformat": 3,
 "nbformat_minor": 0,
 "worksheets": [
  {
   "cells": [
    {
     "cell_type": "markdown",
     "metadata": {},
     "source": [
      "**Your brother is going on an expidition to build a bridge between the two\n",
      "peaks of Mount Kilimanjaro.  He needs you to create a database of information \n",
      "about the team.  This needs to include:**\n",
      "\n",
      "I. A table of critical team member information.\n",
      "\n",
      "II. An array of oxygen depravation fraction (to be filled in later)\n",
      "    for everyone team member for each of the million steps up the mountain.\n",
      "\n",
      "The info he has about the team is their first name, last name, age, and \n",
      "whether they are alive or not.\n",
      "\n",
      "Suddenly, he has forgotten every other team member's name!  \n",
      "\n",
      "III. Please read these off for him, but only if they are alive\n",
      "\n",
      "Careful out there!"
     ]
    },
    {
     "cell_type": "code",
     "collapsed": false,
     "input": [
      "import numpy as np\n",
      "import tables as tb\n",
      "\n",
      "team = [('Flavia',   'Jacquin',   21, True),\n",
      "        ('Michal',   'Ards',       7, True),\n",
      "        ('Madaline', 'Herta',     25, True), \n",
      "        ('Ike',      'Jerding',    3, True),\n",
      "        ('Winford',  'Bergenty',  59, True),\n",
      "        ('Fernanda', 'Leuze',     51, True),\n",
      "        ('Larae',    'Dalaq',     44, False),\n",
      "        ('Ema',      'Czyrnik',   51, True),\n",
      "        ('Britt',    'Housemate', 32, False),\n",
      "        ('Eldridge', 'Lerow',     72, False),\n",
      "        ]\n",
      "\n",
      "f = tb.open_file('expidition.h5', 'w')"
     ],
     "language": "python",
     "metadata": {},
     "outputs": [],
     "prompt_number": 1
    },
    {
     "cell_type": "code",
     "collapsed": false,
     "input": [
      "# 1.\n",
      "teamdt = np.dtype([('first', 'S10'), ('last', 'S10'), \n",
      "                   ('age', int), ('alive', bool)])\n",
      "team = np.array(team, dtype=teamdt)\n",
      "f.create_table('/', 'team', team)"
     ],
     "language": "python",
     "metadata": {},
     "outputs": [
      {
       "metadata": {},
       "output_type": "pyout",
       "prompt_number": 2,
       "text": [
        "/team (Table(10,)) ''\n",
        "  description := {\n",
        "  \"first\": StringCol(itemsize=10, shape=(), dflt='', pos=0),\n",
        "  \"last\": StringCol(itemsize=10, shape=(), dflt='', pos=1),\n",
        "  \"age\": Int64Col(shape=(), dflt=0, pos=2),\n",
        "  \"alive\": BoolCol(shape=(), dflt=False, pos=3)}\n",
        "  byteorder := 'little'\n",
        "  chunkshape := (2259,)"
       ]
      }
     ],
     "prompt_number": 2
    },
    {
     "cell_type": "code",
     "collapsed": false,
     "input": [
      "# 2.\n",
      "shape = (len(team), 1000000)\n",
      "o2dep = np.zeros(shape, float) \n",
      "f.create_array('/', 'o2dep', o2dep, \"help I can't breathe!\")\n",
      "f.flush()"
     ],
     "language": "python",
     "metadata": {},
     "outputs": [],
     "prompt_number": 3
    },
    {
     "cell_type": "code",
     "collapsed": false,
     "input": [
      "# 3.\n",
      "for first, last, age, alive in f.root.team[::2]:\n",
      "    if alive:\n",
      "        print(first, last)\n",
      "\n",
      "f.close()"
     ],
     "language": "python",
     "metadata": {},
     "outputs": [
      {
       "output_type": "stream",
       "stream": "stdout",
       "text": [
        "('Flavia', 'Jacquin')\n",
        "('Madaline', 'Herta')\n",
        "('Winford', 'Bergenty')\n"
       ]
      }
     ],
     "prompt_number": 4
    },
    {
     "cell_type": "code",
     "collapsed": false,
     "input": [
      "f = tb.open_file('expidition.h5', 'r')"
     ],
     "language": "python",
     "metadata": {},
     "outputs": [],
     "prompt_number": 5
    },
    {
     "cell_type": "code",
     "collapsed": false,
     "input": [
      "f.root.team[:]"
     ],
     "language": "python",
     "metadata": {},
     "outputs": [
      {
       "metadata": {},
       "output_type": "pyout",
       "prompt_number": 9,
       "text": [
        "array([('Flavia', 'Jacquin', 21, True), ('Michal', 'Ards', 7, True),\n",
        "       ('Madaline', 'Herta', 25, True), ('Ike', 'Jerding', 3, True),\n",
        "       ('Winford', 'Bergenty', 59, True), ('Fernanda', 'Leuze', 51, True),\n",
        "       ('Larae', 'Dalaq', 44, False), ('Ema', 'Czyrnik', 51, True),\n",
        "       ('Britt', 'Housemate', 32, False), ('Eldridge', 'Lerow', 72, False)], \n",
        "      dtype=[('first', 'S10'), ('last', 'S10'), ('age', '<i8'), ('alive', '?')])"
       ]
      }
     ],
     "prompt_number": 9
    },
    {
     "cell_type": "code",
     "collapsed": false,
     "input": [],
     "language": "python",
     "metadata": {},
     "outputs": []
    }
   ],
   "metadata": {}
  }
 ]
}