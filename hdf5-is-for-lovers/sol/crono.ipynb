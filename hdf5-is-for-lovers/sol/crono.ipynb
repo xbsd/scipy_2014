{
 "metadata": {
  "name": "",
  "signature": "sha256:fb52f057956212075960c5a8f34dc909bcc8307813035873492b5584b5561d8c"
 },
 "nbformat": 3,
 "nbformat_minor": 0,
 "worksheets": [
  {
   "cells": [
    {
     "cell_type": "markdown",
     "metadata": {},
     "source": [
      "**Your friend Crono has been murdered by the mighty demon Lavos!\n",
      "Luckily, you have a time machine, the good ship Epoch.  You and \n",
      "your friends hatch a scheme to save him by replacing him with a \n",
      "doll that looks just like him.**\n",
      "\n",
      "**Unfortunately Crono had the time machine too and you are not exactly \n",
      "sure when he died.  Thankfully the Epoch's logs keep a record of \n",
      "who visited which time periods.**\n",
      "\n",
      "**To save Crono, and foil the plans of Lavos, you must:**\n",
      "\n",
      "1. Seach through the ship's log and print all of the\n",
      "   times Crono was alive.\n",
      "\n",
      "2. Figure out if you ever left Crono alone, and if so, when?\n",
      "   Write these time out to a separate table with fully reading\n",
      "   the log into memory.\n",
      "\n",
      "3. Send three friends into the fray to help Crono out in \n",
      "   his time of need.\n",
      "\n",
      "4. Who are Crono's best friends?  Who are his worst?  Judge \n",
      "   based on the amount of time they spend with him."
     ]
    },
    {
     "cell_type": "code",
     "collapsed": false,
     "input": [
      "import numpy as np\n",
      "import tables as tb\n",
      "\n",
      "import _epoch_log\n",
      "_epoch_log.make_log()\n",
      "\n",
      "friends = ['marle', 'lucca', 'frog', 'robo', 'ayla', 'magus']\n",
      "\n",
      "f = tb.open_file('epoch_log.h5', 'a')"
     ],
     "language": "python",
     "metadata": {},
     "outputs": [],
     "prompt_number": 1
    },
    {
     "cell_type": "markdown",
     "metadata": {},
     "source": [
      "**1. Seach through the ship's log and print all of the times Crono was alive.**"
     ]
    },
    {
     "cell_type": "code",
     "collapsed": false,
     "input": [
      "crono_alive = f.root.log.read_where('crono', field='timestamp')\n",
      "print(\"Crono was alive at:\\n\", crono_alive, '\\n')"
     ],
     "language": "python",
     "metadata": {},
     "outputs": [
      {
       "output_type": "stream",
       "stream": "stdout",
       "text": [
        "Crono was alive at:\n",
        " [ -3.78682800e+11  -3.78682714e+11  -3.78682627e+11 ...,   7.26122540e+10\n",
        "   7.26123404e+10   7.26124269e+10] \n",
        "\n"
       ]
      }
     ],
     "prompt_number": 2
    },
    {
     "cell_type": "markdown",
     "metadata": {},
     "source": [
      "**2. Figure out if you ever left Crono alone, and if so, when?\n",
      "Write these time out to a separate table with fully reading\n",
      "the log into memory.**"
     ]
    },
    {
     "cell_type": "code",
     "collapsed": false,
     "input": [
      "crono_alone = f.create_table('/', 'crono_alone', f.root.log.description)\n",
      "alone_cond = \"crono & ~\" + \" & ~\".join(friends)\n",
      "f.root.log.append_where(crono_alone, alone_cond)\n",
      "\n",
      "if 0 < len(crono_alone):\n",
      "    print(\"Oh no! Crono was left alone...\\n\")\n",
      "else:\n",
      "    print(\"Great! Crono always had backup!\")"
     ],
     "language": "python",
     "metadata": {},
     "outputs": [
      {
       "output_type": "stream",
       "stream": "stdout",
       "text": [
        "Oh no! Crono was left alone...\n",
        "\n"
       ]
      }
     ],
     "prompt_number": 3
    },
    {
     "cell_type": "markdown",
     "metadata": {},
     "source": [
      "**3. Send three friends into the fray to help Crono out in \n",
      "his time of need.**"
     ]
    },
    {
     "cell_type": "code",
     "collapsed": false,
     "input": [
      "for row in f.root.log.where(alone_cond):\n",
      "    row['lucca'] = True\n",
      "    row['frog'] = True\n",
      "    row['magus'] = True\n",
      "    row.update()\n",
      "f.root.log.flush()"
     ],
     "language": "python",
     "metadata": {},
     "outputs": [],
     "prompt_number": 4
    },
    {
     "cell_type": "markdown",
     "metadata": {},
     "source": [
      "**4. Who are Crono's best friends?  Who are his worst?  Judge \n",
      "based on the amount of time they spend with him.**"
     ]
    },
    {
     "cell_type": "code",
     "collapsed": false,
     "input": [
      "time_together = {}\n",
      "for friend in friends:\n",
      "    inds = f.root.log.get_where_list(\"crono & \" + friend)\n",
      "    time_together[friend] = len(inds)\n",
      "\n",
      "besties = sorted(time_together.items(), reverse=True, key=lambda x: x[1])\n",
      "print(\"Best friend: \", besties[0][0])\n",
      "print(\"Worst friend: \", besties[-1][0])\n",
      "\n",
      "f.close()"
     ],
     "language": "python",
     "metadata": {},
     "outputs": [
      {
       "output_type": "stream",
       "stream": "stdout",
       "text": [
        "Best friend:  frog\n",
        "Worst friend:  robo\n"
       ]
      }
     ],
     "prompt_number": 5
    }
   ],
   "metadata": {}
  }
 ]
}